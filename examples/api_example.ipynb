{
 "cells": [
  {
   "cell_type": "markdown",
   "metadata": {},
   "source": [
    "# Using a Data [Application Programming Interface](https://en.wikipedia.org/wiki/Application_programming_interface): Remotely Accessing [BLS Data](https://www.bls.gov/developers/) hello\n"
   ]
  },
  {
   "cell_type": "markdown",
   "metadata": {},
   "source": [
    "As mentioned in the lecture, we can use data APIs to capture data from remote servers operated by data providers. To capture this data, we need to send a [`GET`](https://en.wikipedia.org/wiki/Hypertext_Transfer_Protocol#Request_methods) request to the BLS server. The `GET` request, formulated as a [URL](https://en.wikipedia.org/wiki/URL) must contain all of the information needed to fully specify the data we would like to retrieve. The URL below is an example of a fully formed request (*for version 1.0* of the API):\n",
    "\n",
    "`https://api.bls.gov/publicAPI/v1/timeseries/data/CFU0000008000`"
   ]
  },
  {
   "cell_type": "code",
   "execution_count": 1,
   "metadata": {
    "collapsed": false
   },
   "outputs": [
    {
     "name": "stdout",
     "output_type": "stream",
     "text": [
      "<iframe src=https://api.bls.gov/publicAPI/v1/timeseries/data/CFU0000008000 width=1000 height=100></iframe>\n"
     ]
    },
    {
     "data": {
      "text/html": [
       "<iframe src=https://api.bls.gov/publicAPI/v1/timeseries/data/CFU0000008000 width=1000 height=100></iframe>"
      ],
      "text/plain": [
       "<IPython.core.display.HTML object>"
      ]
     },
     "execution_count": 1,
     "metadata": {},
     "output_type": "execute_result"
    }
   ],
   "source": [
    "# Methods for display of arbitrary HTML\n",
    "from IPython.display import HTML\n",
    "\n",
    "# Methods for capture of secure info (like registration keys)\n",
    "import getpass\n",
    "\n",
    "# Methods for capture of data returned by GET request\n",
    "import requests\n",
    "\n",
    "# Methods for turning API result into pandas DataFrame\n",
    "import json\n",
    "import numpy as np\n",
    "import pandas as pd\n",
    "\n",
    "# Methods for plotting\n",
    "import bokeh.plotting as bp\n",
    "\n",
    "# Display result in an iframe\n",
    "def show_iframe(url, height=400, width=1000):\n",
    "    display_string = '<iframe src={url} width={w} height={h}></iframe>'.format(url=url, w=width, h=height)\n",
    "    print(display_string)\n",
    "    return HTML(display_string)\n",
    "\n",
    "show_iframe('https://api.bls.gov/publicAPI/v1/timeseries/data/CFU0000008000', height=100)"
   ]
  },
  {
   "cell_type": "markdown",
   "metadata": {},
   "source": [
    "If you were to paste that URL into a browser, you would see the output contained in the [`iframe`](https://developer.mozilla.org/en-US/docs/Web/HTML/Element/iframe). There are a couple things to note here:\n",
    "\n",
    "1. The data returned are not in tabular format. [JavaScript Object Notation](https://www.json.org/) (JSON) is often used when passing information over the internet because it is lightweight.\n",
    "2. We only specified the data category (`timeseries`) and the data series (`CFU0000008000`) in the `GET` request. The other elements (e.g. years and periodicity) are the defaults.\n",
    "3. We built the entire `iframe` string via [string interpolation](https://dbader.org/blog/python-string-formatting).\n",
    "4. We just embedded arbitrary [Hypertext Markup Language](https://developer.mozilla.org/en-US/docs/Learn/HTML/Introduction_to_HTML) (HTML) directly into our analytic environment (the [Jupyter Notebook](https://github.com/jupyter/notebook)).  This is pretty sweet."
   ]
  },
  {
   "cell_type": "markdown",
   "metadata": {},
   "source": [
    "## Using the BLS API\n",
    "### Get the Registration Key"
   ]
  },
  {
   "cell_type": "markdown",
   "metadata": {},
   "source": [
    "While we did execute the last query with v1.0 of the API, v2.0 provides [a wider range of series](https://www.bls.gov/developers/). To use it, however, we need to get a registration key that must be embedded inside of our query. This is a reasonably common approach to API management, insofar as it allows the provider to better balance the loads across user requests. To get your key, travel to the [registration page](https://data.bls.gov/registrationEngine/) and fill out the form."
   ]
  },
  {
   "cell_type": "code",
   "execution_count": 2,
   "metadata": {
    "collapsed": false
   },
   "outputs": [
    {
     "name": "stdout",
     "output_type": "stream",
     "text": [
      "<iframe src=https://data.bls.gov/registrationEngine/ width=1000 height=400></iframe>\n"
     ]
    },
    {
     "data": {
      "text/html": [
       "<iframe src=https://data.bls.gov/registrationEngine/ width=1000 height=400></iframe>"
      ],
      "text/plain": [
       "<IPython.core.display.HTML object>"
      ]
     },
     "execution_count": 2,
     "metadata": {},
     "output_type": "execute_result"
    }
   ],
   "source": [
    "show_iframe('https://data.bls.gov/registrationEngine/')"
   ]
  },
  {
   "cell_type": "markdown",
   "metadata": {},
   "source": [
    "Upon completing the form, you will get your key via email. We can store it in a variable so that it is not visibly hard coded."
   ]
  },
  {
   "cell_type": "code",
   "execution_count": 3,
   "metadata": {
    "collapsed": false
   },
   "outputs": [
    {
     "name": "stdout",
     "output_type": "stream",
     "text": [
      "Enter Registration Key: ········\n"
     ]
    }
   ],
   "source": [
    "# Capture key\n",
    "reg_key = getpass.getpass('Enter Registration Key: ')"
   ]
  },
  {
   "cell_type": "markdown",
   "metadata": {},
   "source": [
    "### Define the Series Identifier"
   ]
  },
  {
   "cell_type": "markdown",
   "metadata": {},
   "source": [
    "There is no general catalog of all available series provided by BLS, but there is a resource that provides [identifier formats by data program](https://www.bls.gov/help/hlpforma.htm). "
   ]
  },
  {
   "cell_type": "code",
   "execution_count": 4,
   "metadata": {
    "collapsed": false
   },
   "outputs": [
    {
     "name": "stdout",
     "output_type": "stream",
     "text": [
      "<iframe src=https://www.bls.gov/help/hlpforma.htm#CX width=1000 height=400></iframe>\n"
     ]
    },
    {
     "data": {
      "text/html": [
       "<iframe src=https://www.bls.gov/help/hlpforma.htm#CX width=1000 height=400></iframe>"
      ],
      "text/plain": [
       "<IPython.core.display.HTML object>"
      ]
     },
     "execution_count": 4,
     "metadata": {},
     "output_type": "execute_result"
    }
   ],
   "source": [
    "show_iframe('https://www.bls.gov/help/hlpforma.htm#CX', height=400)"
   ]
  },
  {
   "cell_type": "markdown",
   "metadata": {},
   "source": [
    "Suppose we wanted to capture unadjusted, average expenditures on healthcare by folks in the lowest income quintile over the 2012-2016 time period.  First, we need the series ID components:\n",
    "\n",
    "`Prefix = CX`\n",
    "\n",
    "`Seasonal Adjustment = U`\n",
    "\n",
    "`Item = HEALTH`\n",
    "\n",
    "`Demographic = LB01`\n",
    "\n",
    "`Characteristic = 02`\n",
    "\n",
    "`Process = M`\n",
    "\n",
    "The series ID is then `CXUHEALTHLB0102M`."
   ]
  },
  {
   "cell_type": "markdown",
   "metadata": {},
   "source": [
    "### Make `GET` Request"
   ]
  },
  {
   "cell_type": "code",
   "execution_count": 5,
   "metadata": {
    "collapsed": false
   },
   "outputs": [
    {
     "data": {
      "text/plain": [
       "'c_1'"
      ]
     },
     "execution_count": 5,
     "metadata": {},
     "output_type": "execute_result"
    }
   ],
   "source": [
    "'{a}_{b}'.format(a='c', b=1)"
   ]
  },
  {
   "cell_type": "code",
   "execution_count": 7,
   "metadata": {
    "collapsed": false
   },
   "outputs": [
    {
     "data": {
      "text/plain": [
       "{'Results': {'series': [{'data': [{'footnotes': [{}],\n",
       "      'period': 'A01',\n",
       "      'periodName': 'Annual',\n",
       "      'value': '2156',\n",
       "      'year': '2016'},\n",
       "     {'footnotes': [{}],\n",
       "      'period': 'A01',\n",
       "      'periodName': 'Annual',\n",
       "      'value': '1930',\n",
       "      'year': '2015'},\n",
       "     {'footnotes': [{}],\n",
       "      'period': 'A01',\n",
       "      'periodName': 'Annual',\n",
       "      'value': '1868',\n",
       "      'year': '2014'},\n",
       "     {'footnotes': [{}],\n",
       "      'period': 'A01',\n",
       "      'periodName': 'Annual',\n",
       "      'value': '1790',\n",
       "      'year': '2013'},\n",
       "     {'footnotes': [{}],\n",
       "      'period': 'A01',\n",
       "      'periodName': 'Annual',\n",
       "      'value': '1677',\n",
       "      'year': '2012'}],\n",
       "    'seriesID': 'CXUHEALTHLB0102M'}]},\n",
       " 'message': [],\n",
       " 'responseTime': 59,\n",
       " 'status': 'REQUEST_SUCCEEDED'}"
      ]
     },
     "execution_count": 7,
     "metadata": {},
     "output_type": "execute_result"
    }
   ],
   "source": [
    "# Build series\n",
    "series = ['CXUHEALTHLB0102M']\n",
    "\n",
    "def capture_request(series, start, end, key=reg_key):\n",
    "    # Capture content type of request\n",
    "    headers = {'Content-type': 'application/json'}\n",
    "    \n",
    "    # Cast data request as JSON\n",
    "    data = json.dumps({\n",
    "        \"seriesid\": series,\n",
    "        \"startyear\":str(start),\n",
    "        \"endyear\":str(end),\n",
    "        \"registrationkey\":str(key)\n",
    "    })\n",
    "    \n",
    "    # Request data\n",
    "    p = requests.post('https://api.bls.gov/publicAPI/v2/timeseries/data/', data=data, headers=headers)\n",
    "    return json.loads(p.text)\n",
    "\n",
    "# Capture and display JSON representation of the data\n",
    "json_data = capture_request(series, 2012, 2016)\n",
    "\n",
    "json_data"
   ]
  },
  {
   "cell_type": "markdown",
   "metadata": {},
   "source": [
    "### Convert to [DataFrame](https://pandas.pydata.org/pandas-docs/stable/dsintro.html#dataframe) and Plot"
   ]
  },
  {
   "cell_type": "markdown",
   "metadata": {},
   "source": [
    "It is much easier to work with and plot data in tabular format. We can get there by converting the data, currently represented as a list of [dictionaries](https://docs.python.org/3/tutorial/datastructures.html#dictionaries) a few layers down in the JSON object, into a [pandas](https://pandas.pydata.org/) DataFrame."
   ]
  },
  {
   "cell_type": "code",
   "execution_count": 8,
   "metadata": {
    "collapsed": false
   },
   "outputs": [
    {
     "name": "stdout",
     "output_type": "stream",
     "text": [
      "  footnotes period periodName value  year\n",
      "0      [{}]    A01     Annual  2156  2016\n",
      "1      [{}]    A01     Annual  1930  2015\n",
      "2      [{}]    A01     Annual  1868  2014\n",
      "3      [{}]    A01     Annual  1790  2013\n",
      "4      [{}]    A01     Annual  1677  2012\n"
     ]
    },
    {
     "data": {
      "text/html": [
       "<div>\n",
       "<style scoped>\n",
       "    .dataframe tbody tr th:only-of-type {\n",
       "        vertical-align: middle;\n",
       "    }\n",
       "\n",
       "    .dataframe tbody tr th {\n",
       "        vertical-align: top;\n",
       "    }\n",
       "\n",
       "    .dataframe thead th {\n",
       "        text-align: right;\n",
       "    }\n",
       "</style>\n",
       "<table border=\"1\" class=\"dataframe\">\n",
       "  <thead>\n",
       "    <tr style=\"text-align: right;\">\n",
       "      <th></th>\n",
       "      <th>value</th>\n",
       "    </tr>\n",
       "    <tr>\n",
       "      <th>year</th>\n",
       "      <th></th>\n",
       "    </tr>\n",
       "  </thead>\n",
       "  <tbody>\n",
       "    <tr>\n",
       "      <th>2012</th>\n",
       "      <td>1677</td>\n",
       "    </tr>\n",
       "    <tr>\n",
       "      <th>2013</th>\n",
       "      <td>1790</td>\n",
       "    </tr>\n",
       "    <tr>\n",
       "      <th>2014</th>\n",
       "      <td>1868</td>\n",
       "    </tr>\n",
       "    <tr>\n",
       "      <th>2015</th>\n",
       "      <td>1930</td>\n",
       "    </tr>\n",
       "    <tr>\n",
       "      <th>2016</th>\n",
       "      <td>2156</td>\n",
       "    </tr>\n",
       "  </tbody>\n",
       "</table>\n",
       "</div>"
      ],
      "text/plain": [
       "      value\n",
       "year       \n",
       "2012   1677\n",
       "2013   1790\n",
       "2014   1868\n",
       "2015   1930\n",
       "2016   2156"
      ]
     },
     "execution_count": 8,
     "metadata": {},
     "output_type": "execute_result"
    }
   ],
   "source": [
    "# Convert to DF\n",
    "df_data = pd.DataFrame(json_data['Results']['series'][0]['data'])\n",
    "print(df_data)\n",
    "\n",
    "# Retain only the values and years (convert both values to int)\n",
    "df_sub = df_data[['year', 'value']].astype(int)\n",
    "\n",
    "# Set year to index\n",
    "df_sub.set_index('year', inplace=True)\n",
    "\n",
    "# Sort index\n",
    "df_sub.sort_index(inplace=True)\n",
    "\n",
    "df_sub"
   ]
  },
  {
   "cell_type": "code",
   "execution_count": 9,
   "metadata": {
    "collapsed": false
   },
   "outputs": [
    {
     "data": {
      "text/html": [
       "<div>\n",
       "<style scoped>\n",
       "    .dataframe tbody tr th:only-of-type {\n",
       "        vertical-align: middle;\n",
       "    }\n",
       "\n",
       "    .dataframe tbody tr th {\n",
       "        vertical-align: top;\n",
       "    }\n",
       "\n",
       "    .dataframe thead th {\n",
       "        text-align: right;\n",
       "    }\n",
       "</style>\n",
       "<table border=\"1\" class=\"dataframe\">\n",
       "  <thead>\n",
       "    <tr style=\"text-align: right;\">\n",
       "      <th></th>\n",
       "      <th>value</th>\n",
       "    </tr>\n",
       "    <tr>\n",
       "      <th>year</th>\n",
       "      <th></th>\n",
       "    </tr>\n",
       "  </thead>\n",
       "  <tbody>\n",
       "    <tr>\n",
       "      <th>2014</th>\n",
       "      <td>1868</td>\n",
       "    </tr>\n",
       "    <tr>\n",
       "      <th>2015</th>\n",
       "      <td>1930</td>\n",
       "    </tr>\n",
       "  </tbody>\n",
       "</table>\n",
       "</div>"
      ],
      "text/plain": [
       "      value\n",
       "year       \n",
       "2014   1868\n",
       "2015   1930"
      ]
     },
     "execution_count": 9,
     "metadata": {},
     "output_type": "execute_result"
    }
   ],
   "source": [
    "df_sub.loc[2014:2015]"
   ]
  },
  {
   "cell_type": "markdown",
   "metadata": {},
   "source": [
    "Now that we have our data in hand, we can plot the result."
   ]
  },
  {
   "cell_type": "code",
   "execution_count": 14,
   "metadata": {
    "collapsed": false
   },
   "outputs": [
    {
     "name": "stdout",
     "output_type": "stream",
     "text": [
      "<iframe src=figs/bls_api_fig.html width=550 height=350></iframe>\n"
     ]
    },
    {
     "data": {
      "text/html": [
       "<iframe src=figs/bls_api_fig.html width=550 height=350></iframe>"
      ],
      "text/plain": [
       "<IPython.core.display.HTML object>"
      ]
     },
     "execution_count": 14,
     "metadata": {},
     "output_type": "execute_result"
    }
   ],
   "source": [
    "# Create file path to hold figure we are about to make\n",
    "bp.output_file('figs/bls_api_fig.html')\n",
    "\n",
    "# Create plotting figure\n",
    "fig = bp.figure(plot_width=500, plot_height=300)\n",
    "\n",
    "# Add a line to the figure\n",
    "fig.line(df_sub.index, df_sub['value'], line_width=3, color='#890d13')\n",
    "\n",
    "# Annotate plot\n",
    "fig.title.text = \"Health Expenditures for Q1 Consumers Have Increased\"\n",
    "fig.xaxis.axis_label = \"Year\"\n",
    "fig.yaxis.axis_label = \"Health Expenditures\"\n",
    "\n",
    "\n",
    "# Show the figure\n",
    "bp.save(fig)\n",
    "\n",
    "show_iframe('figs/bls_api_fig.html', width=550, height=350)"
   ]
  },
  {
   "cell_type": "code",
   "execution_count": null,
   "metadata": {
    "collapsed": true
   },
   "outputs": [],
   "source": []
  }
 ],
 "metadata": {
  "kernelspec": {
   "display_name": "Python 3",
   "language": "python",
   "name": "python3"
  },
  "language_info": {
   "codemirror_mode": {
    "name": "ipython",
    "version": 3
   },
   "file_extension": ".py",
   "mimetype": "text/x-python",
   "name": "python",
   "nbconvert_exporter": "python",
   "pygments_lexer": "ipython3",
   "version": "3.6.0"
  }
 },
 "nbformat": 4,
 "nbformat_minor": 2
}
