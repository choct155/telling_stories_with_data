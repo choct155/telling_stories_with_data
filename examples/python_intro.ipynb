{
 "cells": [
  {
   "cell_type": "markdown",
   "metadata": {},
   "source": [
    "# Introduction to Programming (with Python!)"
   ]
  },
  {
   "cell_type": "markdown",
   "metadata": {},
   "source": [
    "Now that you have seen something useful (our BLS API example), we will take the time to back up and cover some fundamentals. This notebook will cover some basic programming concepts, but do note that it is a poor substitute for the spectacular (and interactive) [How to Think Like a Computer Scientist](http://interactivepython.org/runestone/static/thinkcspy/index.html). Let's dive in..."
   ]
  },
  {
   "cell_type": "markdown",
   "metadata": {},
   "source": [
    "In this programming introduction, we will cover the following topics:\n",
    "\n",
    "1. Programming Environments\n",
    "2. The Standard Library\n",
    "3. Modules\n",
    "4. Hello World!\n",
    "5. Data Types\n",
    "6. Variables\n",
    "7. Errors\n",
    "8. Collections\n",
    "9. Control Flow\n",
    "10. Functions\n",
    "11. Iterations\n",
    "12. Input/Output"
   ]
  },
  {
   "cell_type": "code",
   "execution_count": 1,
   "metadata": {},
   "outputs": [],
   "source": [
    "from IPython.display import HTML, display, SVG\n",
    "\n",
    "# Define function to allow us to display charts in an iframe\n",
    "def show_iframe(url, iheight=400, iwidth=1000):\n",
    "    display_string = '<iframe src={url} width={w} height={h}></iframe>'.format(url=url, w=iwidth, h=iheight)\n",
    "    print(display_string)\n",
    "    return HTML(display_string)"
   ]
  },
  {
   "cell_type": "markdown",
   "metadata": {},
   "source": [
    "## Programming Environments"
   ]
  },
  {
   "cell_type": "markdown",
   "metadata": {},
   "source": [
    "[Programming environments](https://en.wikipedia.org/wiki/Integrated_development_environment) are not languages themselves, but rather tools that are available to the user to facilitate writing and executing code. This very Notebook is a programming environment.  Python, coupled with the resources of the IPython and Jupyter projects, makes code execution in a variety of ways:\n",
    "\n",
    "+ At the command line (a.k.a. shell) via a [REPL](https://en.wikipedia.org/wiki/Read%E2%80%93eval%E2%80%93print_loop) (just discovered this [cool online REPL tool](https://repl.it/))\n",
    "+ In an enhanced REPL called the [Qt Console](https://ipython.org/ipython-doc/3/interactive/qtconsole.html), which allows inline plotting\n",
    "+ Execution of a script at the command line (e.g. `python some_script.py`)\n",
    "+ Inside a Jupyter Notebook (like this one)\n",
    "\n",
    "Jupyter Lab is an environment that houses all of these options, and allows for interactions between them. You can, for example, write some code in a text editor inside of Jupyter Lab, and then send a selection to a coupled Qt Console.\n",
    "\n",
    "Even though we are largely using the Jupyter ecosystem, there are a lot of development environments out there. One particularly popular (and more heavy weight) Integrated Development Environment is PyCharm."
   ]
  },
  {
   "cell_type": "code",
   "execution_count": 2,
   "metadata": {},
   "outputs": [
    {
     "data": {
      "text/html": [
       "\n",
       "<a href=\"https://www.youtube.com/watch?v=dWlk5JvEaWs\">\n",
       "  <img src=\"https://i.ytimg.com/vi/dWlk5JvEaWs/maxresdefault.jpg\">\n",
       "</a>"
      ],
      "text/plain": [
       "<IPython.core.display.HTML object>"
      ]
     },
     "metadata": {},
     "output_type": "display_data"
    }
   ],
   "source": [
    "%%HTML \n",
    "\n",
    "<a href=\"https://www.youtube.com/watch?v=dWlk5JvEaWs\">\n",
    "  <img src=\"https://i.ytimg.com/vi/dWlk5JvEaWs/maxresdefault.jpg\">\n",
    "</a>"
   ]
  },
  {
   "cell_type": "markdown",
   "metadata": {},
   "source": [
    "## The Standard Library"
   ]
  },
  {
   "cell_type": "markdown",
   "metadata": {},
   "source": [
    "While we will spend a lot of our time working with tools that developers have put into packages, the base language has a rich set of functions built in.  These intrinsic functions are collectively known as the [Python standard library](https://docs.python.org/3/library/index.html).  They are the fundamental building blocks for all projects that use Python. To access them, you need only install the language itself."
   ]
  },
  {
   "cell_type": "code",
   "execution_count": 3,
   "metadata": {},
   "outputs": [
    {
     "name": "stdout",
     "output_type": "stream",
     "text": [
      "<iframe src=https://docs.python.org/3/library/index.html width=95% height=700></iframe>\n"
     ]
    },
    {
     "data": {
      "text/html": [
       "<iframe src=https://docs.python.org/3/library/index.html width=95% height=700></iframe>"
      ],
      "text/plain": [
       "<IPython.core.display.HTML object>"
      ]
     },
     "execution_count": 3,
     "metadata": {},
     "output_type": "execute_result"
    }
   ],
   "source": [
    "show_iframe('https://docs.python.org/3/library/index.html', iwidth='95%', iheight=700)"
   ]
  },
  {
   "cell_type": "code",
   "execution_count": 1,
   "metadata": {},
   "outputs": [
    {
     "data": {
      "text/plain": [
       "['BPF',\n",
       " 'LOG4',\n",
       " 'NV_MAGICCONST',\n",
       " 'RECIP_BPF',\n",
       " 'Random',\n",
       " 'SG_MAGICCONST',\n",
       " 'SystemRandom',\n",
       " 'TWOPI',\n",
       " '_BuiltinMethodType',\n",
       " '_MethodType',\n",
       " '_Sequence',\n",
       " '_Set',\n",
       " '__all__',\n",
       " '__builtins__',\n",
       " '__cached__',\n",
       " '__doc__',\n",
       " '__file__',\n",
       " '__loader__',\n",
       " '__name__',\n",
       " '__package__',\n",
       " '__spec__',\n",
       " '_acos',\n",
       " '_bisect',\n",
       " '_ceil',\n",
       " '_cos',\n",
       " '_e',\n",
       " '_exp',\n",
       " '_inst',\n",
       " '_itertools',\n",
       " '_log',\n",
       " '_pi',\n",
       " '_random',\n",
       " '_sha512',\n",
       " '_sin',\n",
       " '_sqrt',\n",
       " '_test',\n",
       " '_test_generator',\n",
       " '_urandom',\n",
       " '_warn',\n",
       " 'betavariate',\n",
       " 'choice',\n",
       " 'choices',\n",
       " 'expovariate',\n",
       " 'gammavariate',\n",
       " 'gauss',\n",
       " 'getrandbits',\n",
       " 'getstate',\n",
       " 'lognormvariate',\n",
       " 'normalvariate',\n",
       " 'paretovariate',\n",
       " 'randint',\n",
       " 'random',\n",
       " 'randrange',\n",
       " 'sample',\n",
       " 'seed',\n",
       " 'setstate',\n",
       " 'shuffle',\n",
       " 'triangular',\n",
       " 'uniform',\n",
       " 'vonmisesvariate',\n",
       " 'weibullvariate']"
      ]
     },
     "execution_count": 1,
     "metadata": {},
     "output_type": "execute_result"
    }
   ],
   "source": [
    "import random\n",
    "\n",
    "dir(random)"
   ]
  },
  {
   "cell_type": "code",
   "execution_count": 2,
   "metadata": {},
   "outputs": [
    {
     "name": "stdout",
     "output_type": "stream",
     "text": [
      "Help on method uniform in module random:\n",
      "\n",
      "uniform(a, b) method of random.Random instance\n",
      "    Get a random number in the range [a, b) or [a, b] depending on rounding.\n",
      "\n"
     ]
    }
   ],
   "source": [
    "help(random.uniform)"
   ]
  },
  {
   "cell_type": "markdown",
   "metadata": {},
   "source": [
    "## Modules"
   ]
  },
  {
   "cell_type": "markdown",
   "metadata": {},
   "source": [
    "Python [modules](https://docs.python.org/3/tutorial/modules.html) are just files that contain Python definitions and statements. The purpose of modules is to make it possible to leverage durable tools. Once they are imported, the contents of the module are then available for use in the calling program.\n",
    "\n",
    "We have a simple module, called `module_test` available right now.  Let's see if we can use it."
   ]
  },
  {
   "cell_type": "code",
   "execution_count": 3,
   "metadata": {},
   "outputs": [
    {
     "name": "stdout",
     "output_type": "stream",
     "text": [
      "'''\r\n",
      "FILE:       module_test.py\r\n",
      "AUTHOR:     Marvin\r\n",
      "CREATED:    2/3/2018\r\n",
      "\r\n",
      "This module is intended only to demonstrate how we can use modules in our programs.\r\n",
      "'''\r\n",
      "\r\n",
      "def squareit(x):\r\n",
      "    return x**2"
     ]
    }
   ],
   "source": [
    "!cat module_test.py"
   ]
  },
  {
   "cell_type": "code",
   "execution_count": 4,
   "metadata": {},
   "outputs": [
    {
     "data": {
      "text/plain": [
       "81"
      ]
     },
     "execution_count": 4,
     "metadata": {},
     "output_type": "execute_result"
    }
   ],
   "source": [
    "from module_test import squareit\n",
    "\n",
    "squareit(9)"
   ]
  },
  {
   "cell_type": "markdown",
   "metadata": {},
   "source": [
    "When use an `import` statement, Python first checks the current directory to see if the module is located there. (`module_test.py` is in our current directory.)  If it doesn't see it there, it then checks the `PYTHONPATH`, followed by the default location for packages: `/usr/local/lib/python/`. These two locations aren't defined for us, because Miniconda deposits packages elsewhere."
   ]
  },
  {
   "cell_type": "code",
   "execution_count": 8,
   "metadata": {},
   "outputs": [
    {
     "name": "stdout",
     "output_type": "stream",
     "text": [
      "\r\n",
      "ls: cannot access '/usr/local/lib/python': No such file or directory\r\n"
     ]
    }
   ],
   "source": [
    "!echo $PYTHONPATH\n",
    "!ls /usr/local/lib/python"
   ]
  },
  {
   "cell_type": "markdown",
   "metadata": {},
   "source": [
    "Our packages reside under Miniconda: `[..]/miniconda3/pkgs`. In general, packages promote good coding hygiene by encouraging modularity (which means it makes code easier to debug and maintain).\n",
    "\n",
    "When we import packages, we can import a specific function, like we did above.  We can also import entire libraries with the wild card operator `*`."
   ]
  },
  {
   "cell_type": "code",
   "execution_count": 5,
   "metadata": {},
   "outputs": [],
   "source": [
    "from seaborn import *"
   ]
  },
  {
   "cell_type": "markdown",
   "metadata": {},
   "source": [
    "Once we do this, we can use any function or object in the library without having to reference the library first. **I strongly discourage you from doing this.** It makes code harder to follow because you don't have any easy way of knowing which components come from where. A better solution to the problem of avoiding excessive typing is to use an *alias*."
   ]
  },
  {
   "cell_type": "code",
   "execution_count": 6,
   "metadata": {},
   "outputs": [],
   "source": [
    "import numpy as np"
   ]
  },
  {
   "cell_type": "markdown",
   "metadata": {},
   "source": [
    "Now I have the `numpy` library available, I just have to make sure that I use `np.` when referencing anything from it. The choice of alias is arbitrary. I can also use an alias when importing subcomponents of a library. Maybe, for example, I don't want all of `bokeh`.  I can grab just the `plotting` submodule."
   ]
  },
  {
   "cell_type": "code",
   "execution_count": 7,
   "metadata": {},
   "outputs": [],
   "source": [
    "import bokeh.plotting as bp"
   ]
  },
  {
   "cell_type": "markdown",
   "metadata": {},
   "source": [
    "This avoids bringing more content into memory than I need, which can speed execution by reducing memory loads."
   ]
  },
  {
   "cell_type": "markdown",
   "metadata": {},
   "source": [
    "What if I don't know what component I need?  I can always import the base library and take a look with the IPython command, `dir()`. Let's check out the submodules under the top level of `bokeh`."
   ]
  },
  {
   "cell_type": "code",
   "execution_count": 12,
   "metadata": {},
   "outputs": [
    {
     "data": {
      "text/plain": [
       "['BokehDeprecationWarning',\n",
       " 'BokehUserWarning',\n",
       " '__base_version__',\n",
       " '__builtins__',\n",
       " '__cached__',\n",
       " '__doc__',\n",
       " '__file__',\n",
       " '__loader__',\n",
       " '__name__',\n",
       " '__package__',\n",
       " '__path__',\n",
       " '__spec__',\n",
       " '__version__',\n",
       " '_version',\n",
       " 'absolute_import',\n",
       " 'colors',\n",
       " 'core',\n",
       " 'document',\n",
       " 'embed',\n",
       " 'events',\n",
       " 'io',\n",
       " 'layouts',\n",
       " 'license',\n",
       " 'model',\n",
       " 'models',\n",
       " 'palettes',\n",
       " 'plotting',\n",
       " 'print_function',\n",
       " 'resources',\n",
       " 'sampledata',\n",
       " 'settings',\n",
       " 'themes',\n",
       " 'transform',\n",
       " 'util',\n",
       " 'warnings']"
      ]
     },
     "execution_count": 12,
     "metadata": {},
     "output_type": "execute_result"
    }
   ],
   "source": [
    "import bokeh\n",
    "dir(bokeh)"
   ]
  },
  {
   "cell_type": "markdown",
   "metadata": {},
   "source": [
    "## Hello World!"
   ]
  },
  {
   "cell_type": "markdown",
   "metadata": {},
   "source": [
    "One of the first things that folks do when learning a new language is just making sure they can get something to run. The canonical method of doing this is a `Hello World` script.  We have one ready, but we will also go ahead and make one together.  Just so you see what it looks like, we can run it by using shell commands from inside the Notebook."
   ]
  },
  {
   "cell_type": "code",
   "execution_count": 9,
   "metadata": {},
   "outputs": [
    {
     "name": "stdout",
     "output_type": "stream",
     "text": [
      "/home/choct155/projects/telling_stories_with_data/examples\r\n"
     ]
    }
   ],
   "source": [
    "!pwd"
   ]
  },
  {
   "cell_type": "code",
   "execution_count": 10,
   "metadata": {},
   "outputs": [
    {
     "name": "stdout",
     "output_type": "stream",
     "text": [
      "api_example.ipynb  hello_world.py  python_intro.ipynb\t  test\r\n",
      "cex\t\t   module_test.py  random_data.csv\t  test_io\r\n",
      "figs\t\t   __pycache__\t   simulating_data.ipynb  two_cols.html\r\n"
     ]
    }
   ],
   "source": [
    "!ls"
   ]
  },
  {
   "cell_type": "code",
   "execution_count": 12,
   "metadata": {},
   "outputs": [
    {
     "name": "stdout",
     "output_type": "stream",
     "text": [
      "cex_food_spend_age_income.ipynb  module_test.py  test.py\r\n"
     ]
    }
   ],
   "source": [
    "!ls cex/src"
   ]
  },
  {
   "cell_type": "code",
   "execution_count": 16,
   "metadata": {},
   "outputs": [
    {
     "name": "stdout",
     "output_type": "stream",
     "text": [
      "Hello World!\r\n"
     ]
    }
   ],
   "source": [
    "!python hello_world.py"
   ]
  },
  {
   "cell_type": "markdown",
   "metadata": {},
   "source": [
    "## Data Types"
   ]
  },
  {
   "cell_type": "code",
   "execution_count": 18,
   "metadata": {},
   "outputs": [],
   "source": [
    "if 3 > 4:\n",
    "    print('success')"
   ]
  },
  {
   "cell_type": "markdown",
   "metadata": {},
   "source": [
    "For our purposes, we are primarily concerned with four data types (which is not exhaustive):\n",
    "\n",
    "+ [Boolean](https://en.wikipedia.org/wiki/Boolean_data_type)\n",
    "+ [Integer](https://en.wikipedia.org/wiki/Integer_(computer_science)\n",
    "+ [Float](https://en.wikipedia.org/wiki/Floating-point_arithmetic#Floating-point_numbers)\n",
    "+ [String](https://en.wikipedia.org/wiki/String_(computer_science)\n",
    "\n",
    "The actual implementation of these broad classes of data is a bit more complicated, but we can get quite far with this representation."
   ]
  },
  {
   "cell_type": "code",
   "execution_count": 19,
   "metadata": {},
   "outputs": [
    {
     "data": {
      "text/plain": [
       "'abc123'"
      ]
     },
     "execution_count": 19,
     "metadata": {},
     "output_type": "execute_result"
    }
   ],
   "source": [
    "'abc123'"
   ]
  },
  {
   "cell_type": "code",
   "execution_count": 20,
   "metadata": {},
   "outputs": [
    {
     "data": {
      "text/plain": [
       "'123\"'"
      ]
     },
     "execution_count": 20,
     "metadata": {},
     "output_type": "execute_result"
    }
   ],
   "source": [
    "'123\"'"
   ]
  },
  {
   "cell_type": "code",
   "execution_count": 21,
   "metadata": {},
   "outputs": [
    {
     "data": {
      "text/plain": [
       "579"
      ]
     },
     "execution_count": 21,
     "metadata": {},
     "output_type": "execute_result"
    }
   ],
   "source": [
    "123 + 456"
   ]
  },
  {
   "cell_type": "code",
   "execution_count": 22,
   "metadata": {},
   "outputs": [
    {
     "data": {
      "text/plain": [
       "'123456'"
      ]
     },
     "execution_count": 22,
     "metadata": {},
     "output_type": "execute_result"
    }
   ],
   "source": [
    "'123'+'456'"
   ]
  },
  {
   "cell_type": "code",
   "execution_count": 26,
   "metadata": {},
   "outputs": [
    {
     "data": {
      "text/plain": [
       "'123'"
      ]
     },
     "execution_count": 26,
     "metadata": {},
     "output_type": "execute_result"
    }
   ],
   "source": [
    "str(123)"
   ]
  },
  {
   "cell_type": "code",
   "execution_count": 30,
   "metadata": {},
   "outputs": [
    {
     "data": {
      "text/plain": [
       "1e+23"
      ]
     },
     "execution_count": 30,
     "metadata": {},
     "output_type": "execute_result"
    }
   ],
   "source": [
    "float('1e23')"
   ]
  },
  {
   "cell_type": "code",
   "execution_count": null,
   "metadata": {},
   "outputs": [],
   "source": [
    "mylist = ['dog', 'cat', 'fish']"
   ]
  },
  {
   "cell_type": "markdown",
   "metadata": {},
   "source": [
    "## Variables"
   ]
  },
  {
   "cell_type": "markdown",
   "metadata": {},
   "source": [
    "In math, variables are symbolic representations of values or concepts.  In programming, the same general concept holds, but how it is actually implemented matters. In programming, a variable is actually [an address](https://en.wikipedia.org/wiki/Variable_(computer_science) in the computer's memory. Why does this matter? If you change the value at that location, the symbolic representation will then point to a new value at the old location. \n",
    "\n",
    "In Python, it's a bit tricky to displace the value of a variable without explicit reassignment, but that isn't true in all languages. The more common scenario is when a coder thinks that two variables are pointing at the same value, and they become decoupled."
   ]
  },
  {
   "cell_type": "code",
   "execution_count": 31,
   "metadata": {},
   "outputs": [
    {
     "name": "stdout",
     "output_type": "stream",
     "text": [
      "a => Value: 10, Location: 94859048353280\n",
      "b => Value: 10, Location: 94859048353280\n"
     ]
    }
   ],
   "source": [
    "a = 10\n",
    "b = a\n",
    "\n",
    "print('a => Value: {}, Location: {}'.format(a, id(a)))\n",
    "print('b => Value: {}, Location: {}'.format(b, id(b)))"
   ]
  },
  {
   "cell_type": "code",
   "execution_count": 32,
   "metadata": {},
   "outputs": [
    {
     "name": "stdout",
     "output_type": "stream",
     "text": [
      "a => Value: 10, Location: 94859048353280\n",
      "b => Value: 20, Location: 94859048353600\n"
     ]
    }
   ],
   "source": [
    "b = 20\n",
    "\n",
    "print('a => Value: {}, Location: {}'.format(a, id(a)))\n",
    "print('b => Value: {}, Location: {}'.format(b, id(b)))"
   ]
  },
  {
   "cell_type": "markdown",
   "metadata": {},
   "source": [
    "## Errors"
   ]
  },
  {
   "cell_type": "markdown",
   "metadata": {},
   "source": [
    "There are at least three main types of errors:\n",
    "\n",
    "+ Syntax Errors\n",
    "+ Runtime Errors\n",
    "+ Semantic Errors"
   ]
  },
  {
   "cell_type": "code",
   "execution_count": 16,
   "metadata": {},
   "outputs": [
    {
     "ename": "SyntaxError",
     "evalue": "unexpected EOF while parsing (<ipython-input-16-6ba40ac16db8>, line 2)",
     "output_type": "error",
     "traceback": [
      "\u001b[0;36m  File \u001b[0;32m\"<ipython-input-16-6ba40ac16db8>\"\u001b[0;36m, line \u001b[0;32m2\u001b[0m\n\u001b[0;31m    mylist = [1, 2, 3\u001b[0m\n\u001b[0m                     ^\u001b[0m\n\u001b[0;31mSyntaxError\u001b[0m\u001b[0;31m:\u001b[0m unexpected EOF while parsing\n"
     ]
    }
   ],
   "source": [
    "# A syntax error\n",
    "mylist = [1, 2, 3"
   ]
  },
  {
   "cell_type": "code",
   "execution_count": 33,
   "metadata": {},
   "outputs": [
    {
     "ename": "ZeroDivisionError",
     "evalue": "division by zero",
     "output_type": "error",
     "traceback": [
      "\u001b[0;31m---------------------------------------------------------------------------\u001b[0m",
      "\u001b[0;31mZeroDivisionError\u001b[0m                         Traceback (most recent call last)",
      "\u001b[0;32m<ipython-input-33-02a33261fcf0>\u001b[0m in \u001b[0;36m<module>\u001b[0;34m()\u001b[0m\n\u001b[1;32m      3\u001b[0m     \u001b[0;32mreturn\u001b[0m \u001b[0mx\u001b[0m\u001b[0;34m/\u001b[0m\u001b[0;36m0\u001b[0m\u001b[0;34m\u001b[0m\u001b[0m\n\u001b[1;32m      4\u001b[0m \u001b[0;34m\u001b[0m\u001b[0m\n\u001b[0;32m----> 5\u001b[0;31m \u001b[0mdivideByZero\u001b[0m\u001b[0;34m(\u001b[0m\u001b[0;36m10\u001b[0m\u001b[0;34m)\u001b[0m\u001b[0;34m\u001b[0m\u001b[0m\n\u001b[0m",
      "\u001b[0;32m<ipython-input-33-02a33261fcf0>\u001b[0m in \u001b[0;36mdivideByZero\u001b[0;34m(x)\u001b[0m\n\u001b[1;32m      1\u001b[0m \u001b[0;31m# A runtime error\u001b[0m\u001b[0;34m\u001b[0m\u001b[0;34m\u001b[0m\u001b[0m\n\u001b[1;32m      2\u001b[0m \u001b[0;32mdef\u001b[0m \u001b[0mdivideByZero\u001b[0m\u001b[0;34m(\u001b[0m\u001b[0mx\u001b[0m\u001b[0;34m)\u001b[0m\u001b[0;34m:\u001b[0m\u001b[0;34m\u001b[0m\u001b[0m\n\u001b[0;32m----> 3\u001b[0;31m     \u001b[0;32mreturn\u001b[0m \u001b[0mx\u001b[0m\u001b[0;34m/\u001b[0m\u001b[0;36m0\u001b[0m\u001b[0;34m\u001b[0m\u001b[0m\n\u001b[0m\u001b[1;32m      4\u001b[0m \u001b[0;34m\u001b[0m\u001b[0m\n\u001b[1;32m      5\u001b[0m \u001b[0mdivideByZero\u001b[0m\u001b[0;34m(\u001b[0m\u001b[0;36m10\u001b[0m\u001b[0;34m)\u001b[0m\u001b[0;34m\u001b[0m\u001b[0m\n",
      "\u001b[0;31mZeroDivisionError\u001b[0m: division by zero"
     ]
    }
   ],
   "source": [
    "# A runtime error\n",
    "def divideByZero(x):\n",
    "    return x/0\n",
    "\n",
    "divideByZero(10)"
   ]
  },
  {
   "cell_type": "code",
   "execution_count": 35,
   "metadata": {},
   "outputs": [
    {
     "data": {
      "text/plain": [
       "100"
      ]
     },
     "execution_count": 35,
     "metadata": {},
     "output_type": "execute_result"
    }
   ],
   "source": [
    "# A semantic error\n",
    "def squareit(x):\n",
    "    return x**2\n",
    "    \n",
    "squareit(10)"
   ]
  },
  {
   "cell_type": "code",
   "execution_count": 41,
   "metadata": {},
   "outputs": [
    {
     "ename": "SyntaxError",
     "evalue": "can't assign to keyword (<ipython-input-41-7d4e2f54c615>, line 1)",
     "output_type": "error",
     "traceback": [
      "\u001b[0;36m  File \u001b[0;32m\"<ipython-input-41-7d4e2f54c615>\"\u001b[0;36m, line \u001b[0;32m1\u001b[0m\n\u001b[0;31m    False = True\u001b[0m\n\u001b[0m                ^\u001b[0m\n\u001b[0;31mSyntaxError\u001b[0m\u001b[0;31m:\u001b[0m can't assign to keyword\n"
     ]
    }
   ],
   "source": [
    "False = True"
   ]
  },
  {
   "cell_type": "code",
   "execution_count": 38,
   "metadata": {},
   "outputs": [],
   "source": [
    "assert squareit(10) == 100"
   ]
  },
  {
   "cell_type": "code",
   "execution_count": 36,
   "metadata": {},
   "outputs": [
    {
     "name": "stdout",
     "output_type": "stream",
     "text": [
      "Houston we have a problem: <class 'ZeroDivisionError'>\n"
     ]
    }
   ],
   "source": [
    "import sys\n",
    "try:\n",
    "    divideByZero(10)\n",
    "except:\n",
    "    print('Houston we have a problem: {}'.format(sys.exc_info()[0]))"
   ]
  },
  {
   "cell_type": "markdown",
   "metadata": {},
   "source": [
    "## Collections"
   ]
  },
  {
   "cell_type": "markdown",
   "metadata": {},
   "source": [
    "There are four main collection objects that you need to know about:\n",
    "\n",
    "+ [List](https://docs.python.org/3/tutorial/datastructures.html#more-on-lists)\n",
    "+ [Set](https://docs.python.org/3/tutorial/datastructures.html#sets)\n",
    "+ [Tuple](https://docs.python.org/3/tutorial/datastructures.html#tuples-and-sequences)\n",
    "+ [Dictionary](https://docs.python.org/3/tutorial/datastructures.html#dictionaries)\n",
    "\n",
    "All of these are incredibly useful, and will come up with some frequency.  Here is some free advice, **don't sleep on those dictionaries!**.  They can hold virtually any object, which is then references in constant time."
   ]
  },
  {
   "cell_type": "code",
   "execution_count": 4,
   "metadata": {},
   "outputs": [
    {
     "data": {
      "text/plain": [
       "4"
      ]
     },
     "execution_count": 4,
     "metadata": {},
     "output_type": "execute_result"
    }
   ],
   "source": [
    "mylist = [0,1,2,3]\n",
    "mylist.append(4)\n",
    "mylist.pop(4)"
   ]
  },
  {
   "cell_type": "code",
   "execution_count": 5,
   "metadata": {},
   "outputs": [
    {
     "data": {
      "text/plain": [
       "[0, 1, 2, 3]"
      ]
     },
     "execution_count": 5,
     "metadata": {},
     "output_type": "execute_result"
    }
   ],
   "source": [
    "mylist"
   ]
  },
  {
   "cell_type": "code",
   "execution_count": 7,
   "metadata": {},
   "outputs": [
    {
     "data": {
      "text/plain": [
       "[]"
      ]
     },
     "execution_count": 7,
     "metadata": {},
     "output_type": "execute_result"
    }
   ],
   "source": [
    "mylist2 = []\n",
    "mylist2"
   ]
  },
  {
   "cell_type": "code",
   "execution_count": 8,
   "metadata": {},
   "outputs": [],
   "source": [
    "mylist2.append(mylist)"
   ]
  },
  {
   "cell_type": "code",
   "execution_count": 9,
   "metadata": {},
   "outputs": [
    {
     "data": {
      "text/plain": [
       "[[0, 1, 2, 3]]"
      ]
     },
     "execution_count": 9,
     "metadata": {},
     "output_type": "execute_result"
    }
   ],
   "source": [
    "mylist2"
   ]
  },
  {
   "cell_type": "code",
   "execution_count": 12,
   "metadata": {},
   "outputs": [
    {
     "data": {
      "text/plain": [
       "2"
      ]
     },
     "execution_count": 12,
     "metadata": {},
     "output_type": "execute_result"
    }
   ],
   "source": [
    "mylist2[0][2]"
   ]
  },
  {
   "cell_type": "code",
   "execution_count": 13,
   "metadata": {},
   "outputs": [
    {
     "data": {
      "text/plain": [
       "[1, 1, 1, 1]"
      ]
     },
     "execution_count": 13,
     "metadata": {},
     "output_type": "execute_result"
    }
   ],
   "source": [
    "mylist3 = [1,1,1,1]\n",
    "mylist3"
   ]
  },
  {
   "cell_type": "code",
   "execution_count": 15,
   "metadata": {},
   "outputs": [],
   "source": [
    "myset = {1,1,2,3}\n",
    "myset2 = {3,4,5}"
   ]
  },
  {
   "cell_type": "code",
   "execution_count": 18,
   "metadata": {},
   "outputs": [
    {
     "data": {
      "text/plain": [
       "{1, 2, 3, 4, 5}"
      ]
     },
     "execution_count": 18,
     "metadata": {},
     "output_type": "execute_result"
    }
   ],
   "source": [
    "myset | myset2"
   ]
  },
  {
   "cell_type": "code",
   "execution_count": 20,
   "metadata": {},
   "outputs": [],
   "source": [
    "a,b,c = (1,2,3)"
   ]
  },
  {
   "cell_type": "code",
   "execution_count": 23,
   "metadata": {},
   "outputs": [
    {
     "data": {
      "text/plain": [
       "3"
      ]
     },
     "execution_count": 23,
     "metadata": {},
     "output_type": "execute_result"
    }
   ],
   "source": [
    "c"
   ]
  },
  {
   "cell_type": "code",
   "execution_count": 24,
   "metadata": {},
   "outputs": [
    {
     "data": {
      "text/plain": [
       "1"
      ]
     },
     "execution_count": 24,
     "metadata": {},
     "output_type": "execute_result"
    }
   ],
   "source": [
    "mydict = {'a':1, 'b':2, 'c':3}\n",
    "mydict['a']"
   ]
  },
  {
   "cell_type": "code",
   "execution_count": 25,
   "metadata": {},
   "outputs": [
    {
     "data": {
      "text/plain": [
       "{'a': 1, 'b': 2, 'c': 3}"
      ]
     },
     "execution_count": 25,
     "metadata": {},
     "output_type": "execute_result"
    }
   ],
   "source": [
    "mydict"
   ]
  },
  {
   "cell_type": "markdown",
   "metadata": {},
   "source": [
    "## Control Flow"
   ]
  },
  {
   "cell_type": "markdown",
   "metadata": {},
   "source": [
    "There are many situations in which we want to change the order of operations in a program.  Maybe it's because we want to make a choice based upon a condition, or we want to repeat something many times before moving on, or some other situation has arisen. The general class of operations we use to deal with these cases fall under the [control flow](https://python.swaroopch.com/control_flow.html) umbrella.\n",
    "\n",
    "For now, we are going to focus only on two such constructs, but they have the flexibility to work in a very wide variety of situations.\n",
    "\n",
    "+ [If-Then-Else](https://en.wikipedia.org/wiki/Conditional_(computer_programming)\n",
    "+ [For Loop](https://en.wikipedia.org/wiki/For_loop)"
   ]
  },
  {
   "cell_type": "markdown",
   "metadata": {},
   "source": [
    "## Functions"
   ]
  },
  {
   "cell_type": "markdown",
   "metadata": {},
   "source": [
    "In mathematical terms, a function maps a set of inputs to a set of outputs.\n",
    "\n",
    "$$f: X \\rightarrow Y$$\n",
    "\n",
    "The function maps values from the $X$ domain to values in the $Y$ domain.\n",
    "\n",
    "$$y = f(x)$$\n",
    "\n",
    "In programming, it's the same general principle. For example, our `squareit()` function maps values to their squared representation.\n",
    "\n",
    "$$9 = squareit(3)$$\n",
    "\n",
    "All of the functions you see are derived from this idea. In Python, the generally follow the following syntax:"
   ]
  },
  {
   "cell_type": "markdown",
   "metadata": {},
   "source": [
    "```python\n",
    "def function(args):\n",
    "   ...[do stuff]...\n",
    "   return result\n",
    "```\n",
    "\n",
    "Functions can be very effective, and resuable tools, if well designed.  They should do one thing, and nothing else.  You can think of them as verbs."
   ]
  },
  {
   "cell_type": "markdown",
   "metadata": {},
   "source": [
    "## Iteration"
   ]
  },
  {
   "cell_type": "markdown",
   "metadata": {},
   "source": [
    "The intuitiveness of iteration in Python is one of the best features of the language (though it is not unique to Python). "
   ]
  },
  {
   "cell_type": "code",
   "execution_count": 20,
   "metadata": {},
   "outputs": [
    {
     "name": "stdout",
     "output_type": "stream",
     "text": [
      "0\n",
      "1\n",
      "2\n",
      "3\n",
      "4\n",
      "5\n"
     ]
    }
   ],
   "source": [
    "mylist = [0,1,2,3,4,5]\n",
    "mytuple = (0,1,2,3,4,5)\n",
    "myset = {0,1,2,3,4,5}\n",
    "mydict = {'a':0, 'b':1, 'c':2, 'd':3, 'e':4, 'f':6}\n",
    "\n",
    "for num in mylist:\n",
    "    print(num)"
   ]
  },
  {
   "cell_type": "code",
   "execution_count": 21,
   "metadata": {},
   "outputs": [
    {
     "name": "stdout",
     "output_type": "stream",
     "text": [
      "0\n",
      "1\n",
      "2\n",
      "3\n",
      "4\n",
      "5\n"
     ]
    }
   ],
   "source": [
    "for num in mytuple:\n",
    "    print(num)"
   ]
  },
  {
   "cell_type": "code",
   "execution_count": 22,
   "metadata": {},
   "outputs": [
    {
     "name": "stdout",
     "output_type": "stream",
     "text": [
      "0\n",
      "1\n",
      "2\n",
      "3\n",
      "4\n",
      "5\n"
     ]
    }
   ],
   "source": [
    "for num in myset:\n",
    "    print(num)"
   ]
  },
  {
   "cell_type": "code",
   "execution_count": 23,
   "metadata": {},
   "outputs": [
    {
     "name": "stdout",
     "output_type": "stream",
     "text": [
      "a\n",
      "b\n",
      "c\n",
      "d\n",
      "e\n",
      "f\n",
      "0\n",
      "1\n",
      "2\n",
      "3\n",
      "4\n",
      "6\n"
     ]
    }
   ],
   "source": [
    "for key in mydict:\n",
    "    print(key)\n",
    "\n",
    "for num in mydict.values():\n",
    "    print(num)"
   ]
  },
  {
   "cell_type": "code",
   "execution_count": 24,
   "metadata": {},
   "outputs": [
    {
     "name": "stdout",
     "output_type": "stream",
     "text": [
      "range(0, 10)\n",
      "0\n",
      "1\n",
      "2\n",
      "3\n",
      "4\n",
      "5\n",
      "6\n",
      "7\n",
      "8\n",
      "9\n"
     ]
    }
   ],
   "source": [
    "print(range(10))\n",
    "for num in range(10):\n",
    "    print(num)"
   ]
  },
  {
   "cell_type": "code",
   "execution_count": 25,
   "metadata": {},
   "outputs": [
    {
     "name": "stdout",
     "output_type": "stream",
     "text": [
      "a\n",
      "b\n",
      "c\n",
      "d\n",
      "e\n",
      "f\n"
     ]
    }
   ],
   "source": [
    "for ltr in 'abcdef':\n",
    "    print(ltr)"
   ]
  },
  {
   "cell_type": "code",
   "execution_count": 26,
   "metadata": {},
   "outputs": [
    {
     "name": "stdout",
     "output_type": "stream",
     "text": [
      "bob\n",
      "1\n",
      "#ffffff\n"
     ]
    }
   ],
   "source": [
    "for elem in ['bob', 1, '#ffffff']:\n",
    "    print(elem)"
   ]
  },
  {
   "cell_type": "markdown",
   "metadata": {},
   "source": [
    "[List comprehensions](https://www.datacamp.com/community/tutorials/python-list-comprehension) are convenient methods of transforming items in a collection. They can be used to apply functions on each element in a collection while it's being iterated over.  The general syntax is as follows:\n",
    "\n",
    "`[function(val) for val in collection if condition==True]`"
   ]
  },
  {
   "cell_type": "code",
   "execution_count": 27,
   "metadata": {},
   "outputs": [
    {
     "name": "stdout",
     "output_type": "stream",
     "text": [
      "[0, 1, 2, 3, 4, 5]\n",
      "[0, 2, 4]\n",
      "[0, 4, 16]\n"
     ]
    }
   ],
   "source": [
    "print(mylist)\n",
    "print([val for val in mylist if val%2==0])\n",
    "print([val**2 for val in mylist if val%2==0])"
   ]
  },
  {
   "cell_type": "markdown",
   "metadata": {},
   "source": [
    "Comprehensions aren't just for lists.  There are a lot of reasons for dictionary comprehensions, but what if you just want to reverse the order of keys and values?"
   ]
  },
  {
   "cell_type": "code",
   "execution_count": 28,
   "metadata": {},
   "outputs": [
    {
     "name": "stdout",
     "output_type": "stream",
     "text": [
      "{'a': 0, 'b': 1, 'c': 2, 'd': 3, 'e': 4, 'f': 6}\n"
     ]
    },
    {
     "data": {
      "text/plain": [
       "{0: 'a', 1: 'b', 2: 'c', 3: 'd', 4: 'e', 6: 'f'}"
      ]
     },
     "execution_count": 28,
     "metadata": {},
     "output_type": "execute_result"
    }
   ],
   "source": [
    "print(mydict)\n",
    "{v:k for (k,v) in mydict.items()}"
   ]
  },
  {
   "cell_type": "markdown",
   "metadata": {},
   "source": [
    "Sometimes you want to coordinate operations on elements of more than one list.  It is possible to do this by coordinating on index position."
   ]
  },
  {
   "cell_type": "code",
   "execution_count": 29,
   "metadata": {},
   "outputs": [
    {
     "name": "stdout",
     "output_type": "stream",
     "text": [
      "[0, 1, 2, 3, 4, 5]\n",
      "6\n",
      "range(0, 6)\n",
      "mylist element 0: 0\n",
      "my letters element 0: a\n",
      "my composite element 0: 0a\n",
      "mylist element 1: 1\n",
      "my letters element 1: b\n",
      "my composite element 1: 1b\n",
      "mylist element 2: 2\n",
      "my letters element 2: c\n",
      "my composite element 2: 2c\n",
      "mylist element 3: 3\n",
      "my letters element 3: d\n",
      "my composite element 3: 3d\n",
      "mylist element 4: 4\n",
      "my letters element 4: e\n",
      "my composite element 4: 4e\n",
      "mylist element 5: 5\n",
      "my letters element 5: f\n",
      "my composite element 5: 5f\n"
     ]
    }
   ],
   "source": [
    "print(mylist)\n",
    "print(len(mylist))\n",
    "print(range(len(mylist)))\n",
    "for i in range(len(mylist)):\n",
    "    print('mylist element {}: {}'.format(i, mylist[i]))\n",
    "    print('my letters element {}: {}'.format(i, 'abcdef'[i]))\n",
    "    print('my composite element {}: {}'.format(i, str(mylist[i])+'abcdef'[i]))"
   ]
  },
  {
   "cell_type": "markdown",
   "metadata": {},
   "source": [
    "## Input/Output"
   ]
  },
  {
   "cell_type": "markdown",
   "metadata": {},
   "source": [
    "The canonical way to write to and read from a file can be performed with functions from the standard library."
   ]
  },
  {
   "cell_type": "code",
   "execution_count": 30,
   "metadata": {},
   "outputs": [],
   "source": [
    "with open('test_io', 'w') as f:\n",
    "    f.write('We wrote stuff')"
   ]
  },
  {
   "cell_type": "code",
   "execution_count": 31,
   "metadata": {},
   "outputs": [
    {
     "name": "stdout",
     "output_type": "stream",
     "text": [
      "We wrote stuff"
     ]
    }
   ],
   "source": [
    "!cat test_io"
   ]
  },
  {
   "cell_type": "code",
   "execution_count": 34,
   "metadata": {},
   "outputs": [
    {
     "name": "stdout",
     "output_type": "stream",
     "text": [
      "We wrote stuff\n"
     ]
    }
   ],
   "source": [
    "with open('test_io', 'r') as f:\n",
    "    io_text = f.read()\n",
    "\n",
    "print(io_text)"
   ]
  },
  {
   "cell_type": "markdown",
   "metadata": {},
   "source": [
    "For the most part, however, we will be using library I/O functions.  Specifically, we will rely almost exclusively on [pandas](https://pandas.pydata.org/)."
   ]
  },
  {
   "cell_type": "code",
   "execution_count": 36,
   "metadata": {},
   "outputs": [
    {
     "name": "stdout",
     "output_type": "stream",
     "text": [
      "<iframe src=https://pandas.pydata.org/ width=95% height=400></iframe>\n"
     ]
    },
    {
     "data": {
      "text/html": [
       "<iframe src=https://pandas.pydata.org/ width=95% height=400></iframe>"
      ],
      "text/plain": [
       "<IPython.core.display.HTML object>"
      ]
     },
     "execution_count": 36,
     "metadata": {},
     "output_type": "execute_result"
    }
   ],
   "source": [
    "show_iframe('https://pandas.pydata.org/', iwidth='95%')"
   ]
  },
  {
   "cell_type": "markdown",
   "metadata": {},
   "source": [
    "We can simulate some data, write it to disk as a CSV, and then read it back in."
   ]
  },
  {
   "cell_type": "code",
   "execution_count": 38,
   "metadata": {},
   "outputs": [],
   "source": [
    "import numpy as np\n",
    "import pandas as pd"
   ]
  },
  {
   "cell_type": "code",
   "execution_count": 40,
   "metadata": {},
   "outputs": [
    {
     "data": {
      "text/html": [
       "<div>\n",
       "<style>\n",
       "    .dataframe thead tr:only-child th {\n",
       "        text-align: right;\n",
       "    }\n",
       "\n",
       "    .dataframe thead th {\n",
       "        text-align: left;\n",
       "    }\n",
       "\n",
       "    .dataframe tbody tr th {\n",
       "        vertical-align: top;\n",
       "    }\n",
       "</style>\n",
       "<table border=\"1\" class=\"dataframe\">\n",
       "  <thead>\n",
       "    <tr style=\"text-align: right;\">\n",
       "      <th></th>\n",
       "      <th>0</th>\n",
       "      <th>1</th>\n",
       "      <th>2</th>\n",
       "      <th>3</th>\n",
       "    </tr>\n",
       "  </thead>\n",
       "  <tbody>\n",
       "    <tr>\n",
       "      <th>0</th>\n",
       "      <td>0.633516</td>\n",
       "      <td>0.188297</td>\n",
       "      <td>0.424340</td>\n",
       "      <td>0.969255</td>\n",
       "    </tr>\n",
       "    <tr>\n",
       "      <th>1</th>\n",
       "      <td>0.779906</td>\n",
       "      <td>0.182256</td>\n",
       "      <td>0.049300</td>\n",
       "      <td>0.570667</td>\n",
       "    </tr>\n",
       "    <tr>\n",
       "      <th>2</th>\n",
       "      <td>0.637426</td>\n",
       "      <td>0.876976</td>\n",
       "      <td>0.110847</td>\n",
       "      <td>0.695058</td>\n",
       "    </tr>\n",
       "    <tr>\n",
       "      <th>3</th>\n",
       "      <td>0.475013</td>\n",
       "      <td>0.020227</td>\n",
       "      <td>0.455767</td>\n",
       "      <td>0.638160</td>\n",
       "    </tr>\n",
       "  </tbody>\n",
       "</table>\n",
       "</div>"
      ],
      "text/plain": [
       "          0         1         2         3\n",
       "0  0.633516  0.188297  0.424340  0.969255\n",
       "1  0.779906  0.182256  0.049300  0.570667\n",
       "2  0.637426  0.876976  0.110847  0.695058\n",
       "3  0.475013  0.020227  0.455767  0.638160"
      ]
     },
     "execution_count": 40,
     "metadata": {},
     "output_type": "execute_result"
    }
   ],
   "source": [
    "data = pd.DataFrame(np.random.uniform(size=16).reshape(4,4))\n",
    "\n",
    "data"
   ]
  },
  {
   "cell_type": "code",
   "execution_count": 42,
   "metadata": {},
   "outputs": [
    {
     "name": "stdout",
     "output_type": "stream",
     "text": [
      "/home/choct155/projects/telling_stories_with_data/examples\r\n",
      "api_example.ipynb  hello_world.py  python_intro.ipynb\t  test\r\n",
      "cex\t\t   module_test.py  random_data.csv\t  test_io\r\n",
      "figs\t\t   __pycache__\t   simulating_data.ipynb  two_cols.html\r\n"
     ]
    }
   ],
   "source": [
    "data.to_csv('random_data.csv')\n",
    "!pwd\n",
    "!ls"
   ]
  },
  {
   "cell_type": "code",
   "execution_count": 43,
   "metadata": {},
   "outputs": [
    {
     "data": {
      "text/html": [
       "<div>\n",
       "<style>\n",
       "    .dataframe thead tr:only-child th {\n",
       "        text-align: right;\n",
       "    }\n",
       "\n",
       "    .dataframe thead th {\n",
       "        text-align: left;\n",
       "    }\n",
       "\n",
       "    .dataframe tbody tr th {\n",
       "        vertical-align: top;\n",
       "    }\n",
       "</style>\n",
       "<table border=\"1\" class=\"dataframe\">\n",
       "  <thead>\n",
       "    <tr style=\"text-align: right;\">\n",
       "      <th></th>\n",
       "      <th>Unnamed: 0</th>\n",
       "      <th>0</th>\n",
       "      <th>1</th>\n",
       "      <th>2</th>\n",
       "      <th>3</th>\n",
       "    </tr>\n",
       "  </thead>\n",
       "  <tbody>\n",
       "    <tr>\n",
       "      <th>0</th>\n",
       "      <td>0</td>\n",
       "      <td>0.633516</td>\n",
       "      <td>0.188297</td>\n",
       "      <td>0.424340</td>\n",
       "      <td>0.969255</td>\n",
       "    </tr>\n",
       "    <tr>\n",
       "      <th>1</th>\n",
       "      <td>1</td>\n",
       "      <td>0.779906</td>\n",
       "      <td>0.182256</td>\n",
       "      <td>0.049300</td>\n",
       "      <td>0.570667</td>\n",
       "    </tr>\n",
       "    <tr>\n",
       "      <th>2</th>\n",
       "      <td>2</td>\n",
       "      <td>0.637426</td>\n",
       "      <td>0.876976</td>\n",
       "      <td>0.110847</td>\n",
       "      <td>0.695058</td>\n",
       "    </tr>\n",
       "    <tr>\n",
       "      <th>3</th>\n",
       "      <td>3</td>\n",
       "      <td>0.475013</td>\n",
       "      <td>0.020227</td>\n",
       "      <td>0.455767</td>\n",
       "      <td>0.638160</td>\n",
       "    </tr>\n",
       "  </tbody>\n",
       "</table>\n",
       "</div>"
      ],
      "text/plain": [
       "   Unnamed: 0         0         1         2         3\n",
       "0           0  0.633516  0.188297  0.424340  0.969255\n",
       "1           1  0.779906  0.182256  0.049300  0.570667\n",
       "2           2  0.637426  0.876976  0.110847  0.695058\n",
       "3           3  0.475013  0.020227  0.455767  0.638160"
      ]
     },
     "execution_count": 43,
     "metadata": {},
     "output_type": "execute_result"
    }
   ],
   "source": [
    "recycled_data = pd.read_csv('random_data.csv')\n",
    "\n",
    "recycled_data"
   ]
  }
 ],
 "metadata": {
  "kernelspec": {
   "display_name": "Python 3",
   "language": "python",
   "name": "python3"
  },
  "language_info": {
   "codemirror_mode": {
    "name": "ipython",
    "version": 3
   },
   "file_extension": ".py",
   "mimetype": "text/x-python",
   "name": "python",
   "nbconvert_exporter": "python",
   "pygments_lexer": "ipython3",
   "version": "3.6.3"
  }
 },
 "nbformat": 4,
 "nbformat_minor": 2
}
