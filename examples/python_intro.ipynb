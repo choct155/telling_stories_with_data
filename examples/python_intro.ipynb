{
 "cells": [
  {
   "cell_type": "markdown",
   "metadata": {},
   "source": [
    "# Introduction to Programming (with Python!)"
   ]
  },
  {
   "cell_type": "markdown",
   "metadata": {},
   "source": [
    "Now that you have seen something useful (our BLS API example), we will take the time to back up and cover some fundamentals. This notebook will cover some basic programming concepts, but do note that it is a poor substitute for the spectacular (and interactive) [How to Think Like a Computer Scientist](http://interactivepython.org/runestone/static/thinkcspy/index.html). Let's dive in..."
   ]
  },
  {
   "cell_type": "markdown",
   "metadata": {},
   "source": [
    "In this programming introduction, we will cover the following topics:\n",
    "\n",
    "1. Programming Environments\n",
    "2. The Standard Library\n",
    "3. Modules\n",
    "4. Hello World!\n",
    "5. Data Types\n",
    "6. Variables\n",
    "7. Errors\n",
    "8. Collections\n",
    "9. Control Flow\n",
    "10. Functions\n",
    "11. Iterations\n",
    "12. Input/Output"
   ]
  },
  {
   "cell_type": "code",
   "execution_count": 30,
   "metadata": {},
   "outputs": [],
   "source": [
    "from IPython.display import HTML, display, SVG\n",
    "\n",
    "# Define function to allow us to display charts in an iframe\n",
    "def show_iframe(url, iheight=400, iwidth=1000):\n",
    "    display_string = '<iframe src={url} width={w} height={h}></iframe>'.format(url=url, w=iwidth, h=iheight)\n",
    "    print(display_string)\n",
    "    return HTML(display_string)"
   ]
  },
  {
   "cell_type": "markdown",
   "metadata": {},
   "source": [
    "## Programming Environments"
   ]
  },
  {
   "cell_type": "markdown",
   "metadata": {},
   "source": [
    "[Programming environments](https://en.wikipedia.org/wiki/Integrated_development_environment) are not languages themselves, but rather tools that are available to the user to facilitate writing and executing code. This very Notebook is a programming environment.  Python, coupled with the resources of the IPython and Jupyter projects, makes code execution in a variety of ways:\n",
    "\n",
    "+ At the command line (a.k.a. shell) via a [REPL](https://en.wikipedia.org/wiki/Read%E2%80%93eval%E2%80%93print_loop) (just discovered this [cool online REPL tool](https://repl.it/))\n",
    "+ In an enhanced REPL called the [Qt Console](https://ipython.org/ipython-doc/3/interactive/qtconsole.html), which allows inline plotting\n",
    "+ Execution of a script at the command line (e.g. `python some_script.py`)\n",
    "+ Inside a Jupyter Notebook (like this one)\n",
    "\n",
    "Jupyter Lab is an environment that houses all of these options, and allows for interactions between them. You can, for example, write some code in a text editor inside of Jupyter Lab, and then send a selection to a coupled Qt Console.\n",
    "\n",
    "Even though we are largely using the Jupyter ecosystem, there are a lot of development environments out there. One particularly popular (and more heavy weight) Integrated Development Environment is PyCharm."
   ]
  },
  {
   "cell_type": "code",
   "execution_count": 2,
   "metadata": {},
   "outputs": [
    {
     "data": {
      "text/html": [
       "\n",
       "<a href=\"https://www.youtube.com/watch?v=dWlk5JvEaWs\">\n",
       "  <img src=\"https://i.ytimg.com/vi/dWlk5JvEaWs/maxresdefault.jpg\">\n",
       "</a>"
      ],
      "text/plain": [
       "<IPython.core.display.HTML object>"
      ]
     },
     "metadata": {},
     "output_type": "display_data"
    }
   ],
   "source": [
    "%%HTML \n",
    "\n",
    "<a href=\"https://www.youtube.com/watch?v=dWlk5JvEaWs\">\n",
    "  <img src=\"https://i.ytimg.com/vi/dWlk5JvEaWs/maxresdefault.jpg\">\n",
    "</a>"
   ]
  },
  {
   "cell_type": "markdown",
   "metadata": {},
   "source": [
    "## The Standard Library"
   ]
  },
  {
   "cell_type": "markdown",
   "metadata": {},
   "source": [
    "While we will spend a lot of our time working with tools that developers have put into packages, the base language has a rich set of functions built in.  These intrinsic functions are collectively known as the [Python standard library](https://docs.python.org/3/library/index.html).  They are the fundamental building blocks for all projects that use Python. To access them, you need only install the language itself."
   ]
  },
  {
   "cell_type": "code",
   "execution_count": 3,
   "metadata": {},
   "outputs": [
    {
     "name": "stdout",
     "output_type": "stream",
     "text": [
      "<iframe src=https://docs.python.org/3/library/index.html width=95% height=700></iframe>\n"
     ]
    },
    {
     "data": {
      "text/html": [
       "<iframe src=https://docs.python.org/3/library/index.html width=95% height=700></iframe>"
      ],
      "text/plain": [
       "<IPython.core.display.HTML object>"
      ]
     },
     "execution_count": 3,
     "metadata": {},
     "output_type": "execute_result"
    }
   ],
   "source": [
    "show_iframe('https://docs.python.org/3/library/index.html', iwidth='95%', iheight=700)"
   ]
  },
  {
   "cell_type": "code",
   "execution_count": 4,
   "metadata": {},
   "outputs": [
    {
     "data": {
      "text/plain": [
       "['BPF',\n",
       " 'LOG4',\n",
       " 'NV_MAGICCONST',\n",
       " 'RECIP_BPF',\n",
       " 'Random',\n",
       " 'SG_MAGICCONST',\n",
       " 'SystemRandom',\n",
       " 'TWOPI',\n",
       " '_BuiltinMethodType',\n",
       " '_MethodType',\n",
       " '_Sequence',\n",
       " '_Set',\n",
       " '__all__',\n",
       " '__builtins__',\n",
       " '__cached__',\n",
       " '__doc__',\n",
       " '__file__',\n",
       " '__loader__',\n",
       " '__name__',\n",
       " '__package__',\n",
       " '__spec__',\n",
       " '_acos',\n",
       " '_bisect',\n",
       " '_ceil',\n",
       " '_cos',\n",
       " '_e',\n",
       " '_exp',\n",
       " '_inst',\n",
       " '_itertools',\n",
       " '_log',\n",
       " '_pi',\n",
       " '_random',\n",
       " '_sha512',\n",
       " '_sin',\n",
       " '_sqrt',\n",
       " '_test',\n",
       " '_test_generator',\n",
       " '_urandom',\n",
       " '_warn',\n",
       " 'betavariate',\n",
       " 'choice',\n",
       " 'choices',\n",
       " 'expovariate',\n",
       " 'gammavariate',\n",
       " 'gauss',\n",
       " 'getrandbits',\n",
       " 'getstate',\n",
       " 'lognormvariate',\n",
       " 'normalvariate',\n",
       " 'paretovariate',\n",
       " 'randint',\n",
       " 'random',\n",
       " 'randrange',\n",
       " 'sample',\n",
       " 'seed',\n",
       " 'setstate',\n",
       " 'shuffle',\n",
       " 'triangular',\n",
       " 'uniform',\n",
       " 'vonmisesvariate',\n",
       " 'weibullvariate']"
      ]
     },
     "execution_count": 4,
     "metadata": {},
     "output_type": "execute_result"
    }
   ],
   "source": [
    "import random\n",
    "\n",
    "dir(random)"
   ]
  },
  {
   "cell_type": "code",
   "execution_count": 5,
   "metadata": {},
   "outputs": [
    {
     "name": "stdout",
     "output_type": "stream",
     "text": [
      "Help on method uniform in module random:\n",
      "\n",
      "uniform(a, b) method of random.Random instance\n",
      "    Get a random number in the range [a, b) or [a, b] depending on rounding.\n",
      "\n"
     ]
    }
   ],
   "source": [
    "help(random.uniform)"
   ]
  },
  {
   "cell_type": "markdown",
   "metadata": {},
   "source": [
    "## Modules"
   ]
  },
  {
   "cell_type": "markdown",
   "metadata": {},
   "source": [
    "Python [modules](https://docs.python.org/3/tutorial/modules.html) are just files that contain Python definitions and statements. The purpose of modules is to make it possible to leverage durable tools. Once they are imported, the contents of the module are then available for use in the calling program.\n",
    "\n",
    "We have a simple module, called `module_test` available right now.  Let's see if we can use it."
   ]
  },
  {
   "cell_type": "code",
   "execution_count": 6,
   "metadata": {},
   "outputs": [
    {
     "name": "stdout",
     "output_type": "stream",
     "text": [
      "'''\r\n",
      "FILE:       module_test.py\r\n",
      "AUTHOR:     Marvin\r\n",
      "CREATED:    2/3/2018\r\n",
      "\r\n",
      "This module is intended only to demonstrate how we can use modules in our programs.\r\n",
      "'''\r\n",
      "\r\n",
      "def squareit(x):\r\n",
      "    return x**2"
     ]
    }
   ],
   "source": [
    "!cat module_test.py"
   ]
  },
  {
   "cell_type": "code",
   "execution_count": 9,
   "metadata": {},
   "outputs": [
    {
     "data": {
      "text/plain": [
       "81"
      ]
     },
     "execution_count": 9,
     "metadata": {},
     "output_type": "execute_result"
    }
   ],
   "source": [
    "from module_test import squareit\n",
    "\n",
    "squareit(9)"
   ]
  },
  {
   "cell_type": "markdown",
   "metadata": {},
   "source": [
    "When use an `import` statement, Python first checks the current directory to see if the module is located there. (`module_test.py` is in our current directory.)  If it doesn't see it there, it then checks the `PYTHONPATH`, followed by the default location for packages: `/usr/local/lib/python/`. These two locations aren't defined for us, because Miniconda deposits packages elsewhere."
   ]
  },
  {
   "cell_type": "code",
   "execution_count": 11,
   "metadata": {},
   "outputs": [
    {
     "name": "stdout",
     "output_type": "stream",
     "text": [
      "\r\n",
      "ls: cannot access '/usr/local/lib/python': No such file or directory\r\n"
     ]
    }
   ],
   "source": [
    "!echo $PYTHONPATH\n",
    "!ls /usr/local/lib/python"
   ]
  },
  {
   "cell_type": "markdown",
   "metadata": {},
   "source": [
    "Our packages reside under Miniconda: `[..]/miniconda3/pkgs`. In general, packages promote good coding hygiene by encouraging modularity (which means it makes code easier to debug and maintain).\n",
    "\n",
    "When we import packages, we can import a specific function, like we did above.  We can also import entire libraries with the wild card operator `*`."
   ]
  },
  {
   "cell_type": "code",
   "execution_count": 12,
   "metadata": {},
   "outputs": [
    {
     "name": "stderr",
     "output_type": "stream",
     "text": [
      "/home/choct155/analysis_tools/miniconda3/lib/python3.6/site-packages/matplotlib/font_manager.py:281: UserWarning: Matplotlib is building the font cache using fc-list. This may take a moment.\n",
      "  'Matplotlib is building the font cache using fc-list. '\n"
     ]
    }
   ],
   "source": [
    "from seaborn import *"
   ]
  },
  {
   "cell_type": "markdown",
   "metadata": {},
   "source": [
    "Once we do this, we can use any function or object in the library without having to reference the library first. **I strongly discourage you from doing this.** It makes code harder to follow because you don't have any easy way of knowing which components come from where. A better solution to the problem of avoiding excessive typing is to use an *alias*."
   ]
  },
  {
   "cell_type": "code",
   "execution_count": 13,
   "metadata": {},
   "outputs": [],
   "source": [
    "import numpy as np"
   ]
  },
  {
   "cell_type": "markdown",
   "metadata": {},
   "source": [
    "Now I have the `numpy` library available, I just have to make sure that I use `np.` when referencing anything from it. The choice of alias is arbitrary. I can also use an alias when importing subcomponents of a library. Maybe, for example, I don't want all of `bokeh`.  I can grab just the `plotting` submodule."
   ]
  },
  {
   "cell_type": "code",
   "execution_count": 14,
   "metadata": {},
   "outputs": [],
   "source": [
    "import bokeh.plotting as bp"
   ]
  },
  {
   "cell_type": "markdown",
   "metadata": {},
   "source": [
    "This avoids bringing more content into memory than I need, which can speed execution by reducing memory loads."
   ]
  },
  {
   "cell_type": "markdown",
   "metadata": {},
   "source": [
    "What if I don't know what component I need?  I can always import the base library and take a look with the IPython command, `dir()`. Let's check out the submodules under the top level of `bokeh`."
   ]
  },
  {
   "cell_type": "code",
   "execution_count": 15,
   "metadata": {},
   "outputs": [
    {
     "data": {
      "text/plain": [
       "['BokehDeprecationWarning',\n",
       " 'BokehUserWarning',\n",
       " '__base_version__',\n",
       " '__builtins__',\n",
       " '__cached__',\n",
       " '__doc__',\n",
       " '__file__',\n",
       " '__loader__',\n",
       " '__name__',\n",
       " '__package__',\n",
       " '__path__',\n",
       " '__spec__',\n",
       " '__version__',\n",
       " '_version',\n",
       " 'absolute_import',\n",
       " 'colors',\n",
       " 'core',\n",
       " 'document',\n",
       " 'embed',\n",
       " 'events',\n",
       " 'io',\n",
       " 'layouts',\n",
       " 'license',\n",
       " 'model',\n",
       " 'models',\n",
       " 'palettes',\n",
       " 'plotting',\n",
       " 'print_function',\n",
       " 'resources',\n",
       " 'sampledata',\n",
       " 'settings',\n",
       " 'test',\n",
       " 'themes',\n",
       " 'util',\n",
       " 'warnings']"
      ]
     },
     "execution_count": 15,
     "metadata": {},
     "output_type": "execute_result"
    }
   ],
   "source": [
    "import bokeh\n",
    "dir(bokeh)"
   ]
  },
  {
   "cell_type": "markdown",
   "metadata": {},
   "source": [
    "## Hello World!"
   ]
  },
  {
   "cell_type": "markdown",
   "metadata": {},
   "source": [
    "One of the first things that folks do when learning a new language is just making sure they can get something to run. The canonical method of doing this is a `Hello World` script.  We have one ready, but we will also go ahead and make one together.  Just so you see what it looks like, we can run it by using shell commands from inside the Notebook."
   ]
  },
  {
   "cell_type": "code",
   "execution_count": 16,
   "metadata": {},
   "outputs": [
    {
     "name": "stdout",
     "output_type": "stream",
     "text": [
      "Hello World!\r\n"
     ]
    }
   ],
   "source": [
    "!python hello_world.py"
   ]
  },
  {
   "cell_type": "markdown",
   "metadata": {},
   "source": [
    "## Data Types"
   ]
  },
  {
   "cell_type": "markdown",
   "metadata": {},
   "source": [
    "For our purposes, we are primarily concerned with four data types (which is not exhaustive):\n",
    "\n",
    "+ [Boolean](https://en.wikipedia.org/wiki/Boolean_data_type)\n",
    "+ [Integer](https://en.wikipedia.org/wiki/Integer_(computer_science)\n",
    "+ [Float](https://en.wikipedia.org/wiki/Floating-point_arithmetic#Floating-point_numbers)\n",
    "+ [String](https://en.wikipedia.org/wiki/String_(computer_science)\n",
    "\n",
    "The actual implementation of these broad classes of data is a bit more complicated, but we can get quite far with this representation."
   ]
  },
  {
   "cell_type": "markdown",
   "metadata": {},
   "source": [
    "## Variables"
   ]
  },
  {
   "cell_type": "markdown",
   "metadata": {},
   "source": [
    "In math, variables are symbolic representations of values or concepts.  In programming, the same general concept holds, but how it is actually implemented matters. In programming, a variable is actually [an address](https://en.wikipedia.org/wiki/Variable_(computer_science) in the computer's memory. Why does this matter? If you change the value at that location, the symbolic representation will then point to a new value at the old location. \n",
    "\n",
    "In Python, it's a bit tricky to displace the value of a variable without explicit reassignment, but that isn't true in all languages. The more common scenario is when a coder thinks that two variables are pointing at the same value, and they become decoupled."
   ]
  },
  {
   "cell_type": "code",
   "execution_count": 35,
   "metadata": {},
   "outputs": [
    {
     "name": "stdout",
     "output_type": "stream",
     "text": [
      "a => Value: 10, Location: 140309444915968\n",
      "b => Value: 10, Location: 140309444915968\n"
     ]
    }
   ],
   "source": [
    "a = 10\n",
    "b = a\n",
    "\n",
    "print('a => Value: {}, Location: {}'.format(a, id(a)))\n",
    "print('b => Value: {}, Location: {}'.format(b, id(b)))"
   ]
  },
  {
   "cell_type": "code",
   "execution_count": 36,
   "metadata": {},
   "outputs": [
    {
     "name": "stdout",
     "output_type": "stream",
     "text": [
      "a => Value: 10, Location: 140309444915968\n",
      "b => Value: 20, Location: 140309444916288\n"
     ]
    }
   ],
   "source": [
    "b = 20\n",
    "\n",
    "print('a => Value: {}, Location: {}'.format(a, id(a)))\n",
    "print('b => Value: {}, Location: {}'.format(b, id(b)))"
   ]
  },
  {
   "cell_type": "markdown",
   "metadata": {},
   "source": [
    "## Errors"
   ]
  },
  {
   "cell_type": "markdown",
   "metadata": {},
   "source": [
    "There are at least three main types of errors:\n",
    "\n",
    "+ Syntax Errors\n",
    "+ Runtime Errors\n",
    "+ Semantic Errors"
   ]
  },
  {
   "cell_type": "code",
   "execution_count": 17,
   "metadata": {},
   "outputs": [
    {
     "ename": "SyntaxError",
     "evalue": "unexpected EOF while parsing (<ipython-input-17-6ba40ac16db8>, line 2)",
     "output_type": "error",
     "traceback": [
      "\u001b[0;36m  File \u001b[0;32m\"<ipython-input-17-6ba40ac16db8>\"\u001b[0;36m, line \u001b[0;32m2\u001b[0m\n\u001b[0;31m    mylist = [1, 2, 3\u001b[0m\n\u001b[0m                     ^\u001b[0m\n\u001b[0;31mSyntaxError\u001b[0m\u001b[0;31m:\u001b[0m unexpected EOF while parsing\n"
     ]
    }
   ],
   "source": [
    "# A syntax error\n",
    "mylist = [1, 2, 3"
   ]
  },
  {
   "cell_type": "code",
   "execution_count": 25,
   "metadata": {},
   "outputs": [
    {
     "ename": "ZeroDivisionError",
     "evalue": "division by zero",
     "output_type": "error",
     "traceback": [
      "\u001b[0;31m---------------------------------------------------------------------------\u001b[0m",
      "\u001b[0;31mZeroDivisionError\u001b[0m                         Traceback (most recent call last)",
      "\u001b[0;32m<ipython-input-25-02a33261fcf0>\u001b[0m in \u001b[0;36m<module>\u001b[0;34m()\u001b[0m\n\u001b[1;32m      3\u001b[0m     \u001b[0;32mreturn\u001b[0m \u001b[0mx\u001b[0m\u001b[0;34m/\u001b[0m\u001b[0;36m0\u001b[0m\u001b[0;34m\u001b[0m\u001b[0m\n\u001b[1;32m      4\u001b[0m \u001b[0;34m\u001b[0m\u001b[0m\n\u001b[0;32m----> 5\u001b[0;31m \u001b[0mdivideByZero\u001b[0m\u001b[0;34m(\u001b[0m\u001b[0;36m10\u001b[0m\u001b[0;34m)\u001b[0m\u001b[0;34m\u001b[0m\u001b[0m\n\u001b[0m",
      "\u001b[0;32m<ipython-input-25-02a33261fcf0>\u001b[0m in \u001b[0;36mdivideByZero\u001b[0;34m(x)\u001b[0m\n\u001b[1;32m      1\u001b[0m \u001b[0;31m# A runtime error\u001b[0m\u001b[0;34m\u001b[0m\u001b[0;34m\u001b[0m\u001b[0m\n\u001b[1;32m      2\u001b[0m \u001b[0;32mdef\u001b[0m \u001b[0mdivideByZero\u001b[0m\u001b[0;34m(\u001b[0m\u001b[0mx\u001b[0m\u001b[0;34m)\u001b[0m\u001b[0;34m:\u001b[0m\u001b[0;34m\u001b[0m\u001b[0m\n\u001b[0;32m----> 3\u001b[0;31m     \u001b[0;32mreturn\u001b[0m \u001b[0mx\u001b[0m\u001b[0;34m/\u001b[0m\u001b[0;36m0\u001b[0m\u001b[0;34m\u001b[0m\u001b[0m\n\u001b[0m\u001b[1;32m      4\u001b[0m \u001b[0;34m\u001b[0m\u001b[0m\n\u001b[1;32m      5\u001b[0m \u001b[0mdivideByZero\u001b[0m\u001b[0;34m(\u001b[0m\u001b[0;36m10\u001b[0m\u001b[0;34m)\u001b[0m\u001b[0;34m\u001b[0m\u001b[0m\n",
      "\u001b[0;31mZeroDivisionError\u001b[0m: division by zero"
     ]
    }
   ],
   "source": [
    "# A runtime error\n",
    "def divideByZero(x):\n",
    "    return x/0\n",
    "\n",
    "divideByZero(10)"
   ]
  },
  {
   "cell_type": "code",
   "execution_count": 23,
   "metadata": {},
   "outputs": [
    {
     "name": "stdout",
     "output_type": "stream",
     "text": [
      "10\n"
     ]
    },
    {
     "data": {
      "text/plain": [
       "NoneType"
      ]
     },
     "execution_count": 23,
     "metadata": {},
     "output_type": "execute_result"
    }
   ],
   "source": [
    "# A semantic error\n",
    "def squareit(x):\n",
    "    return x**2\n",
    "    \n",
    "myfunc('10')"
   ]
  },
  {
   "cell_type": "markdown",
   "metadata": {},
   "source": [
    "## Collections"
   ]
  },
  {
   "cell_type": "markdown",
   "metadata": {},
   "source": [
    "There are four main collection objects that you need to know about:\n",
    "\n",
    "+ [List](https://docs.python.org/3/tutorial/datastructures.html#more-on-lists)\n",
    "+ [Set](https://docs.python.org/3/tutorial/datastructures.html#sets)\n",
    "+ [Tuple](https://docs.python.org/3/tutorial/datastructures.html#tuples-and-sequences)\n",
    "+ [Dictionary](https://docs.python.org/3/tutorial/datastructures.html#dictionaries)\n",
    "\n",
    "All of these are incredibly useful, and will come up with some frequency.  Here is some free advice, **don't sleep on those dictionaries!**.  They can hold virtually any object, which is then references in constant time."
   ]
  },
  {
   "cell_type": "markdown",
   "metadata": {},
   "source": [
    "## Control Flow"
   ]
  },
  {
   "cell_type": "markdown",
   "metadata": {},
   "source": [
    "There are many situations in which we want to change the order of operations in a program.  Maybe it's because we want to make a choice based upon a condition, or we want to repeat something many times before moving on, or some other situation has arisen. The general class of operations we use to deal with these cases fall under the [control flow](https://python.swaroopch.com/control_flow.html) umbrella.\n",
    "\n",
    "For now, we are going to focus only on two such constructs, but they have the flexibility to work in a very wide variety of situations.\n",
    "\n",
    "+ [If-Then-Else](https://en.wikipedia.org/wiki/Conditional_(computer_programming)\n",
    "+ [For Loop](https://en.wikipedia.org/wiki/For_loop)"
   ]
  },
  {
   "cell_type": "markdown",
   "metadata": {},
   "source": [
    "## Functions"
   ]
  },
  {
   "cell_type": "markdown",
   "metadata": {},
   "source": [
    "In mathematical terms, a function maps a set of inputs to a set of outputs.\n",
    "\n",
    "$$f: X \\rightarrow Y$$\n",
    "\n",
    "The function maps values from the $X$ domain to values in the $Y$ domain.\n",
    "\n",
    "$$y = f(x)$$\n",
    "\n",
    "In programming, it's the same general principle. For example, our `squareit()` function maps values to their squared representation.\n",
    "\n",
    "$$9 = squareit(3)$$\n",
    "\n",
    "All of the functions you see are derived from this idea. In Python, the generally follow the following syntax:"
   ]
  },
  {
   "cell_type": "markdown",
   "metadata": {},
   "source": [
    "```python\n",
    "def function(args):\n",
    "   ...[do stuff]...\n",
    "   return result\n",
    "```\n",
    "\n",
    "Functions can be very effective, and resuable tools, if well designed.  They should do one thing, and nothing else.  You can think of them as verbs."
   ]
  },
  {
   "cell_type": "code",
   "execution_count": null,
   "metadata": {},
   "outputs": [],
   "source": []
  }
 ],
 "metadata": {
  "kernelspec": {
   "display_name": "Python 3",
   "language": "python",
   "name": "python3"
  },
  "language_info": {
   "codemirror_mode": {
    "name": "ipython",
    "version": 3
   },
   "file_extension": ".py",
   "mimetype": "text/x-python",
   "name": "python",
   "nbconvert_exporter": "python",
   "pygments_lexer": "ipython3",
   "version": "3.6.4"
  }
 },
 "nbformat": 4,
 "nbformat_minor": 2
}
