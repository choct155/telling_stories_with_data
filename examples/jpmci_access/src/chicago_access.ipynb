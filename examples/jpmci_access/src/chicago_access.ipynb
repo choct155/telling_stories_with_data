{
 "cells": [
  {
   "cell_type": "markdown",
   "metadata": {},
   "source": [
    "# Exploring [Commercial Vibrancy in Chicago](https://www.jpmorganchase.com/corporate/institute/insight-commercial-vibrancy-of-chicago.htm)"
   ]
  },
  {
   "cell_type": "markdown",
   "metadata": {},
   "source": [
    "In March of 2017, the [JPMorgan Chase Institute](https://www.jpmorganchase.com/corporate/institute/institute.htm) released a report called [**Going the Distance:** Big Data on Resident Access to Everyday Goods](https://www.jpmorganchase.com/corporate/institute/document/institute-access-to-consumption-brief.pdf). The report leveraged the ability to capture the distance between a consumer's home zip code, and the zip code in which the merchant resided, for millions of transactions. We refer to this distance as the \"merchant distance\". When merchant distances are collected within a city, we can analyze how they differ in different parts of the city, and for different populations. Such analysis yields a novel view of within-city demand; it also has the power to speak to inequality in access to amenities across subpopulations, offering a new window into the lived experience of millions of people.\n",
    "\n",
    "The initial report focused on Detroit and New York, but a more recent analysis has centered on Chicago. The analysis performed yielded a [publicly available data file](https://www.jpmorganchase.com/corporate/institute/document/chicago_data_2016q2.zip) which holds the median \"merchant distance\" by zip code across all observed purchases. It also holds median merchant distances for grocery and restaurant purchases, in addition to overall merchant distances for low- and high-income residents of Chicago.\n",
    "\n",
    "In this Notebook, we will create a map of this data, to better the commercial landscape in Chicago."
   ]
  },
  {
   "cell_type": "code",
   "execution_count": 31,
   "metadata": {},
   "outputs": [],
   "source": [
    "# Data manipulation\n",
    "import numpy as np\n",
    "import pandas as pd\n",
    "import geopandas as gpd\n",
    "import json\n",
    "# Visualization\n",
    "import bokeh.plotting as bp\n",
    "import bokeh.models as bm\n",
    "import bokeh.io as bio\n",
    "from bokeh.tile_providers import CARTODBPOSITRON_RETINA\n",
    "import IPython.display as ipd\n",
    "# Color mapping\n",
    "import matplotlib as mpl\n",
    "import matplotlib.cm as cmap\n",
    "\n",
    "# Define function to allow us to display charts in an iframe\n",
    "def show_iframe(url, iheight=400, iwidth=1000):\n",
    "    display_string = '<iframe src={url} width={w} height={h}></iframe>'.format(url=url, w=iwidth, h=iheight)\n",
    "    print(display_string)\n",
    "    return ipd.HTML(display_string)"
   ]
  },
  {
   "cell_type": "markdown",
   "metadata": {},
   "source": [
    "## Data Read"
   ]
  },
  {
   "cell_type": "markdown",
   "metadata": {},
   "source": [
    "The data we need for this exercise comes from two sources. The first is just the \"flat\" CSV file (referenced above) that contains the access data by zip code in Chicago. This would be all we needed if we were concerned only with making non-spatial visualizations. However, since we are going to make a map, we need some way of associating the zip code level data with actual shapes that represent zip codes in Chicago. To be more precise, we need shapes represented as a set of coordinates, and then we need to associated specific data values with each coordinate set. We have taken the liberty of already downloading the flat file and depositing it in `../data/chicago_data_2016q2.csv`. Note that missing values indicate that we did not see enough customers and transactions in a given zip code to clear our minimum reporting threshold."
   ]
  },
  {
   "cell_type": "code",
   "execution_count": 14,
   "metadata": {},
   "outputs": [
    {
     "data": {
      "text/html": [
       "<div>\n",
       "<style>\n",
       "    .dataframe thead tr:only-child th {\n",
       "        text-align: right;\n",
       "    }\n",
       "\n",
       "    .dataframe thead th {\n",
       "        text-align: left;\n",
       "    }\n",
       "\n",
       "    .dataframe tbody tr th {\n",
       "        vertical-align: top;\n",
       "    }\n",
       "</style>\n",
       "<table border=\"1\" class=\"dataframe\">\n",
       "  <thead>\n",
       "    <tr style=\"text-align: right;\">\n",
       "      <th></th>\n",
       "      <th>zip_code</th>\n",
       "      <th>overall</th>\n",
       "      <th>grocery_stores</th>\n",
       "      <th>restaurants</th>\n",
       "      <th>low_income</th>\n",
       "      <th>high_income</th>\n",
       "      <th>cash_buffer_days</th>\n",
       "    </tr>\n",
       "  </thead>\n",
       "  <tbody>\n",
       "    <tr>\n",
       "      <th>0</th>\n",
       "      <td>60601</td>\n",
       "      <td>0.5</td>\n",
       "      <td>NaN</td>\n",
       "      <td>0.6</td>\n",
       "      <td>0.5</td>\n",
       "      <td>0.5</td>\n",
       "      <td>17</td>\n",
       "    </tr>\n",
       "    <tr>\n",
       "      <th>1</th>\n",
       "      <td>60602</td>\n",
       "      <td>0.8</td>\n",
       "      <td>1.0</td>\n",
       "      <td>0.7</td>\n",
       "      <td>NaN</td>\n",
       "      <td>1.0</td>\n",
       "      <td>19</td>\n",
       "    </tr>\n",
       "    <tr>\n",
       "      <th>2</th>\n",
       "      <td>60603</td>\n",
       "      <td>0.9</td>\n",
       "      <td>1.2</td>\n",
       "      <td>0.6</td>\n",
       "      <td>NaN</td>\n",
       "      <td>0.9</td>\n",
       "      <td>17</td>\n",
       "    </tr>\n",
       "    <tr>\n",
       "      <th>3</th>\n",
       "      <td>60604</td>\n",
       "      <td>0.9</td>\n",
       "      <td>NaN</td>\n",
       "      <td>0.8</td>\n",
       "      <td>NaN</td>\n",
       "      <td>NaN</td>\n",
       "      <td>20</td>\n",
       "    </tr>\n",
       "    <tr>\n",
       "      <th>4</th>\n",
       "      <td>60605</td>\n",
       "      <td>1.0</td>\n",
       "      <td>NaN</td>\n",
       "      <td>1.1</td>\n",
       "      <td>1.0</td>\n",
       "      <td>1.0</td>\n",
       "      <td>16</td>\n",
       "    </tr>\n",
       "  </tbody>\n",
       "</table>\n",
       "</div>"
      ],
      "text/plain": [
       "   zip_code  overall  grocery_stores  restaurants  low_income  high_income  \\\n",
       "0     60601      0.5             NaN          0.6         0.5          0.5   \n",
       "1     60602      0.8             1.0          0.7         NaN          1.0   \n",
       "2     60603      0.9             1.2          0.6         NaN          0.9   \n",
       "3     60604      0.9             NaN          0.8         NaN          NaN   \n",
       "4     60605      1.0             NaN          1.1         1.0          1.0   \n",
       "\n",
       "   cash_buffer_days  \n",
       "0                17  \n",
       "1                19  \n",
       "2                17  \n",
       "3                20  \n",
       "4                16  "
      ]
     },
     "execution_count": 14,
     "metadata": {},
     "output_type": "execute_result"
    }
   ],
   "source": [
    "# Read in data\n",
    "access = pd.read_csv('../data/chicago_data_2016q2.csv')\n",
    "\n",
    "access.head()"
   ]
  },
  {
   "cell_type": "markdown",
   "metadata": {},
   "source": [
    "To get the spatial information, we are going to use a [GeoJSON](http://geojson.org/) file (`.geojson`) because they are easier to work with in Python.  (Check out this [great post](https://macwright.org/2015/03/23/geojson-second-bite) about GeoJSON in depth.) Remember that [JSON](http://www.json.org/) files (of which GeoJSON is a special case) are structured in a very similar way to [Python dictionaries](https://docs.python.org/3/tutorial/datastructures.html#dictionaries). Consequently, once we read them in, we have all kinds of great built-in methods for manipulating them. The tool set for working with shapefiles (`.shp`) files is just not as robust. That said, shapefiles are far more ubiquitous than GeoJSON files because [ESRI](https://www.esri.com/en-us/home) has spent years saturating the market with their (initially) proprietary format. This is likely the reason that all of the data that the Census offers in its [Topologically Integrated Geographic Encoding and Referencing](https://www.census.gov/geo/maps-data/data/tiger.html) (TIGER) products are available as shapefiles.  Consequently, we will need to convert our spatial data files from shapefiles to GeoJSON. \n",
    "\n",
    "To prepare this example, I have used the [Geospatial Data Abstraction Library](http://gdal.org/) (GDAL) to convert the Census ZCTA5 shapefile to GeoJSON:\n",
    "\n",
    "    ogr2ogr -f GeoJSON -t_srs crs:84 tl_2017_us_zcta510.geojson tl_2017_us_zcta510.shp\n",
    "    \n",
    "That said, you don't have to install GDAL to convert the file you download from the Census. If you like, you can use one of the many available online converters that can accept shapefiles and return GeoJSON. (Literally just search \"convert shapefile to geojson\", and Google will know where you are going halfway through \"shapefile\".)  Let's take a quick look at this puppy."
   ]
  },
  {
   "cell_type": "code",
   "execution_count": 15,
   "metadata": {},
   "outputs": [
    {
     "name": "stdout",
     "output_type": "stream",
     "text": [
      "total 2757824\n",
      "drwxr-xr-x 2 root     root           4096 Mar 25 17:58 .\n",
      "drwxr-xr-x 3 root     root           4096 Mar 25 16:09 ..\n",
      "-rw-r--r-- 1 root     root         770061 Mar 25 20:45 chicago_zips_2017.geojson\n",
      "-rwxrwxr-x 1 root     root              5 Sep 18  2017 tl_2017_us_zcta510.cpg\n",
      "-rwxrwxr-x 1 root     root        2320402 Sep 18  2017 tl_2017_us_zcta510.dbf\n",
      "-rw-r--r-- 1 root     root     1439602034 Mar 25 16:18 tl_2017_us_zcta510.geojson\n",
      "-rwxrwxr-x 1 root     root            165 Sep 18  2017 tl_2017_us_zcta510.prj\n",
      "-rwxrwxr-x 1 root     root      848204320 Sep 18  2017 tl_2017_us_zcta510.shp\n",
      "-rwxrwxrwx 1 root     root          15858 Sep 18  2017 tl_2017_us_zcta510.shp.ea.iso.xml\n",
      "-rwxrwxrwx 1 root     root          38581 Sep 18  2017 tl_2017_us_zcta510.shp.iso.xml\n",
      "-rwxrwxrwx 1 root     root          18581 Sep 18  2017 tl_2017_us_zcta510.shp.xml\n",
      "-rwxrwxr-x 1 root     root         265252 Sep 18  2017 tl_2017_us_zcta510.shx\n",
      "-rw-rw-r-- 1 choct155 choct155  532724352 Mar 25 15:55 tl_2017_us_zcta510.zip\n",
      "{\n",
      "\"type\": \"FeatureCollection\",\n",
      "\"crs\": { \"type\": \"name\", \"properties\": { \"name\": \"urn:ogc:def:crs:OGC:1.3:CRS84\" } },\n",
      "\"features\": [\n",
      "{ \"type\": \"Feature\", \"properties\": { \"ZCTA5CE10\": \"43451\", \"GEOID10\": \"43451\", \"CLASSFP10\": \"B5\", \"MTFCC10\": \"G6350\", \"FUNCSTAT10\": \"S\", \"ALAND10\": 63411475, \"AWATER10\": 157689, \"INTPTLAT10\": \"+41.3183010\", \"INTPTLON10\": \"-083.6174935\" }, \"geometry\": { \"type\": \"Polygon\", \"coordinates\": [ [ [ -83.708733, 41.327326 ], [ -83.708147, 41.327311 ], [ -83.704204, 41.327265 ], [ -83.700799, 41.327232 ], [ -83.698948, 41.327207 ], [ -83.694229, 41.32716 ], [ -83.691732, 41.327109 ], [ -83.691004, 41.327092 ], [ -83.690707, 41.327094 ], [ -83.689453, 41.327072 ], [ -83.689373, 41.327073 ], [ -83.689389, 41.327137 ], [ -83.689405, 41.3276 ], [ -83.689036, 41.327702 ], [ -83.686776, 41.32842 ], [ -83.685118, 41.328939 ], [ -83.684499, 41.329104 ], [ -83.684402, 41.329124 ], [ -83.68398, 41.32921 ], [ -83.68247, 41.329491 ], [ -83.679733, 41.33001 ], [ -83.679756, 41.330432 ], [ -83.680604, 41.330433 ], [ -83.68109, 41.330502 ], [ -83.681454, 41.330709 ], [ -83.682425, 41.331029 ], [ -83.683334, 41.331236 ], [ -83.684306, 41.331351 ], [ -83.684187, 41.342703 ], [ -83.682844, 41.342686 ], [ -83.675875, 41.342587 ], [ -83.674464, 41.331119 ], [ -83.674445, 41.331124 ], [ -83.67215, 41.331634 ], [ -83.669851, 41.332163 ], [ -83.669811, 41.335773 ], [ -83.669742, 41.340321 ], [ -83.669722, 41.341943 ], [ -83.669731, 41.342454 ], [ -83.669741, 41.342495 ], [ -83.669641, 41.342487 ], [ -83.669396, 41.342486 ], [ -83.669283, 41.342485 ], [ -83.667133, 41.342451 ], [ -83.665878, 41.342436 ], [ -83.663548, 41.342401 ], [ -83.663036, 41.342391 ], [ -83.661756, 41.342365 ], [ -83.66119, 41.342356 ], [ -83.659974, 41.342335 ], [ -83.659835, 41.335434 ], [ -83.659821, 41.33471 ], [ -83.659591, 41.334715 ], [ -83.653465, 41.33469 ], [ -83.650583, 41.334667 ], [ -83.650409, 41.334669 ], [ -83.650409, 41.335947 ], [ -83.650229, 41.335947 ], [ -83.647664, 41.335967 ], [ -83.647674, 41.334756 ], [ -83.64584, 41.334752 ], [ -83.64585, 41.332761 ], [ -83.645659, 41.332761 ], [ -83.645678, 41.337637 ], [ -83.645698, 41.340425 ], [ -83.645696, 41.340925 ], [ -83.644426, 41.340869 ], [ -83.643873, 41.340248 ], [ -83.643244, 41.339797 ], [ -83.642233, 41.339475 ], [ -83.630608, 41.339087 ], [ -83.629957, 41.338469 ], [ -83.62923, 41.337757 ], [ -83.629099, 41.337988 ], [ -83.628974, 41.338241 ], [ -83.62864, 41.338965 ], [ -83.628421, 41.339384 ], [ -83.627895, 41.340293 ], [ -83.627143, 41.341569 ], [ -83.627053, 41.341752 ], [ -83.625078, 41.341719 ], [ -83.62468, 41.341712 ], [ -83.62471, 41.34159 ], [ -83.624741, 41.341463 ], [ -83.625019, 41.340333 ], [ -83.625218, 41.339399 ], [ -83.625339, 41.338729 ], [ -83.625436, 41.338102 ], [ -83.625555, 41.33707 ], [ -83.625578, 41.3368 ], [ -83.625583, 41.336758 ], [ -83.625589, 41.336712 ], [ -83.625617, 41.336351 ], [ -83.625655, 41.335676 ], [ -83.625729, 41.333194 ], [ -83.625855, 41.328517 ], [ -83.625941, 41.325644 ], [ -83.622486, 41.325644 ], [ -83.621986, 41.325647 ], [ -83.62171, 41.325648 ], [ -83.620707, 41.325646 ], [ -83.619462, 41.325659 ], [ -83.616932, 41.325686 ], [ -83.614001, 41.325705 ], [ -83.611095, 41.325723 ], [ -83.61109, 41.32613 ], [ -83.611017, 41.328654 ], [ -83.611005, 41.329253 ], [ -83.610978, 41.330638 ], [ -83.61094, 41.332982 ], [ -83.610934, 41.33447 ], [ -83.610913, 41.335732 ], [ -83.610881, 41.3397 ], [ -83.610898, 41.340556 ], [ -83.61088, 41.341278 ], [ -83.610877, 41.341317 ], [ -83.610858, 41.341587 ], [ -83.610413, 41.341589 ], [ -83.606638, 41.341569 ], [ -83.606287, 41.341567 ], [ -83.60438, 41.34156 ], [ -83.600556, 41.341539 ], [ -83.597145, 41.34153 ], [ -83.595223, 41.341528 ], [ -83.593497, 41.341525 ], [ -83.593148, 41.341525 ], [ -83.591834, 41.341529 ], [ -83.591685, 41.341526 ], [ -83.591656, 41.341477 ], [ -83.591606, 41.341326 ], [ -83.591594, 41.341251 ], [ -83.591575, 41.341139 ], [ -83.591559, 41.340959 ], [ -83.591547, 41.340598 ], [ -83.591562, 41.338573 ], [ -83.591564, 41.337365 ], [ -83.591548, 41.333903 ], [ -83.591555, 41.333319 ], [ -83.591578, 41.332825 ], [ -83.591644, 41.329496 ], [ -83.591717, 41.327606 ], [ -83.591773, 41.325809 ], [ -83.590415, 41.325813 ], [ -83.586891, 41.325834 ], [ -83.585756, 41.325828 ], [ -83.583726, 41.325839 ], [ -83.582909, 41.325845 ], [ -83.581632, 41.327293 ], [ -83.580995, 41.328208 ], [ -83.58051, 41.32862 ], [ -83.579782, 41.328986 ], [ -83.578599, 41.329306 ], [ -83.57766, 41.329787 ], [ -83.575385, 41.331274 ], [ -83.574263, 41.332098 ], [ -83.573565, 41.332372 ], [ -83.572347, 41.33274 ], [ -83.572347, 41.332756 ], [ -83.572311, 41.333779 ], [ -83.572297, 41.335258 ], [ -83.572267, 41.338417 ], [ -83.572278, 41.340081 ], [ -83.572268, 41.341205 ], [ -83.572265, 41.341501 ], [ -83.560829, 41.341419 ], [ -83.558738, 41.341413 ], [ -83.558293, 41.341409 ], [ -83.553425, 41.341369 ], [ -83.553025, 41.341367 ], [ -83.550316, 41.341339 ], [ -83.549002, 41.341301 ], [ -83.546553, 41.34127 ], [ -83.546196, 41.341271 ], [ -83.546141, 41.341287 ], [ -83.546089, 41.341311 ], [ -83.546043, 41.341339 ], [ -83.545963, 41.341405 ], [ -83.545862, 41.341517 ], [ -83.544088, 41.34377 ], [ -83.543741, 41.344192 ], [ -83.543629, 41.344351 ], [ -83.543584, 41.344435 ], [ -83.543567, 41.344478 ], [ -83.54354, 41.344606 ], [ -83.54353, 41.344786 ], [ -83.543517, 41.345461 ], [ -83.543441, 41.347984 ], [ -83.543419, 41.348581 ], [ -83.543361, 41.348582 ], [ -83.543223, 41.34858 ], [ -83.543018, 41.34857 ], [ -83.539478, 41.34857 ], [ -83.539298, 41.34858 ], [ -83.539119, 41.348601 ], [ -83.538943, 41.348636 ], [ -83.538773, 41.348685 ], [ -83.538417, 41.348826 ], [ -83.538306, 41.348857 ], [ -83.538133, 41.348887 ], [ -83.537955, 41.348902 ], [ -83.537535, 41.348912 ], [ -83.536449, 41.348913 ], [ -83.533978, 41.348926 ], [ -83.533773, 41.348933 ], [ -83.53377, 41.348763 ], [ -83.533786, 41.347681 ], [ -83.533789, 41.346736 ], [ -83.533813, 41.3461 ], [ -83.534212, 41.345998 ], [ -83.535578, 41.345953 ], [ -83.536245, 41.34609 ], [ -83.537004, 41.346365 ], [ -83.538946, 41.346777 ], [ -83.539552, 41.346846 ], [ -83.54022, 41.346686 ], [ -83.540827, 41.346411 ], [ -83.541616, 41.345702 ], [ -83.543558, 41.34369 ], [ -83.545386, 41.341171 ], [ -83.545653, 41.340764 ], [ -83.545744, 41.340466 ], [ -83.546501, 41.33998 ], [ -83.547386, 41.339727 ], [ -83.549716, 41.339362 ], [ -83.550859, 41.339058 ], [ -83.552277, 41.338574 ], [ -83.55257, 41.338388 ], [ -83.552566, 41.338354 ], [ -83.55258, 41.338294 ], [ -83.552604, 41.338254 ], [ -83.552873, 41.337958 ], [ -83.552962, 41.33784 ], [ -83.553009, 41.337758 ], [ -83.553043, 41.337673 ], [ -83.553072, 41.33754 ], [ -83.553083, 41.337406 ], [ -83.553084, 41.336954 ], [ -83.553134, 41.334613 ], [ -83.553147, 41.333517 ], [ -83.554118, 41.334407 ], [ -83.554603, 41.335551 ], [ -83.554876, 41.335985 ], [ -83.555362, 41.335939 ], [ -83.555847, 41.335802 ], [ -83.558547, 41.335642 ], [ -83.561217, 41.335688 ], [ -83.562644, 41.335185 ], [ -83.562674, 41.334933 ], [ -83.562432, 41.334544 ], [ -83.56231, 41.333973 ], [ -83.562158, 41.333767 ], [ -83.562188, 41.33331 ], [ -83.562643, 41.332624 ], [ -83.562552, 41.332029 ], [ -83.562338, 41.331869 ], [ -83.562428, 41.331526 ], [ -83.562793, 41.331343 ], [ -83.562942, 41.325992 ], [ -83.56253, 41.325996 ], [ -83.561694, 41.326008 ], [ -83.560141, 41.326021 ], [ -83.553271, 41.326025 ], [ -83.55172, 41.326022 ], [ -83.550585, 41.326007 ], [ -83.549809, 41.326014 ], [ -83.544028, 41.326138 ], [ -83.543689, 41.326145 ], [ -83.537152, 41.326287 ], [ -83.53536, 41.326307 ], [ -83.535062, 41.326298 ], [ -83.534825, 41.326276 ], [ -83.534592, 41.326238 ], [ -83.534248, 41.326162 ], [ -83.534087, 41.32612 ], [ -83.534157, 41.320484 ], [ -83.534168, 41.319007 ], [ -83.534171, 41.318593 ], [ -83.53419, 41.317152 ], [ -83.534198, 41.315576 ], [ -83.534261, 41.31155 ], [ -83.534267, 41.311064 ], [ -83.534311, 41.307561 ], [ -83.534322, 41.30612 ], [ -83.534338, 41.305535 ], [ -83.534404, 41.30441 ], [ -83.534416, 41.304013 ], [ -83.534429, 41.303555 ], [ -83.53446, 41.300943 ], [ -83.534481, 41.298286 ], [ -83.534508, 41.297062 ], [ -83.534895, 41.297066 ], [ -83.535582, 41.297073 ], [ -83.538149, 41.297077 ], [ -83.539463, 41.297073 ], [ -83.540777, 41.297061 ], [ -83.54209, 41.297044 ], [ -83.543931, 41.297014 ], [ -83.544334, 41.297008 ], [ -83.545553, 41.296997 ], [ -83.547588, 41.296989 ], [ -83.550986, 41.296975 ], [ -83.552181, 41.296967 ], [ -83.554036, 41.296944 ], [ -83.554555, 41.296939 ], [ -83.559286, 41.296894 ], [ -83.563345, 41.296841 ], [ -83.563686, 41.296838 ], [ -83.565793, 41.296821 ], [ -83.572592, 41.296745 ], [ -83.573226, 41.296738 ], [ -83.573283, 41.295186 ], [ -83.573338, 41.293341 ], [ -83.573381, 41.292801 ], [ -83.573438, 41.291182 ], [ -83.573471, 41.289786 ], [ -83.573463, 41.289476 ], [ -83.576108, 41.289442 ], [ -83.577422, 41.289432 ], [ -83.579572, 41.28943 ], [ -83.581364, 41.289436 ], [ -83.582933, 41.289435 ], [ -83.585664, 41.289434 ], [ -83.590084, 41.289427 ], [ -83.59255, 41.289433 ], [ -83.59258, 41.28853 ], [ -83.592602, 41.28763 ], [ -83.592714, 41.283759 ], [ -83.592735, 41.283398 ], [ -83.592832, 41.282456 ], [ -83.592838, 41.282259 ], [ -83.593257, 41.28226 ], [ -83.593692, 41.282261 ], [ -83.596318, 41.282294 ], [ -83.599363, 41.282338 ], [ -83.602361, 41.282388 ], [ -83.602808, 41.282396 ], [ -83.610352, 41.282523 ], [ -83.610674, 41.282528 ], [ -83.610884, 41.282532 ], [ -83.612077, 41.282548 ], [ -83.615302, 41.282557 ], [ -83.616588, 41.282553 ], [ -83.618228, 41.282548 ], [ -83.619959, 41.282547 ], [ -83.626528, 41.282524 ], [ -83.62808, 41.282512 ], [ -83.631086, 41.282506 ], [ -83.63202, 41.282516 ], [ -83.634748, 41.282576 ], [ -83.634819, 41.282421 ], [ -83.634993, 41.280523 ], [ -83.635145, 41.279883 ], [ -83.636147, 41.277871 ], [ -83.636208, 41.275561 ], [ -83.636481, 41.274967 ], [ -83.636754, 41.274784 ], [ -83.636754, 41.274624 ], [ -83.63824, 41.27307 ], [ -83.638938, 41.272224 ], [ -83.638999, 41.271401 ], [ -83.638937, 41.270006 ], [ -83.639056, 41.269457 ], [ -83.638961, 41.268471 ], [ -83.640428, 41.268514 ], [ -83.641144, 41.268526 ], [ -83.645375, 41.268504 ], [ -83.645376, 41.268654 ], [ -83.645375, 41.27041 ], [ -83.645382, 41.270685 ], [ -83.645382, 41.270782 ], [ -83.645382, 41.271295 ], [ -83.645382, 41.271568 ], [ -83.645393, 41.273301 ], [ -83.645557, 41.273313 ], [ -83.64659, 41.273317 ], [ -83.646682, 41.273321 ], [ -83.647492, 41.27331 ], [ -83.647668, 41.273317 ], [ -83.647782, 41.273334 ], [ -83.647946, 41.27338 ], [ -83.64805, 41.273423 ], [ -83.648097, 41.273451 ], [ -83.648303, 41.273552 ], [ -83.648539, 41.273694 ], [ -83.64869, 41.27377 ], [ -83.649715, 41.274241 ], [ -83.649826, 41.274281 ], [ -83.650103, 41.274349 ], [ -83.650341, 41.274428 ], [ -83.650347, 41.275236 ], [ -83.650363, 41.276271 ], [ -83.650418, 41.282964 ], [ -83.650434, 41.2843 ], [ -83.650466, 41.28708 ], [ -83.650478, 41.288347 ], [ -83.650524, 41.294645 ], [ -83.650551, 41.297536 ], [ -83.650548, 41.298416 ], [ -83.650546, 41.299149 ], [ -83.650549, 41.3005 ], [ -83.650545, 41.302376 ], [ -83.650544, 41.302842 ], [ -83.650547, 41.304721 ], [ -83.651318, 41.304424 ], [ -83.652016, 41.303807 ], [ -83.653593, 41.303259 ], [ -83.654533, 41.302596 ], [ -83.654746, 41.302321 ], [ -83.655292, 41.301315 ], [ -83.657489, 41.301279 ], [ -83.665465, 41.301149 ], [ -83.664485, 41.302344 ], [ -83.664369, 41.302487 ], [ -83.663397, 41.303859 ], [ -83.663292, 41.304048 ], [ -83.662698, 41.305116 ], [ -83.660235, 41.31106 ], [ -83.660144, 41.311586 ], [ -83.660204, 41.311974 ], [ -83.660198, 41.312168 ], [ -83.661558, 41.312169 ], [ -83.66284, 41.312176 ], [ -83.663833, 41.312182 ], [ -83.664073, 41.312174 ], [ -83.66425, 41.312155 ], [ -83.664483, 41.312115 ], [ -83.664999, 41.311997 ], [ -83.66529, 41.311945 ], [ -83.665527, 41.311915 ], [ -83.66573, 41.311907 ], [ -83.665852, 41.311911 ], [ -83.66603, 41.311935 ], [ -83.666145, 41.311963 ], [ -83.666593, 41.312103 ], [ -83.666768, 41.312137 ], [ -83.666949, 41.312149 ], [ -83.667157, 41.312141 ], [ -83.667338, 41.312122 ], [ -83.667576, 41.312084 ], [ -83.66781, 41.312031 ], [ -83.668093, 41.311946 ], [ -83.668569, 41.311768 ], [ -83.668687, 41.311948 ], [ -83.669229, 41.311704 ], [ -83.67102, 41.311018 ], [ -83.672294, 41.310858 ], [ -83.674509, 41.310332 ], [ -83.675389, 41.309988 ], [ -83.676663, 41.309325 ], [ -83.677543, 41.309508 ], [ -83.678362, 41.309417 ], [ -83.679727, 41.309438 ], [ -83.682002, 41.309667 ], [ -83.684217, 41.310215 ], [ -83.684793, 41.310466 ], [ -83.685582, 41.310604 ], [ -83.686795, 41.310627 ], [ -83.68719, 41.31074 ], [ -83.688222, 41.31122 ], [ -83.688798, 41.31138 ], [ -83.68895, 41.311563 ], [ -83.689404, 41.311567 ], [ -83.689405, 41.312043 ], [ -83.689398, 41.312129 ], [ -83.689397, 41.312221 ], [ -83.68938, 41.312502 ], [ -83.689935, 41.312513 ], [ -83.690081, 41.312516 ], [ -83.696451, 41.312548 ], [ -83.697765, 41.312551 ], [ -83.699557, 41.312565 ], [ -83.702125, 41.312606 ], [ -83.708335, 41.312744 ], [ -83.708556, 41.31274 ], [ -83.708551, 41.313235 ], [ -83.708569, 41.313996 ], [ -83.708592, 41.314671 ], [ -83.70862, 41.316112 ], [ -83.708629, 41.317418 ], [ -83.708649, 41.318904 ], [ -83.708681, 41.32057 ], [ -83.708705, 41.322371 ], [ -83.708714, 41.325569 ], [ -83.708733, 41.327326 ] ] ] } },\n"
     ]
    }
   ],
   "source": [
    "!ls -la ../data/spatial/\n",
    "!head -5 ../data/spatial/tl_2017_us_zcta510.geojson"
   ]
  },
  {
   "cell_type": "code",
   "execution_count": 16,
   "metadata": {},
   "outputs": [],
   "source": [
    "# !tail -3 ../data/spatial/tl_2017_us_zcta510.geojson"
   ]
  },
  {
   "cell_type": "markdown",
   "metadata": {},
   "source": [
    "The first thing to note is the size of the GeoJSON file.  It is a rather beastly 1.4 GB, so we definitely do not want to read this whole thing into memory.  (Here are some [handy tips](https://www.dataquest.io/blog/python-json-tutorial/) about working with large JSON assets.) We need to find some way of reading in only Chicago zip codes. The second call (which prints out the head of the GeoJSON file) gives us clues as to how to achieve this goal.  The general structure of the file is as follows:\n",
    "\n",
    "    {\n",
    "        \"type\": \"FeatureCollection\",\n",
    "        \"crs\": { \n",
    "            \"type\": \"name\", \n",
    "            \"properties\": { ... } \n",
    "            },\n",
    "        \"features\": [\n",
    "            { \n",
    "                \"type\": \"Feature\", \n",
    "                \"properties\": { ... }, \n",
    "                \"geometry\": { \n",
    "                    \"type\": \"Polygon\", \n",
    "                    \"coordinates\": [ ... ]\n",
    "                 }\n",
    "            }\n",
    "        ]\n",
    "    }\n",
    "    \n",
    "The vast majority of the information in this structure resides in `f[\"features\"][\"geometry\"][\"coordinates\"]`. To make sure we only carry the coordinates we need, we should leverage the filtering opportunity that `f[\"features\"][\"properties\"]` provides. If we take a closer look at the first feature, we can see all the data values offered for each zip code:\n",
    "\n",
    "    \"properties\": { \n",
    "        \"ZCTA5CE10\": \"84049\", \n",
    "        \"GEOID10\": \"84049\", \n",
    "        \"CLASSFP10\": \"B5\", \n",
    "        \"MTFCC10\": \"G6350\", \n",
    "        \"FUNCSTAT10\": \"S\", \n",
    "        \"ALAND10\": 215986428, \n",
    "        \"AWATER10\": 10468874, \n",
    "        \"INTPTLAT10\": \"+40.5228727\", \n",
    "        \"INTPTLON10\": \"-111.5243678\" \n",
    "    }\n",
    "    \n",
    "Hopefully `ZCTA5CE0` sticks out as a high-value target, since our flat file already gave us a list of the ZIP codes we can map."
   ]
  },
  {
   "cell_type": "code",
   "execution_count": 17,
   "metadata": {},
   "outputs": [
    {
     "name": "stdout",
     "output_type": "stream",
     "text": [
      "[60601, 60602, 60603, 60604, 60605, 60606, 60607, 60608, 60609, 60610, 60611, 60612, 60613, 60614, 60615, 60616, 60617, 60618, 60619, 60620, 60621, 60622, 60623, 60624, 60625, 60626, 60628, 60629, 60630, 60631, 60632, 60633, 60634, 60636, 60637, 60638, 60639, 60640, 60641, 60642, 60643, 60644, 60645, 60646, 60647, 60649, 60651, 60652, 60653, 60654, 60655, 60656, 60657, 60659, 60660, 60661]\n"
     ]
    }
   ],
   "source": [
    "# Grab the set of zip codes\n",
    "zips = sorted(set(access['zip_code']))\n",
    "\n",
    "print(zips)"
   ]
  },
  {
   "cell_type": "markdown",
   "metadata": {},
   "source": [
    "Our goal is to build a list of features that corresponds to only our Chicago zip codes. At a high level, we need to do the following:\n",
    "\n",
    "1. Create a list of Chicago zip codes\n",
    "2. Loop over the zip codes, scanning the file for lines that contain each one\n",
    "3. If a line holds a Chicago zip code, deposit the feature in a list and move to the next zip code. If it doesn't, simply move to the next one.\n",
    "\n",
    "Yet again, behold the power of IPython's ability to blend bash commands with Python logic and syntax.  We don't want to read in the whole file before filtering, because that will take forever. Furthermore, bash already has an excellent tool for finding substrings of relevance (\"IPython\" is a substring of \"IPython for the win\"): [grep](https://www.gnu.org/savannah-checkouts/gnu/grep/manual/grep.html).  To provide an example of the core functionality that will make this work, note how easy and fast it is to find the feature information pertaining to the first Chicago zip code, `60601`."
   ]
  },
  {
   "cell_type": "code",
   "execution_count": 18,
   "metadata": {},
   "outputs": [
    {
     "data": {
      "text/plain": [
       "['{ \"type\": \"Feature\", \"properties\": { \"ZCTA5CE10\": \"60601\", \"GEOID10\": \"60601\", \"CLASSFP10\": \"B5\", \"MTFCC10\": \"G6350\", \"FUNCSTAT10\": \"S\", \"ALAND10\": 934226, \"AWATER10\": 60682, \"INTPTLAT10\": \"+41.8856419\", \"INTPTLON10\": \"-087.6215226\" }, \"geometry\": { \"type\": \"Polygon\", \"coordinates\": [ [ [ -87.633965, 41.886985 ], [ -87.633727, 41.886979 ], [ -87.633389, 41.886982 ], [ -87.632726, 41.886972 ], [ -87.632486, 41.886974 ], [ -87.632486, 41.886993 ], [ -87.632487, 41.887062 ], [ -87.631008, 41.887063 ], [ -87.63101, 41.887098 ], [ -87.631015, 41.88727 ], [ -87.631019, 41.887383 ], [ -87.631022, 41.887473 ], [ -87.631023, 41.88751 ], [ -87.630725, 41.887509 ], [ -87.629834, 41.887508 ], [ -87.629537, 41.887508 ], [ -87.62923, 41.887507 ], [ -87.62831, 41.887506 ], [ -87.628004, 41.887506 ], [ -87.62794, 41.887506 ], [ -87.627896, 41.88752 ], [ -87.627584, 41.887626 ], [ -87.62748, 41.887662 ], [ -87.627365, 41.8877 ], [ -87.62707, 41.887912 ], [ -87.626972, 41.887983 ], [ -87.626882, 41.888048 ], [ -87.626213, 41.8884 ], [ -87.625243, 41.888856 ], [ -87.624355, 41.88893 ], [ -87.62274, 41.888863 ], [ -87.622074, 41.88878 ], [ -87.620635, 41.888617 ], [ -87.62055, 41.888601 ], [ -87.620464, 41.888585 ], [ -87.620051, 41.888509 ], [ -87.619995, 41.888499 ], [ -87.618273, 41.888468 ], [ -87.61768, 41.888458 ], [ -87.617626, 41.888457 ], [ -87.617589, 41.888456 ], [ -87.617467, 41.888454 ], [ -87.617414, 41.888454 ], [ -87.614171, 41.888397 ], [ -87.614166, 41.888262 ], [ -87.614158, 41.888051 ], [ -87.614079, 41.888084 ], [ -87.614061, 41.88809 ], [ -87.614036, 41.888097 ], [ -87.613964, 41.888088 ], [ -87.613911, 41.888081 ], [ -87.613761, 41.888063 ], [ -87.613438, 41.887887 ], [ -87.613436, 41.887745 ], [ -87.613431, 41.887295 ], [ -87.613431, 41.887272 ], [ -87.613395, 41.886866 ], [ -87.613388, 41.886471 ], [ -87.61344, 41.886399 ], [ -87.613502, 41.886379 ], [ -87.613572, 41.886356 ], [ -87.613594, 41.886295 ], [ -87.613506, 41.886251 ], [ -87.613474, 41.886188 ], [ -87.613445, 41.886132 ], [ -87.613403, 41.886048 ], [ -87.613339, 41.885699 ], [ -87.613217, 41.885572 ], [ -87.61301, 41.885356 ], [ -87.612902, 41.885199 ], [ -87.612958, 41.885196 ], [ -87.613167, 41.885006 ], [ -87.613258, 41.88484 ], [ -87.613272, 41.884798 ], [ -87.613327, 41.88465 ], [ -87.61345, 41.884534 ], [ -87.613479, 41.88452 ], [ -87.613644, 41.884414 ], [ -87.613744, 41.884412 ], [ -87.613836, 41.884412 ], [ -87.613963, 41.884412 ], [ -87.614008, 41.884412 ], [ -87.614028, 41.884406 ], [ -87.614108, 41.884384 ], [ -87.614664, 41.883895 ], [ -87.615122, 41.883493 ], [ -87.615218, 41.883409 ], [ -87.615508, 41.883154 ], [ -87.615713, 41.882975 ], [ -87.616099, 41.882261 ], [ -87.616227, 41.882174 ], [ -87.61632, 41.88207 ], [ -87.616424, 41.88189 ], [ -87.616478, 41.881748 ], [ -87.616478, 41.881562 ], [ -87.616489, 41.881442 ], [ -87.615768, 41.881437 ], [ -87.615752, 41.880907 ], [ -87.616052, 41.880909 ], [ -87.616952, 41.880918 ], [ -87.617253, 41.880921 ], [ -87.617299, 41.88092 ], [ -87.61744, 41.880918 ], [ -87.617488, 41.880918 ], [ -87.618148, 41.880908 ], [ -87.62013, 41.880882 ], [ -87.620791, 41.880873 ], [ -87.621212, 41.880868 ], [ -87.622154, 41.880857 ], [ -87.622475, 41.880852 ], [ -87.622548, 41.880851 ], [ -87.622605, 41.88085 ], [ -87.622896, 41.880846 ], [ -87.622918, 41.880845 ], [ -87.622969, 41.880845 ], [ -87.622986, 41.880844 ], [ -87.623009, 41.880844 ], [ -87.623175, 41.880842 ], [ -87.623255, 41.880841 ], [ -87.623995, 41.880832 ], [ -87.624242, 41.880829 ], [ -87.624241, 41.880934 ], [ -87.624249, 41.881087 ], [ -87.624261, 41.881319 ], [ -87.62428, 41.881677 ], [ -87.624291, 41.88186 ], [ -87.624296, 41.882119 ], [ -87.624301, 41.882342 ], [ -87.624319, 41.883014 ], [ -87.624325, 41.883238 ], [ -87.624353, 41.88422 ], [ -87.624381, 41.884359 ], [ -87.624452, 41.884471 ], [ -87.624498, 41.884395 ], [ -87.624516, 41.884316 ], [ -87.624514, 41.883833 ], [ -87.624502, 41.88323 ], [ -87.624669, 41.883227 ], [ -87.624934, 41.883224 ], [ -87.625172, 41.883223 ], [ -87.62534, 41.883223 ], [ -87.625325, 41.883303 ], [ -87.625329, 41.883476 ], [ -87.62535, 41.884242 ], [ -87.625358, 41.884498 ], [ -87.625535, 41.884497 ], [ -87.626069, 41.884496 ], [ -87.626215, 41.884496 ], [ -87.626248, 41.884496 ], [ -87.626309, 41.884496 ], [ -87.62658, 41.884495 ], [ -87.627578, 41.884492 ], [ -87.627911, 41.884491 ], [ -87.62822, 41.884488 ], [ -87.629147, 41.884481 ], [ -87.629254, 41.884481 ], [ -87.629457, 41.884482 ], [ -87.629752, 41.88448 ], [ -87.630639, 41.884477 ], [ -87.630935, 41.884477 ], [ -87.631235, 41.884476 ], [ -87.632134, 41.884473 ], [ -87.632435, 41.884473 ], [ -87.632727, 41.884472 ], [ -87.633603, 41.88447 ], [ -87.633861, 41.88447 ], [ -87.633895, 41.884469 ], [ -87.633898, 41.884595 ], [ -87.633908, 41.884976 ], [ -87.633912, 41.885103 ], [ -87.633915, 41.885228 ], [ -87.633926, 41.885603 ], [ -87.63393, 41.885729 ], [ -87.633931, 41.885749 ], [ -87.633933, 41.885838 ], [ -87.633941, 41.886167 ], [ -87.633944, 41.886277 ], [ -87.633948, 41.886396 ], [ -87.633961, 41.886746 ], [ -87.633961, 41.886756 ], [ -87.633964, 41.886876 ], [ -87.633964, 41.886931 ], [ -87.633965, 41.886985 ] ] ] } },']"
      ]
     },
     "execution_count": 18,
     "metadata": {},
     "output_type": "execute_result"
    }
   ],
   "source": [
    "first_zip = !grep '\"ZCTA5CE10\": \"60601\"' ../data/spatial/tl_2017_us_zcta510.geojson\n",
    "\n",
    "first_zip"
   ]
  },
  {
   "cell_type": "markdown",
   "metadata": {},
   "source": [
    "We are now going to use this compact approach to populate features in a JSON string modeled after the original GeoJSON file. Then we can add the GeoJSON front end to our feature list, make sure we cap off the features with closing brackets, and we will be in business."
   ]
  },
  {
   "cell_type": "code",
   "execution_count": 19,
   "metadata": {},
   "outputs": [
    {
     "name": "stdout",
     "output_type": "stream",
     "text": [
      "Scanning for 60601\n",
      "Scanning for 60602\n",
      "Scanning for 60603\n",
      "Scanning for 60604\n",
      "Scanning for 60605\n",
      "Scanning for 60606\n",
      "Scanning for 60607\n",
      "Scanning for 60608\n",
      "Scanning for 60609\n",
      "Scanning for 60610\n",
      "Scanning for 60611\n",
      "Scanning for 60612\n",
      "Scanning for 60613\n",
      "Scanning for 60614\n",
      "Scanning for 60615\n",
      "Scanning for 60616\n",
      "Scanning for 60617\n",
      "Scanning for 60618\n",
      "Scanning for 60619\n",
      "Scanning for 60620\n",
      "Scanning for 60621\n",
      "Scanning for 60622\n",
      "Scanning for 60623\n",
      "Scanning for 60624\n",
      "Scanning for 60625\n",
      "Scanning for 60626\n",
      "Scanning for 60628\n",
      "Scanning for 60629\n",
      "Scanning for 60630\n",
      "Scanning for 60631\n",
      "Scanning for 60632\n",
      "Scanning for 60633\n",
      "Scanning for 60634\n",
      "Scanning for 60636\n",
      "Scanning for 60637\n",
      "Scanning for 60638\n",
      "Scanning for 60639\n",
      "Scanning for 60640\n",
      "Scanning for 60641\n",
      "Scanning for 60642\n",
      "Scanning for 60643\n",
      "Scanning for 60644\n",
      "Scanning for 60645\n",
      "Scanning for 60646\n",
      "Scanning for 60647\n",
      "Scanning for 60649\n",
      "Scanning for 60651\n",
      "Scanning for 60652\n",
      "Scanning for 60653\n",
      "Scanning for 60654\n",
      "Scanning for 60655\n",
      "Scanning for 60656\n",
      "Scanning for 60657\n",
      "Scanning for 60659\n",
      "Scanning for 60660\n",
      "Scanning for 60661\n"
     ]
    }
   ],
   "source": [
    "# Create dictionary to hold new subset of spatial info\n",
    "chicago = '''\n",
    "{\n",
    "    \"type\": \"FeatureCollection\",\n",
    "    \"crs\": { \"type\": \"name\", \"properties\": { \"name\": \"urn:ogc:def:crs:OGC:1.3:CRS84\" } },\n",
    "    \"features\": [\n",
    "'''\n",
    "\n",
    "# Create container to hold feature-specific substrings\n",
    "chi_zips = []\n",
    "# For each Chicago zip code\n",
    "for z in zips:\n",
    "    print('Scanning for {}'.format(z))\n",
    "    # grab the relevant feature info and throw it in the chicago dict\n",
    "    z_tmp = !grep '\"ZCTA5CE10\": \"{z}\"' ../data/spatial/tl_2017_us_zcta510.geojson\n",
    "    chi_zips.append(z_tmp[0][:-1]) # bash results are collected as a list, and we want to drop trailing commas\n",
    "    \n",
    "chicago_json = chicago + (',').join(chi_zips) + ']}'"
   ]
  },
  {
   "cell_type": "code",
   "execution_count": 20,
   "metadata": {},
   "outputs": [],
   "source": [
    "# print(chicago_json)"
   ]
  },
  {
   "cell_type": "markdown",
   "metadata": {},
   "source": [
    "We can hold these data for future use by writing the subset back to disk."
   ]
  },
  {
   "cell_type": "code",
   "execution_count": 21,
   "metadata": {},
   "outputs": [],
   "source": [
    "with open('../data/spatial/chicago_zips_2017.geojson', 'w') as outfile:\n",
    "    outfile.write(chicago_json)"
   ]
  },
  {
   "cell_type": "markdown",
   "metadata": {},
   "source": [
    "## Data Inspection"
   ]
  },
  {
   "cell_type": "markdown",
   "metadata": {},
   "source": [
    "Now that we have our GeoJSON string for Chicago, let's visually inspect our boundaries to see if they make sense.  We can use a quick and dirty polygon plot."
   ]
  },
  {
   "cell_type": "code",
   "execution_count": 22,
   "metadata": {},
   "outputs": [
    {
     "name": "stdout",
     "output_type": "stream",
     "text": [
      "<iframe src=../figs/chicago_access.html width=950 height=850></iframe>\n"
     ]
    },
    {
     "data": {
      "text/html": [
       "<iframe src=../figs/chicago_access.html width=950 height=850></iframe>"
      ],
      "text/plain": [
       "<IPython.core.display.HTML object>"
      ]
     },
     "execution_count": 22,
     "metadata": {},
     "output_type": "execute_result"
    }
   ],
   "source": [
    "# Define GeoJSON source\n",
    "chi_src = bm.GeoJSONDataSource(geojson=chicago_json)\n",
    "\n",
    "# Define location of output file\n",
    "bp.output_file('../figs/chicago_access.html')\n",
    "\n",
    "# Plot blue polys with white lines\n",
    "p = bp.figure(height=900, width=900, lod_threshold=1)\n",
    "p.patches(xs='xs', ys='ys', fill_color='blue', source=chi_src)\n",
    "p.multi_line(xs='xs', ys='ys', line_color='white', line_width=0.3, source=chi_src)\n",
    "\n",
    "# Show the figure\n",
    "bp.save(p)\n",
    "\n",
    "show_iframe('../figs/chicago_access.html', iwidth=950, iheight=850)"
   ]
  },
  {
   "cell_type": "markdown",
   "metadata": {},
   "source": [
    "## Joining Access Data to Spatial Data"
   ]
  },
  {
   "cell_type": "markdown",
   "metadata": {},
   "source": [
    "One of the most useful projects I have come across for spatial analysis has been [GeoPandas](http://geopandas.org/). It's kind of exactly what it sounds like. This project combines spatial data operations with the flexible pandas DataFrame. Among other things, it makes it much more convenient to join flat data to polygons, so we will use it to assign access values (and associated colors) to each zip code. \n",
    "\n",
    "First, let's create a consolidated GeoDataFrame."
   ]
  },
  {
   "cell_type": "code",
   "execution_count": 23,
   "metadata": {},
   "outputs": [],
   "source": [
    "import matplotlib as mpl"
   ]
  },
  {
   "cell_type": "code",
   "execution_count": 84,
   "metadata": {},
   "outputs": [],
   "source": [
    "# Read in chicago zips into a GeoDataFrame\n",
    "chi_df = gpd.read_file('../data/spatial/chicago_zips_2017.geojson').rename(columns = {'ZCTA5CE10': 'zip_code'})\n",
    "\n",
    "# Set the projection to be consistent with Bokeh tiles (Mercator)\n",
    "chi_df = chi_df.to_crs({'init': 'epsg:3857'})\n",
    "\n",
    "# Set zip code to index to facilitate joining\n",
    "for df in [access, chi_df]:\n",
    "    if 'zip_code' in df.columns:\n",
    "        # Make sure zip codes are integers in both sets\n",
    "        df['zip_code'] = df['zip_code'].astype(int)\n",
    "        df.set_index('zip_code', inplace=True)\n",
    "        \n",
    "# Join the access data to the spatial data\n",
    "for c in access.columns:\n",
    "    chi_df[c] = access[c].loc[chi_df.index]\n"
   ]
  },
  {
   "cell_type": "markdown",
   "metadata": {},
   "source": [
    "Second, we need to choose colors for the different values we observe. We want color intensity to have consistent meaning across each group.  In other words, long distances for grocery store purchases should map (at least in intensity) to long distances in restaurants. Note that this is an arguable point, because it imposes restrictions on us in a sense. If we map intensity across different variables, we should probably use the same color to reinforce the point. In this particular instance, we will partially violate this idea by using one color to map product types (e.g grocery stores and restaurants), and another to map income groups (e.g. low- and high-income)."
   ]
  },
  {
   "cell_type": "code",
   "execution_count": 85,
   "metadata": {},
   "outputs": [],
   "source": [
    "# Capture minimum and maximum values within each driver bucket\n",
    "overall_min = access['overall'].min()\n",
    "overall_max = access['overall'].max()\n",
    "prod_type_min = access[['grocery_stores', 'restaurants']].min().min()\n",
    "prod_type_max = access[['grocery_stores', 'restaurants']].max().max()\n",
    "inc_grp_min = access[['low_income', 'high_income']].min().min()\n",
    "inc_grp_max = access[['low_income', 'high_income']].max().max()\n",
    "\n",
    "# Capture normalizer objects (they map data to the [0,1] interval)\n",
    "norm = {\n",
    "    'overall': mpl.colors.Normalize(vmin=overall_min, vmax=overall_max),\n",
    "    'prod_type': mpl.colors.Normalize(vmin=prod_type_min, vmax=prod_type_max),\n",
    "    'inc_grp': mpl.colors.Normalize(vmin=inc_grp_min, vmax=inc_grp_max)\n",
    "}\n",
    "\n",
    "# Generate color mappers\n",
    "cmapper = {\n",
    "    'overall': cmap.ScalarMappable(norm=norm['overall'], cmap='PiYG'),\n",
    "    'prod_type': cmap.ScalarMappable(norm=norm['prod_type'], cmap='RdBu'),\n",
    "    'inc_grp': cmap.ScalarMappable(norm=norm['inc_grp'], cmap='PuOr')\n",
    "}\n",
    "\n",
    "# Map colors to values\n",
    "chi_df['overall_color'] = chi_df['overall'].apply(lambda x: mpl.colors.to_hex(cmapper['overall'].to_rgba(x)))\n",
    "for c in ['grocery_stores', 'restaurants']:\n",
    "    chi_df[c + '_color'] = chi_df[c].apply(lambda x: mpl.colors.to_hex(cmapper['prod_type'].to_rgba(x)))\n",
    "for c in ['low_income', 'high_income']:\n",
    "    chi_df[c + '_color'] = chi_df[c].apply(lambda x: mpl.colors.to_hex(cmapper['inc_grp'].to_rgba(x)))"
   ]
  },
  {
   "cell_type": "markdown",
   "metadata": {},
   "source": [
    "## A Basic Choropleth"
   ]
  },
  {
   "cell_type": "markdown",
   "metadata": {},
   "source": [
    "Now we are in a position to get some preliminary insight.  For the time being, we will stick with evaluating overall merchant distances, until we get the functionality we need.  Since we have several variables, we will seek to build a function that takes a variable as an argument."
   ]
  },
  {
   "cell_type": "code",
   "execution_count": 101,
   "metadata": {},
   "outputs": [
    {
     "name": "stdout",
     "output_type": "stream",
     "text": [
      "<iframe src=../figs/chicago_access_overall.html width=850 height=950></iframe>\n"
     ]
    },
    {
     "data": {
      "text/html": [
       "<iframe src=../figs/chicago_access_overall.html width=850 height=950></iframe>"
      ],
      "text/plain": [
       "<IPython.core.display.HTML object>"
      ]
     },
     "execution_count": 101,
     "metadata": {},
     "output_type": "execute_result"
    }
   ],
   "source": [
    "# Define data source\n",
    "chi_access_src = bm.GeoJSONDataSource(geojson=chi_df.reset_index().to_json())\n",
    "\n",
    "def plot_dist(v, height_in=900, width_in=750):\n",
    "    # Define location of output file\n",
    "    outf = '../figs/chicago_access_{}.html'.format(v)\n",
    "    bp.output_file(outf)\n",
    "    # Define figure\n",
    "    fig = bp.figure(title='Median Merchant Distance: {}'.format(v.title()),\n",
    "                       height=height_in, width=width_in)\n",
    "    # Add zip polygons\n",
    "    fig.patches(xs='xs', ys='ys', alpha=0.9, source=chi_access_src,\n",
    "                fill_color={'field': v+'_color'}, line_width=1, line_color='#626770')\n",
    "    # Define hover appearance (in raw HTML)\n",
    "    hover_html = '''\n",
    "    <div><b>ZIP Code</b>: @zip_code</div>\n",
    "    <div><b>Merchant Distance</b>: @{}</div>\n",
    "    '''.format(v)\n",
    "    hover = bm.HoverTool(\n",
    "        point_policy='follow_mouse',\n",
    "        tooltips=(hover_html)\n",
    "    )\n",
    "    # Define tap tool\n",
    "    tap = bm.TapTool()\n",
    "    fig.add_tools(hover, tap)\n",
    "    # Add map tile\n",
    "    fig.add_tile(CARTODBPOSITRON_RETINA)\n",
    "    # Get rid of axis lines\n",
    "    fig.xaxis.visible = False\n",
    "    fig.yaxis.visible = False\n",
    "    fig.grid.visible = False\n",
    "    # Show the figure\n",
    "    bp.save(fig)\n",
    "    return outf\n",
    "\n",
    "ovr = plot_dist('overall')\n",
    "show_iframe(ovr, iwidth=850, iheight=950)"
   ]
  },
  {
   "cell_type": "markdown",
   "metadata": {},
   "source": [
    "Now we are cooking with gas."
   ]
  },
  {
   "cell_type": "code",
   "execution_count": 102,
   "metadata": {},
   "outputs": [],
   "source": [
    "import geojsonio as gjio"
   ]
  },
  {
   "cell_type": "code",
   "execution_count": 103,
   "metadata": {},
   "outputs": [
    {
     "ename": "UnprocessableEntity",
     "evalue": "422 Validation Failed",
     "output_type": "error",
     "traceback": [
      "\u001b[0;31m---------------------------------------------------------------------------\u001b[0m",
      "\u001b[0;31mUnprocessableEntity\u001b[0m                       Traceback (most recent call last)",
      "\u001b[0;32m<ipython-input-103-29d1515d04c2>\u001b[0m in \u001b[0;36m<module>\u001b[0;34m()\u001b[0m\n\u001b[0;32m----> 1\u001b[0;31m \u001b[0mgjio\u001b[0m\u001b[0;34m.\u001b[0m\u001b[0mdisplay\u001b[0m\u001b[0;34m(\u001b[0m\u001b[0mchicago_json\u001b[0m\u001b[0;34m)\u001b[0m\u001b[0;34m\u001b[0m\u001b[0m\n\u001b[0m",
      "\u001b[0;32m~/analysis_tools/miniconda3/lib/python3.6/site-packages/geojsonio/geojsonio.py\u001b[0m in \u001b[0;36mdisplay\u001b[0;34m(contents, domain, force_gist)\u001b[0m\n\u001b[1;32m     34\u001b[0m \u001b[0;34m\u001b[0m\u001b[0m\n\u001b[1;32m     35\u001b[0m     \"\"\"\n\u001b[0;32m---> 36\u001b[0;31m     \u001b[0murl\u001b[0m \u001b[0;34m=\u001b[0m \u001b[0mmake_url\u001b[0m\u001b[0;34m(\u001b[0m\u001b[0mcontents\u001b[0m\u001b[0;34m,\u001b[0m \u001b[0mdomain\u001b[0m\u001b[0;34m,\u001b[0m \u001b[0mforce_gist\u001b[0m\u001b[0;34m)\u001b[0m\u001b[0;34m\u001b[0m\u001b[0m\n\u001b[0m\u001b[1;32m     37\u001b[0m     \u001b[0mwebbrowser\u001b[0m\u001b[0;34m.\u001b[0m\u001b[0mopen\u001b[0m\u001b[0;34m(\u001b[0m\u001b[0murl\u001b[0m\u001b[0;34m)\u001b[0m\u001b[0;34m\u001b[0m\u001b[0m\n\u001b[1;32m     38\u001b[0m     \u001b[0;32mreturn\u001b[0m \u001b[0murl\u001b[0m\u001b[0;34m\u001b[0m\u001b[0m\n",
      "\u001b[0;32m~/analysis_tools/miniconda3/lib/python3.6/site-packages/geojsonio/geojsonio.py\u001b[0m in \u001b[0;36mmake_url\u001b[0;34m(contents, domain, force_gist, size_for_gist)\u001b[0m\n\u001b[1;32m     91\u001b[0m         \u001b[0murl\u001b[0m \u001b[0;34m=\u001b[0m \u001b[0mdata_url\u001b[0m\u001b[0;34m(\u001b[0m\u001b[0mcontents\u001b[0m\u001b[0;34m,\u001b[0m \u001b[0mdomain\u001b[0m\u001b[0;34m)\u001b[0m\u001b[0;34m\u001b[0m\u001b[0m\n\u001b[1;32m     92\u001b[0m     \u001b[0;32melse\u001b[0m\u001b[0;34m:\u001b[0m\u001b[0;34m\u001b[0m\u001b[0m\n\u001b[0;32m---> 93\u001b[0;31m         \u001b[0mgist\u001b[0m \u001b[0;34m=\u001b[0m \u001b[0m_make_gist\u001b[0m\u001b[0;34m(\u001b[0m\u001b[0mcontents\u001b[0m\u001b[0;34m)\u001b[0m\u001b[0;34m\u001b[0m\u001b[0m\n\u001b[0m\u001b[1;32m     94\u001b[0m         \u001b[0murl\u001b[0m \u001b[0;34m=\u001b[0m \u001b[0mgist_url\u001b[0m\u001b[0;34m(\u001b[0m\u001b[0mgist\u001b[0m\u001b[0;34m.\u001b[0m\u001b[0mid\u001b[0m\u001b[0;34m,\u001b[0m \u001b[0mdomain\u001b[0m\u001b[0;34m)\u001b[0m\u001b[0;34m\u001b[0m\u001b[0m\n\u001b[1;32m     95\u001b[0m \u001b[0;34m\u001b[0m\u001b[0m\n",
      "\u001b[0;32m~/analysis_tools/miniconda3/lib/python3.6/site-packages/geojsonio/geojsonio.py\u001b[0m in \u001b[0;36m_make_gist\u001b[0;34m(contents, description, filename)\u001b[0m\n\u001b[1;32m    170\u001b[0m     \u001b[0mghapi\u001b[0m \u001b[0;34m=\u001b[0m \u001b[0mgithub3\u001b[0m\u001b[0;34m.\u001b[0m\u001b[0mGitHub\u001b[0m\u001b[0;34m(\u001b[0m\u001b[0;34m)\u001b[0m\u001b[0;34m\u001b[0m\u001b[0m\n\u001b[1;32m    171\u001b[0m     \u001b[0mfiles\u001b[0m \u001b[0;34m=\u001b[0m \u001b[0;34m{\u001b[0m\u001b[0mfilename\u001b[0m\u001b[0;34m:\u001b[0m \u001b[0;34m{\u001b[0m\u001b[0;34m'content'\u001b[0m\u001b[0;34m:\u001b[0m \u001b[0mcontents\u001b[0m\u001b[0;34m}\u001b[0m\u001b[0;34m}\u001b[0m\u001b[0;34m\u001b[0m\u001b[0m\n\u001b[0;32m--> 172\u001b[0;31m     \u001b[0mgist\u001b[0m \u001b[0;34m=\u001b[0m \u001b[0mghapi\u001b[0m\u001b[0;34m.\u001b[0m\u001b[0mcreate_gist\u001b[0m\u001b[0;34m(\u001b[0m\u001b[0mdescription\u001b[0m\u001b[0;34m,\u001b[0m \u001b[0mfiles\u001b[0m\u001b[0;34m)\u001b[0m\u001b[0;34m\u001b[0m\u001b[0m\n\u001b[0m\u001b[1;32m    173\u001b[0m \u001b[0;34m\u001b[0m\u001b[0m\n\u001b[1;32m    174\u001b[0m     \u001b[0;32mreturn\u001b[0m \u001b[0mgist\u001b[0m\u001b[0;34m\u001b[0m\u001b[0m\n",
      "\u001b[0;32m~/analysis_tools/miniconda3/lib/python3.6/site-packages/github3/github.py\u001b[0m in \u001b[0;36mcreate_gist\u001b[0;34m(self, description, files, public)\u001b[0m\n\u001b[1;32m    302\u001b[0m                     'files': files}\n\u001b[1;32m    303\u001b[0m         \u001b[0murl\u001b[0m \u001b[0;34m=\u001b[0m \u001b[0mself\u001b[0m\u001b[0;34m.\u001b[0m\u001b[0m_build_url\u001b[0m\u001b[0;34m(\u001b[0m\u001b[0;34m'gists'\u001b[0m\u001b[0;34m)\u001b[0m\u001b[0;34m\u001b[0m\u001b[0m\n\u001b[0;32m--> 304\u001b[0;31m         \u001b[0mjson\u001b[0m \u001b[0;34m=\u001b[0m \u001b[0mself\u001b[0m\u001b[0;34m.\u001b[0m\u001b[0m_json\u001b[0m\u001b[0;34m(\u001b[0m\u001b[0mself\u001b[0m\u001b[0;34m.\u001b[0m\u001b[0m_post\u001b[0m\u001b[0;34m(\u001b[0m\u001b[0murl\u001b[0m\u001b[0;34m,\u001b[0m \u001b[0mdata\u001b[0m\u001b[0;34m=\u001b[0m\u001b[0mnew_gist\u001b[0m\u001b[0;34m)\u001b[0m\u001b[0;34m,\u001b[0m \u001b[0;36m201\u001b[0m\u001b[0;34m)\u001b[0m\u001b[0;34m\u001b[0m\u001b[0m\n\u001b[0m\u001b[1;32m    305\u001b[0m         \u001b[0;32mreturn\u001b[0m \u001b[0mself\u001b[0m\u001b[0;34m.\u001b[0m\u001b[0m_instance_or_null\u001b[0m\u001b[0;34m(\u001b[0m\u001b[0mgists\u001b[0m\u001b[0;34m.\u001b[0m\u001b[0mGist\u001b[0m\u001b[0;34m,\u001b[0m \u001b[0mjson\u001b[0m\u001b[0;34m)\u001b[0m\u001b[0;34m\u001b[0m\u001b[0m\n\u001b[1;32m    306\u001b[0m \u001b[0;34m\u001b[0m\u001b[0m\n",
      "\u001b[0;32m~/analysis_tools/miniconda3/lib/python3.6/site-packages/github3/models.py\u001b[0m in \u001b[0;36m_json\u001b[0;34m(self, response, expected_status_code, include_cache_info)\u001b[0m\n\u001b[1;32m    154\u001b[0m         \u001b[0;32mif\u001b[0m \u001b[0mactual_status_code\u001b[0m \u001b[0;34m!=\u001b[0m \u001b[0mexpected_status_code\u001b[0m\u001b[0;34m:\u001b[0m\u001b[0;34m\u001b[0m\u001b[0m\n\u001b[1;32m    155\u001b[0m             \u001b[0;32mif\u001b[0m \u001b[0mactual_status_code\u001b[0m \u001b[0;34m>=\u001b[0m \u001b[0;36m400\u001b[0m\u001b[0;34m:\u001b[0m\u001b[0;34m\u001b[0m\u001b[0m\n\u001b[0;32m--> 156\u001b[0;31m                 \u001b[0;32mraise\u001b[0m \u001b[0mexceptions\u001b[0m\u001b[0;34m.\u001b[0m\u001b[0merror_for\u001b[0m\u001b[0;34m(\u001b[0m\u001b[0mresponse\u001b[0m\u001b[0;34m)\u001b[0m\u001b[0;34m\u001b[0m\u001b[0m\n\u001b[0m\u001b[1;32m    157\u001b[0m             LOG.warning('Expected status_code %d but got %d',\n\u001b[1;32m    158\u001b[0m                         \u001b[0mexpected_status_code\u001b[0m\u001b[0;34m,\u001b[0m\u001b[0;34m\u001b[0m\u001b[0m\n",
      "\u001b[0;31mUnprocessableEntity\u001b[0m: 422 Validation Failed"
     ]
    }
   ],
   "source": [
    "gjio.display(chicago_json)"
   ]
  },
  {
   "cell_type": "code",
   "execution_count": null,
   "metadata": {},
   "outputs": [],
   "source": []
  }
 ],
 "metadata": {
  "kernelspec": {
   "display_name": "Python 3",
   "language": "python",
   "name": "python3"
  }
 },
 "nbformat": 4,
 "nbformat_minor": 2
}
