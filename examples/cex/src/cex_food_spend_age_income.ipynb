{
 "cells": [
  {
   "cell_type": "markdown",
   "metadata": {},
   "source": [
    "# Capturing Food Expenditure by Age and Income in the [Consumer Expenditure Survey](https://www.bls.gov/cex/)"
   ]
  },
  {
   "cell_type": "markdown",
   "metadata": {},
   "source": [
    "Last week, we used the [cross-tabulations](https://www.bls.gov/cex/csxcross.htm) in the Consumer Expenditure Survey (CEX) to evaluate the market for senior restaurant patrons. This notebook captures a start-to-finish workflow for generating charts with this information. \n",
    "\n",
    "Unfortunately, the cross-tabs we want do not seem to be available via the API.  (The API offers spending by age of the reference person, and spending by income of the consumer unit. It does not offer the cross-tab of age by income.) Consequently, we will need to work with the Excel files that are prepackaged by BLS.  To do this, we need a new library called [`openpyxl`](https://openpyxl.readthedocs.io/en/stable/) that we have not already installed.  To do this, we can leverage the [`conda`](https://conda.io/docs/) package manager that was installed with [Miniconda](https://conda.io/miniconda.html). (Miniconda is just a minimalist installation of the [Anaconda](https://www.anaconda.com/) distribution, which comes with Python, development environments like Jupyter Lab, and a whole bunch of Python [packages](https://pypi.python.org/pypi) that are useful for scientific computing.)  To get `openpyxl`, go to the terminal, and submit the following command:\n",
    "\n",
    "`sudo conda install openpyxl`\n",
    "\n",
    "You will get prompted to confirm you want to install (which you should confirm), and that's it.  The next time you start up Python, the package will be available. The remainder of this example assumes you have installed it already."
   ]
  },
  {
   "cell_type": "code",
   "execution_count": 1,
   "metadata": {},
   "outputs": [],
   "source": [
    "import numpy as np               # base package for numerical analysis\n",
    "import pandas as pd              # wraps and extends a lot of numpy operations with the handy DataFrame and Series objects\n",
    "import bokeh.plotting as bp      # provides methods of plotting data\n",
    "import bokeh.models as bm        # provides methods of manipulating bokeh plots\n",
    "from IPython.display import HTML # allows us to render the HTML the underlies our bokeh plots\n",
    "import openpyxl as xl            # allows us to work with excel workbooks\n",
    "\n",
    "# Define locations for data and figures\n",
    "data_dir = '../data/'\n",
    "fig_dir = '../figs/'\n",
    "\n",
    "# Define function to allow us to display charts in an iframe\n",
    "def show_iframe(url, iheight=400, iwidth=1000):\n",
    "    display_string = '<iframe src={url} width={w} height={h}></iframe>'.format(url=url, w=iwidth, h=iheight)\n",
    "    print(display_string)\n",
    "    return HTML(display_string)"
   ]
  },
  {
   "cell_type": "markdown",
   "metadata": {},
   "source": [
    "## Download the Data"
   ]
  },
  {
   "cell_type": "markdown",
   "metadata": {},
   "source": [
    "The first thing we need to do is acquire the data.  This is, of course, possible by simply clicking on the links. However, if you want to do this again, or remember exactly how you did it, code is a pretty unambiguous resource. Remember that, even though we are inside the Jupyter Lab environment, we still have shell access.  We can start up a shell in addition to this notebook, or we can use `'!'` inside the Notebook.  What does this mean? Well, let's check our current location in the file system."
   ]
  },
  {
   "cell_type": "code",
   "execution_count": 2,
   "metadata": {},
   "outputs": [
    {
     "name": "stdout",
     "output_type": "stream",
     "text": [
      "/home/choct155/projects/telling_stories_with_data/examples/cex/src\r\n"
     ]
    }
   ],
   "source": [
    "!pwd"
   ]
  },
  {
   "cell_type": "markdown",
   "metadata": {},
   "source": [
    "`pwd` is a shell command that we just used from inside the Notebook! The upshot is, *all* shell commands are available to us, including the ever useful [`wget`](https://www.gnu.org/software/wget/), a ridiculously useful package for retrieving assets from the internet. You might be asking yourself, just how do I use `wget`. It turns out that all of the documentation for shell commands is accessible right in the shell itself.  To access the [manual](https://www.gnu.org/software/bash/manual/), just use the `man`. In most cases, you simply need to submit the following:\n",
    "\n",
    "`man [command of interest]`\n",
    "\n",
    "We can use this functionality to explore `wget` (by executing `!man wget` in the cell below), but the print out is long (and there is some character repitition), so we will leave it commented out for now."
   ]
  },
  {
   "cell_type": "code",
   "execution_count": 3,
   "metadata": {},
   "outputs": [],
   "source": [
    "#!man wget"
   ]
  },
  {
   "cell_type": "markdown",
   "metadata": {},
   "source": [
    "We do, however, want to use `wget` to capture our data, so let's create our list of URLs.  All of the files we want have a common directory location:  `https://www.bls.gov/cex/2016/CrossTabs/agebyinc/`.  Let's be efficient with our code, and use it as the base with which we can generate each file link. We also need the file names themselves, so we will put those in a list. (We can determine the file URLs by either hovering over the link, or looking at the underlying HTML.)"
   ]
  },
  {
   "cell_type": "code",
   "execution_count": 4,
   "metadata": {},
   "outputs": [
    {
     "data": {
      "text/plain": [
       "('https://www.bls.gov/cex/2016/CrossTabs/agebyinc/',\n",
       " ['xunder25.xlsx',\n",
       "  'x25to34.xlsx',\n",
       "  'x35to44.xlsx',\n",
       "  'x45to54.xlsx',\n",
       "  'x55to64.xlsx',\n",
       "  'x65orup.xlsx'])"
      ]
     },
     "execution_count": 4,
     "metadata": {},
     "output_type": "execute_result"
    }
   ],
   "source": [
    "# Capture the base URL as a string\n",
    "cex_base_url = 'https://www.bls.gov/cex/2016/CrossTabs/agebyinc/'\n",
    "\n",
    "# Capture the file names as a list of strings\n",
    "cex_files = ['xunder25.xlsx', 'x25to34.xlsx', 'x35to44.xlsx', 'x45to54.xlsx', 'x55to64.xlsx', 'x65orup.xlsx']\n",
    "\n",
    "cex_base_url, cex_files"
   ]
  },
  {
   "cell_type": "markdown",
   "metadata": {},
   "source": [
    "Now for something a little crazy. We are going to build our URLs with a [list comprehension](https://www.datacamp.com/community/tutorials/python-list-comprehension). Check the Python introduction for details, but the upshot is that we are going to use an implied loop to join `cex_base_url` to each of the files in `cex_files`."
   ]
  },
  {
   "cell_type": "code",
   "execution_count": 5,
   "metadata": {},
   "outputs": [
    {
     "data": {
      "text/plain": [
       "['https://www.bls.gov/cex/2016/CrossTabs/agebyinc/xunder25.xlsx',\n",
       " 'https://www.bls.gov/cex/2016/CrossTabs/agebyinc/x25to34.xlsx',\n",
       " 'https://www.bls.gov/cex/2016/CrossTabs/agebyinc/x35to44.xlsx',\n",
       " 'https://www.bls.gov/cex/2016/CrossTabs/agebyinc/x45to54.xlsx',\n",
       " 'https://www.bls.gov/cex/2016/CrossTabs/agebyinc/x55to64.xlsx',\n",
       " 'https://www.bls.gov/cex/2016/CrossTabs/agebyinc/x65orup.xlsx']"
      ]
     },
     "execution_count": 5,
     "metadata": {},
     "output_type": "execute_result"
    }
   ],
   "source": [
    "cex_urls = [cex_base_url+f for f in cex_files]\n",
    "\n",
    "cex_urls"
   ]
  },
  {
   "cell_type": "markdown",
   "metadata": {},
   "source": [
    "Now that we have our list, we can leverage one of the strongest features of [iPython](http://ipython.org/). We can do even better than just issuing shell commands from within the Notebook (or Qt console)(https://ipython.org/ipython-doc/3/interactive/qtconsole.html). We can combine python code with shell code. To demonstrate this functionality, consider the shell command, [`echo`](https://www.gnu.org/software/coreutils/manual/html_node/echo-invocation.html).  It will print back whatever you tell it to print."
   ]
  },
  {
   "cell_type": "code",
   "execution_count": 6,
   "metadata": {},
   "outputs": [
    {
     "name": "stdout",
     "output_type": "stream",
     "text": [
      "abc123\r\n"
     ]
    }
   ],
   "source": [
    "!echo abc123"
   ]
  },
  {
   "cell_type": "markdown",
   "metadata": {},
   "source": [
    "Again, this is being executed by a shell, and is just being passed back to the Notebook.  You can write the same thing in the terminal and get the same result. \n",
    "\n",
    "If we want to use a Python object, we just need to prepend the reference with `'$'`."
   ]
  },
  {
   "cell_type": "code",
   "execution_count": 7,
   "metadata": {},
   "outputs": [
    {
     "name": "stdout",
     "output_type": "stream",
     "text": [
      "abc123\r\n"
     ]
    }
   ],
   "source": [
    "x = 'abc123'\n",
    "\n",
    "!echo $x"
   ]
  },
  {
   "cell_type": "markdown",
   "metadata": {},
   "source": [
    "Take a moment to let this sink in. We are now creating objects in the Python space, and then using them in the bash space. This is not a regular feature of the base Python language (at least not this directly). This interoperability is due to the enhancements and extensions that came with the IPython project."
   ]
  },
  {
   "cell_type": "markdown",
   "metadata": {},
   "source": [
    "We can do the same thing with our URL list."
   ]
  },
  {
   "cell_type": "code",
   "execution_count": 8,
   "metadata": {},
   "outputs": [
    {
     "name": "stdout",
     "output_type": "stream",
     "text": [
      "https://www.bls.gov/cex/2016/CrossTabs/agebyinc/xunder25.xlsx\r\n",
      "https://www.bls.gov/cex/2016/CrossTabs/agebyinc/x25to34.xlsx\r\n",
      "https://www.bls.gov/cex/2016/CrossTabs/agebyinc/x35to44.xlsx\r\n",
      "https://www.bls.gov/cex/2016/CrossTabs/agebyinc/x45to54.xlsx\r\n",
      "https://www.bls.gov/cex/2016/CrossTabs/agebyinc/x55to64.xlsx\r\n",
      "https://www.bls.gov/cex/2016/CrossTabs/agebyinc/x65orup.xlsx\r\n"
     ]
    }
   ],
   "source": [
    "for u in cex_urls:\n",
    "    !echo $u"
   ]
  },
  {
   "cell_type": "markdown",
   "metadata": {},
   "source": [
    "Since we can embed these references in bash commands, we can retrieve our data easily.  We want to make sure we deposit these files in our data folder, as opposed to the current folder, which should only hold source code. The commands we want to run will all have a simiar structure.  Here is an example for the first file:\n",
    "\n",
    "`wget -O ../figs/xunder25.xlsx https://www.bls.gov/cex/2016/CrossTabs/agebyinc/xunder25.xlsx`\n",
    "\n",
    "The `-O` flag is an option that let's us specify where we want to deposit the file, and what to call it. We will echo each command after it has been executed to make clear what we are asking the shell to do."
   ]
  },
  {
   "cell_type": "code",
   "execution_count": 9,
   "metadata": {},
   "outputs": [
    {
     "name": "stdout",
     "output_type": "stream",
     "text": [
      "--2018-02-04 19:35:08--  https://www.bls.gov/cex/2016/CrossTabs/agebyinc/xunder25.xlsx\r\n",
      "Resolving www.bls.gov (www.bls.gov)... 23.36.83.144, 2600:1408:1d:383::18b9, 2600:1408:1d:396::18b9\r\n",
      "Connecting to www.bls.gov (www.bls.gov)|23.36.83.144|:443... connected.\r\n",
      "HTTP request sent, awaiting response... 200 OK\r\n",
      "Length: 15198 (15K) [application/vnd.openxmlformats-officedocument.spreadsheetml.sheet]\r\n",
      "Saving to: ‘../data/xunder25.xlsx’\r\n",
      "\r\n",
      "\r",
      "../data/xunder25.xl   0%[                    ]       0  --.-KB/s               \r",
      "../data/xunder25.xl 100%[===================>]  14.84K  --.-KB/s    in 0.004s  \r\n",
      "\r\n",
      "2018-02-04 19:35:08 (4.01 MB/s) - ‘../data/xunder25.xlsx’ saved [15198/15198]\r\n",
      "\r\n",
      "wget -O ../data/xunder25.xlsx https://www.bls.gov/cex/2016/CrossTabs/agebyinc/xunder25.xlsx\r\n",
      "--2018-02-04 19:35:09--  https://www.bls.gov/cex/2016/CrossTabs/agebyinc/x25to34.xlsx\r\n",
      "Resolving www.bls.gov (www.bls.gov)... 23.36.83.144, 2600:1408:1d:383::18b9, 2600:1408:1d:396::18b9\r\n",
      "Connecting to www.bls.gov (www.bls.gov)|23.36.83.144|:443... connected.\r\n",
      "HTTP request sent, awaiting response... 200 OK\r\n",
      "Length: 17032 (17K) [application/vnd.openxmlformats-officedocument.spreadsheetml.sheet]\r\n",
      "Saving to: ‘../data/x25to34.xlsx’\r\n",
      "\r\n",
      "\r",
      "../data/x25to34.xls   0%[                    ]       0  --.-KB/s               \r",
      "../data/x25to34.xls 100%[===================>]  16.63K  --.-KB/s    in 0.001s  \r\n",
      "\r\n",
      "2018-02-04 19:35:10 (18.7 MB/s) - ‘../data/x25to34.xlsx’ saved [17032/17032]\r\n",
      "\r\n",
      "wget -O ../data/x25to34.xlsx https://www.bls.gov/cex/2016/CrossTabs/agebyinc/x25to34.xlsx\r\n",
      "--2018-02-04 19:35:10--  https://www.bls.gov/cex/2016/CrossTabs/agebyinc/x35to44.xlsx\r\n",
      "Resolving www.bls.gov (www.bls.gov)... 23.36.83.144, 2600:1408:1d:383::18b9, 2600:1408:1d:396::18b9\r\n",
      "Connecting to www.bls.gov (www.bls.gov)|23.36.83.144|:443... connected.\r\n",
      "HTTP request sent, awaiting response... 200 OK\r\n",
      "Length: 17111 (17K) [application/vnd.openxmlformats-officedocument.spreadsheetml.sheet]\r\n",
      "Saving to: ‘../data/x35to44.xlsx’\r\n",
      "\r\n",
      "\r",
      "../data/x35to44.xls   0%[                    ]       0  --.-KB/s               \r",
      "../data/x35to44.xls 100%[===================>]  16.71K  --.-KB/s    in 0.001s  \r\n",
      "\r\n",
      "2018-02-04 19:35:10 (16.5 MB/s) - ‘../data/x35to44.xlsx’ saved [17111/17111]\r\n",
      "\r\n",
      "wget -O ../data/x35to44.xlsx https://www.bls.gov/cex/2016/CrossTabs/agebyinc/x35to44.xlsx\r\n",
      "--2018-02-04 19:35:10--  https://www.bls.gov/cex/2016/CrossTabs/agebyinc/x45to54.xlsx\r\n",
      "Resolving www.bls.gov (www.bls.gov)... 23.36.83.144, 2600:1408:1d:383::18b9, 2600:1408:1d:396::18b9\r\n",
      "Connecting to www.bls.gov (www.bls.gov)|23.36.83.144|:443... connected.\r\n",
      "HTTP request sent, awaiting response... 200 OK\r\n",
      "Length: 17132 (17K) [application/vnd.openxmlformats-officedocument.spreadsheetml.sheet]\r\n",
      "Saving to: ‘../data/x45to54.xlsx’\r\n",
      "\r\n",
      "\r",
      "../data/x45to54.xls   0%[                    ]       0  --.-KB/s               \r",
      "../data/x45to54.xls 100%[===================>]  16.73K  --.-KB/s    in 0.001s  \r\n",
      "\r\n",
      "2018-02-04 19:35:11 (20.7 MB/s) - ‘../data/x45to54.xlsx’ saved [17132/17132]\r\n",
      "\r\n",
      "wget -O ../data/x45to54.xlsx https://www.bls.gov/cex/2016/CrossTabs/agebyinc/x45to54.xlsx\r\n",
      "--2018-02-04 19:35:11--  https://www.bls.gov/cex/2016/CrossTabs/agebyinc/x55to64.xlsx\r\n",
      "Resolving www.bls.gov (www.bls.gov)... 23.36.83.144, 2600:1408:1d:383::18b9, 2600:1408:1d:396::18b9\r\n",
      "Connecting to www.bls.gov (www.bls.gov)|23.36.83.144|:443... connected.\r\n",
      "HTTP request sent, awaiting response... 200 OK\r\n",
      "Length: 17062 (17K) [application/vnd.openxmlformats-officedocument.spreadsheetml.sheet]\r\n",
      "Saving to: ‘../data/x55to64.xlsx’\r\n",
      "\r\n",
      "\r",
      "../data/x55to64.xls   0%[                    ]       0  --.-KB/s               \r",
      "../data/x55to64.xls 100%[===================>]  16.66K  --.-KB/s    in 0.04s   \r\n",
      "\r\n",
      "2018-02-04 19:35:11 (381 KB/s) - ‘../data/x55to64.xlsx’ saved [17062/17062]\r\n",
      "\r\n",
      "wget -O ../data/x55to64.xlsx https://www.bls.gov/cex/2016/CrossTabs/agebyinc/x55to64.xlsx\r\n",
      "--2018-02-04 19:35:11--  https://www.bls.gov/cex/2016/CrossTabs/agebyinc/x65orup.xlsx\r\n",
      "Resolving www.bls.gov (www.bls.gov)... 23.36.83.144, 2600:1408:1d:383::18b9, 2600:1408:1d:396::18b9\r\n",
      "Connecting to www.bls.gov (www.bls.gov)|23.36.83.144|:443... connected.\r\n",
      "HTTP request sent, awaiting response... 200 OK\r\n",
      "Length: 17019 (17K) [application/vnd.openxmlformats-officedocument.spreadsheetml.sheet]\r\n",
      "Saving to: ‘../data/x65orup.xlsx’\r\n",
      "\r\n",
      "\r",
      "../data/x65orup.xls   0%[                    ]       0  --.-KB/s               \r",
      "../data/x65orup.xls 100%[===================>]  16.62K  --.-KB/s    in 0.002s  \r\n",
      "\r\n",
      "2018-02-04 19:35:11 (10.7 MB/s) - ‘../data/x65orup.xlsx’ saved [17019/17019]\r\n",
      "\r\n",
      "wget -O ../data/x65orup.xlsx https://www.bls.gov/cex/2016/CrossTabs/agebyinc/x65orup.xlsx\r\n"
     ]
    }
   ],
   "source": [
    "# Capture the workbook associated with each URL and deposit in the data directory\n",
    "for i,u in enumerate(cex_urls):\n",
    "    new_file = data_dir+cex_files[i]\n",
    "    !wget -O $new_file $u\n",
    "    !echo wget -O $new_file $u"
   ]
  },
  {
   "cell_type": "markdown",
   "metadata": {},
   "source": [
    "We can quickly confirm that our capture was successful, and that everything we need is in the data directory."
   ]
  },
  {
   "cell_type": "code",
   "execution_count": 10,
   "metadata": {},
   "outputs": [
    {
     "name": "stdout",
     "output_type": "stream",
     "text": [
      "total 156\r\n",
      "drwxr-xr-x 2 root root  4096 Feb  4 17:42 .\r\n",
      "drwxr-xr-x 6 root root  4096 Feb  4 17:02 ..\r\n",
      "-rw-r--r-- 1 root root    80 Feb  4 17:37 .~lock.x25to34.xlsx#\r\n",
      "-rw-r--r-- 1 root root    80 Feb  4 17:42 .~lock.xunder25.xlsx#\r\n",
      "-rw-r--r-- 1 root root 17032 Sep 14 14:03 x25to34.xlsx\r\n",
      "-rw-r--r-- 1 root root 17111 Sep 14 14:03 x35to44.xlsx\r\n",
      "-rw-r--r-- 1 root root 17132 Sep 14 14:03 x45to54.xlsx\r\n",
      "-rw-r--r-- 1 root root 17062 Sep 14 14:03 x55to64.xlsx\r\n",
      "-rw-r--r-- 1 root root 17019 Sep 14 14:03 x65orup.xlsx\r\n",
      "-rw-r--r-- 1 root root 15198 Sep 14 14:02 xunder25.xlsx\r\n"
     ]
    }
   ],
   "source": [
    "!ls -la ../data/"
   ]
  },
  {
   "cell_type": "markdown",
   "metadata": {},
   "source": [
    "## Capture Relevant Data from the Excel Workbooks"
   ]
  },
  {
   "cell_type": "markdown",
   "metadata": {},
   "source": [
    "We are now ready to use `openpyxl`. Our goal is to extract the same two rows from each age-specific file.  The first row captures average annual food expenditures by income group, while the second captures the number of people in that segment (e.g. folks under 25 years of age that make between \\$20,000 and \\$29,999).  Inspection reveals that the expenditure and population data are available in each file in the same locations:\n",
    "\n",
    "+ Expenditures:  `$C50:$K50`\n",
    "+ Population:  `$C4:$K4`\n",
    "\n",
    "The only exception is `xunder25.xlsx`. It has fewer income categories, and reaches only to columns `I`.  That last income group, in all cases, is an open-ended catch all. For `xunder25.xlsx` it is '\\$40,000 and more', and for all other files it is '\\$70,000 and more'. Before we extract, let's explore the `openpyxl` functionality a bit. We can load a workbook file and then interrogate the loaded workbook object. For example, what are the sheet names for `xunder25.xlsx`?"
   ]
  },
  {
   "cell_type": "code",
   "execution_count": 11,
   "metadata": {},
   "outputs": [
    {
     "data": {
      "text/plain": [
       "['Table 3202']"
      ]
     },
     "execution_count": 11,
     "metadata": {},
     "output_type": "execute_result"
    }
   ],
   "source": [
    "# Load workbook\n",
    "under25 = xl.load_workbook('../data/xunder25.xlsx')\n",
    "\n",
    "# Print sheet names\n",
    "under25.sheetnames"
   ]
  },
  {
   "cell_type": "markdown",
   "metadata": {},
   "source": [
    "Inspection reveals that this is indeed the sheet name.  More to the point, we can also read information from individual cells in a given worksheet."
   ]
  },
  {
   "cell_type": "code",
   "execution_count": 12,
   "metadata": {},
   "outputs": [
    {
     "name": "stdout",
     "output_type": "stream",
     "text": [
      "A1 Value: Table 3202. Consumer units with reference person under age 25 by income before taxes: Average annual expenditures and characteristics, Consumer Expenditure Survey, 2015-2016\n",
      "A1 Row: 1\n",
      "A1 Column: A\n",
      "A1 Coordinates: A1\n"
     ]
    }
   ],
   "source": [
    "# Capture value of cell A1\n",
    "cell_a1 = under25['Table 3202']['A1']\n",
    "print('A1 Value: {}'.format(cell_a1.value))\n",
    "\n",
    "# Ask about the row, column and coordinates of cell A1\n",
    "print('A1 Row: {}'.format(cell_a1.row))\n",
    "print('A1 Column: {}'.format(cell_a1.column))\n",
    "print('A1 Coordinates: {}'.format(cell_a1.coordinate))"
   ]
  },
  {
   "cell_type": "markdown",
   "metadata": {},
   "source": [
    "We are looking to capture a row of information, and we can do this by looping over cells.  We can define this range of cells as a `cellObj`, and then loop over each cell within it. Here is a simple print out of the income categories in `xunder25.xlsx`."
   ]
  },
  {
   "cell_type": "code",
   "execution_count": 13,
   "metadata": {},
   "outputs": [
    {
     "name": "stdout",
     "output_type": "stream",
     "text": [
      "Cell Object: ((<Cell 'Table 3202'.C3>, <Cell 'Table 3202'.D3>, <Cell 'Table 3202'.E3>, <Cell 'Table 3202'.F3>, <Cell 'Table 3202'.G3>, <Cell 'Table 3202'.H3>, <Cell 'Table 3202'.I3>),)\n",
      "\n",
      "Coordinate: C3; Value: Less\n",
      "than\n",
      "$5,000\n",
      "\n",
      "Coordinate: D3; Value: $5,000\n",
      "to\n",
      "$9,999\n",
      "\n",
      "Coordinate: E3; Value: $10,000\n",
      "to\n",
      "$14,999\n",
      "\n",
      "Coordinate: F3; Value: $15,000\n",
      "to\n",
      "$19,999\n",
      "\n",
      "Coordinate: G3; Value: $20,000\n",
      "to\n",
      "$29,999\n",
      "\n",
      "Coordinate: H3; Value: $30,000\n",
      "to\n",
      "$39,999\n",
      "\n",
      "Coordinate: I3; Value: $40,000\n",
      "and\n",
      "more\n"
     ]
    }
   ],
   "source": [
    "# Define a convenient variable for our sheet\n",
    "under25_sheet = under25['Table 3202']\n",
    "\n",
    "# Define cellObj as a range\n",
    "cellObj = under25_sheet['C3:I3']\n",
    "print('Cell Object: {}'.format(cellObj))\n",
    "\n",
    "# For each cell in cellObj (note that cellObj is a tuple and we are taking the first element of it)...\n",
    "for c in cellObj[0]:\n",
    "    # ... tell me the coordinate and the value\n",
    "    print('\\nCoordinate: {}; Value: {}'.format(c.coordinate, c.value))"
   ]
  },
  {
   "cell_type": "markdown",
   "metadata": {},
   "source": [
    "The logic of how we can extract data should be coming into focus.  We can use specific cell references, and map the values of the cells to Python variables. Let's now loop across our files and create two pandas DataFrames. One will hold average annual food expenditure (`food`) and the other will hold population counts (`pop`)."
   ]
  },
  {
   "cell_type": "code",
   "execution_count": 14,
   "metadata": {},
   "outputs": [
    {
     "name": "stdout",
     "output_type": "stream",
     "text": [
      "Average Annual Food Expenditures:\n",
      "         <5000  5000-9999  10000-14999  15000-19999  20000-29999  30000-39999  \\\n",
      "<25    2915.0     3511.0       3723.0       3857.0       4069.0       5342.0   \n",
      "25-34  4719.0     4061.0       4407.0       4237.0       5167.0       5266.0   \n",
      "35-44  4606.0     4648.0       4727.0       5011.0       5247.0       5776.0   \n",
      "45-54  4045.0     4237.0       3370.0       4517.0       4852.0       5222.0   \n",
      "55-64  4349.0     3582.0       3684.0       3626.0       4982.0       4956.0   \n",
      ">65    3995.0     3504.0       3069.0       3273.0       4500.0       5629.0   \n",
      "\n",
      "       40000-49999  50000-69999  >=70000  \n",
      "<25         6548.0          NaN      NaN  \n",
      "25-34       5091.0       6536.0   9232.0  \n",
      "35-44       5945.0       6878.0  11862.0  \n",
      "45-54       5877.0       6519.0  11812.0  \n",
      "55-64       5399.0       6458.0  10301.0  \n",
      ">65         5942.0       7077.0   9631.0  \n",
      "\n",
      "Population Count:\n",
      "         <5000  5000-9999  10000-14999  15000-19999  20000-29999  30000-39999  \\\n",
      "<25    1305.0      938.0        676.0        610.0        924.0        778.0   \n",
      "25-34   626.0      584.0        736.0        987.0       2382.0       2232.0   \n",
      "35-44   607.0      471.0        641.0        783.0       1710.0       1867.0   \n",
      "45-54   813.0      502.0        891.0        850.0       1684.0       1809.0   \n",
      "55-64  1224.0      802.0       1380.0       1318.0       2461.0       1947.0   \n",
      ">65     985.0     1134.0       3343.0       3856.0       5484.0       4300.0   \n",
      "\n",
      "       40000-49999  50000-69999  >=70000  \n",
      "<25         2225.0          NaN      NaN  \n",
      "25-34       2170.0       3678.0   7550.0  \n",
      "35-44       1737.0       3234.0  10436.0  \n",
      "45-54       1712.0       3211.0  12681.0  \n",
      "55-64       1897.0       3374.0   9961.0  \n",
      ">65         2812.0       3297.0   5379.0  \n"
     ]
    }
   ],
   "source": [
    "# Create empty lists to hold data\n",
    "food_list = []\n",
    "pop_list = []\n",
    "\n",
    "# For each file...\n",
    "for f in cex_files:\n",
    "    # ... create empty sublists to hold each row of food and pop data ...\n",
    "    food_row = []\n",
    "    pop_row = []\n",
    "    # ... capture the path to that file ...\n",
    "    tmp_path = data_dir + f\n",
    "    # ... load the file ...\n",
    "    tmp_wb = xl.load_workbook(tmp_path)\n",
    "    # ... isolate the first sheet ...\n",
    "    tmp_sheet_name = tmp_wb.sheetnames[0]\n",
    "    tmp_sheet = tmp_wb[tmp_sheet_name]\n",
    "    # ... define cell objects for the food and pop data ...\n",
    "    # (note that we are selecting the first element of the tuple immediately)\n",
    "    foodObj = tmp_sheet['C50:K50'][0]\n",
    "    popObj = tmp_sheet['C4:K4'][0]\n",
    "    # ... and for each element in the cell objects ...\n",
    "    for i in range(len(foodObj)):\n",
    "        # ... throw the value of each cell in the relevant row list...\n",
    "        food_row.append(foodObj[i].value)\n",
    "        pop_row.append(popObj[i].value)\n",
    "    # ... then throw each row in the parent list\n",
    "    food_list.append(food_row)\n",
    "    pop_list.append(pop_row)\n",
    "    \n",
    "# Define column and row names\n",
    "cols = ['<5000', '5000-9999', '10000-14999', '15000-19999', '20000-29999', '30000-39999', '40000-49999', '50000-69999', '>=70000']\n",
    "rows = ['<25', '25-34', '35-44', '45-54', '55-64', '>65']\n",
    "\n",
    "# Construct food and pop DataFrames\n",
    "food = pd.DataFrame(food_list, columns = cols, index = rows)\n",
    "pop = pd.DataFrame(pop_list, columns = cols, index = rows)\n",
    "\n",
    "print('Average Annual Food Expenditures:\\n', food)\n",
    "print('\\nPopulation Count:\\n',pop)"
   ]
  },
  {
   "cell_type": "markdown",
   "metadata": {},
   "source": [
    "## Plot Expenditures for Consumers with Incomes Greater than \\$70,000"
   ]
  },
  {
   "cell_type": "markdown",
   "metadata": {},
   "source": [
    "Now that we have our data in hand, we can start plotting the relationships we want to see. For our purposes, we are interested in three views related to consumers who have incomes in excess of \\$70,000:\n",
    "\n",
    "1. Average food expenditure by age\n",
    "2. Population size by age\n",
    "3. Total food expenditure by age (the product of average expenditure and population)\n",
    "\n",
    "It's a bit easier to achieve these tasks if we isolate the series we want upfront, and calculate the data for view #3."
   ]
  },
  {
   "cell_type": "code",
   "execution_count": 66,
   "metadata": {},
   "outputs": [
    {
     "data": {
      "text/html": [
       "<div>\n",
       "<style>\n",
       "    .dataframe thead tr:only-child th {\n",
       "        text-align: right;\n",
       "    }\n",
       "\n",
       "    .dataframe thead th {\n",
       "        text-align: left;\n",
       "    }\n",
       "\n",
       "    .dataframe tbody tr th {\n",
       "        vertical-align: top;\n",
       "    }\n",
       "</style>\n",
       "<table border=\"1\" class=\"dataframe\">\n",
       "  <thead>\n",
       "    <tr style=\"text-align: right;\">\n",
       "      <th></th>\n",
       "      <th>age</th>\n",
       "      <th>food</th>\n",
       "      <th>pop</th>\n",
       "      <th>market</th>\n",
       "      <th>food_lab</th>\n",
       "      <th>pop_lab</th>\n",
       "      <th>market_lab</th>\n",
       "    </tr>\n",
       "  </thead>\n",
       "  <tbody>\n",
       "    <tr>\n",
       "      <th>0</th>\n",
       "      <td>25-34</td>\n",
       "      <td>9232.0</td>\n",
       "      <td>7550.0</td>\n",
       "      <td>69.701600</td>\n",
       "      <td>$9,232</td>\n",
       "      <td>7,550</td>\n",
       "      <td>$69.7</td>\n",
       "    </tr>\n",
       "    <tr>\n",
       "      <th>1</th>\n",
       "      <td>35-44</td>\n",
       "      <td>11862.0</td>\n",
       "      <td>10436.0</td>\n",
       "      <td>123.791832</td>\n",
       "      <td>$11,862</td>\n",
       "      <td>10,436</td>\n",
       "      <td>$123.8</td>\n",
       "    </tr>\n",
       "    <tr>\n",
       "      <th>2</th>\n",
       "      <td>45-54</td>\n",
       "      <td>11812.0</td>\n",
       "      <td>12681.0</td>\n",
       "      <td>149.787972</td>\n",
       "      <td>$11,812</td>\n",
       "      <td>12,681</td>\n",
       "      <td>$149.8</td>\n",
       "    </tr>\n",
       "    <tr>\n",
       "      <th>3</th>\n",
       "      <td>55-64</td>\n",
       "      <td>10301.0</td>\n",
       "      <td>9961.0</td>\n",
       "      <td>102.608261</td>\n",
       "      <td>$10,301</td>\n",
       "      <td>9,961</td>\n",
       "      <td>$102.6</td>\n",
       "    </tr>\n",
       "    <tr>\n",
       "      <th>4</th>\n",
       "      <td>&gt;65</td>\n",
       "      <td>9631.0</td>\n",
       "      <td>5379.0</td>\n",
       "      <td>51.805149</td>\n",
       "      <td>$9,631</td>\n",
       "      <td>5,379</td>\n",
       "      <td>$51.8</td>\n",
       "    </tr>\n",
       "  </tbody>\n",
       "</table>\n",
       "</div>"
      ],
      "text/plain": [
       "     age     food      pop      market food_lab pop_lab market_lab\n",
       "0  25-34   9232.0   7550.0   69.701600   $9,232   7,550      $69.7\n",
       "1  35-44  11862.0  10436.0  123.791832  $11,862  10,436     $123.8\n",
       "2  45-54  11812.0  12681.0  149.787972  $11,812  12,681     $149.8\n",
       "3  55-64  10301.0   9961.0  102.608261  $10,301   9,961     $102.6\n",
       "4    >65   9631.0   5379.0   51.805149   $9,631   5,379      $51.8"
      ]
     },
     "execution_count": 66,
     "metadata": {},
     "output_type": "execute_result"
    }
   ],
   "source": [
    "# Capture >70k consumer data in a new DataFrame\n",
    "food70 = pd.DataFrame({\n",
    "    'food': food['>=70000'],\n",
    "    'pop': pop['>=70000']\n",
    "})\n",
    "\n",
    "# Note that we don't have data for folks under 25, so we can drop the NaN values\n",
    "food70 = food70.dropna()\n",
    "\n",
    "# Calculate total expenditure by age\n",
    "# (Note that the population is in thousands, so we need to adjust. We want our final answer in billions)\n",
    "food70['market'] = ((food70['pop'] * 1000) * food70['food']) / 1000000000\n",
    "\n",
    "# Add an integer index (by pushing age into a normal variable) to ease plotting\n",
    "food70 = food70.reset_index().rename(columns={'index':'age'})\n",
    "\n",
    "# Add formatted values for easy reading\n",
    "food70['food_lab'] = food70['food'].apply(lambda x: '${:,.0f}'.format(x))\n",
    "food70['pop_lab'] = food70['pop'].apply(lambda x: '{:,}'.format(int(x)))\n",
    "food70['market_lab'] = food70['market'].apply(lambda x: '${:,.1f}'.format(x))\n",
    "\n",
    "food70"
   ]
  },
  {
   "cell_type": "markdown",
   "metadata": {},
   "source": [
    "At long last, we are in a position to generate reusable and interactive charts.  Let's execute one view at a time, making sure we provide the capability to manipulate the chart and get information when we hover over individual plot elements."
   ]
  },
  {
   "cell_type": "code",
   "execution_count": 78,
   "metadata": {},
   "outputs": [
    {
     "name": "stdout",
     "output_type": "stream",
     "text": [
      "<iframe src=../figs/bokeh_food_age_income_spend.html width=650 height=450></iframe>\n"
     ]
    },
    {
     "data": {
      "text/html": [
       "<iframe src=../figs/bokeh_food_age_income_spend.html width=650 height=450></iframe>"
      ],
      "text/plain": [
       "<IPython.core.display.HTML object>"
      ]
     },
     "execution_count": 78,
     "metadata": {},
     "output_type": "execute_result"
    }
   ],
   "source": [
    "# Define location of output file\n",
    "bp.output_file(fig_dir+'bokeh_food_age_income_spend.html')\n",
    "\n",
    "# Capture data as a ColumnDataSource object (useful for labeling)\n",
    "source = bm.ColumnDataSource(data=food70)\n",
    "\n",
    "# Define plot tools\n",
    "hover = bm.HoverTool(tooltips=[\n",
    "    (\"Age\", \"@age\"),\n",
    "    (\"Avg Spend\", \"@food_lab\")\n",
    "])\n",
    "plot_tools = \"pan, reset\"\n",
    "\n",
    "\n",
    "# Create a figure upon which to draw our chart\n",
    "fig = bp.figure(plot_width=600, plot_height=400, y_range=(0, 13000), tools=[hover, plot_tools])\n",
    "\n",
    "# Plot data as vertical bars\n",
    "# (Note that bokeh needs numeric values for the x axis, we can map age labels in after the fact)\n",
    "fig.vbar(x='index', width=0.8, bottom=0, top='food', color='#6382b5', source=source)\n",
    "\n",
    "# Annotate plot\n",
    "fig.title.text = \"Average Annual Expenditure on Food by Age\"\n",
    "fig.xaxis.axis_label = \"Age\"\n",
    "labels = bm.LabelSet(x='index', y='food', text='food_lab', level='glyph', text_align='center',\n",
    "                     y_offset=-30, render_mode='css', source=source, text_color='#ffffff', text_font_style='bold')\n",
    "fig.add_layout(labels)\n",
    "\n",
    "# Map x tick positions to labels (remember we dropped <25)\n",
    "label_map = dict(zip(food70.index, food70['age']))\n",
    "js_format = \"\"\"\n",
    "    var labels = {};\n",
    "    return labels[tick];\n",
    "\"\"\".format(label_map)\n",
    "fig.xaxis.formatter = bm.FuncTickFormatter(code=js_format)\n",
    "\n",
    "# Remove y axis\n",
    "fig.yaxis.visible = False\n",
    "\n",
    "# Remove grid lines\n",
    "fig.xgrid.grid_line_color = None\n",
    "fig.ygrid.grid_line_color = None\n",
    "fig.outline_line_color = None\n",
    "\n",
    "# Show the figure\n",
    "bp.save(fig)\n",
    "\n",
    "show_iframe(fig_dir+'bokeh_food_age_income_spend.html', iwidth=650, iheight=450)"
   ]
  },
  {
   "cell_type": "code",
   "execution_count": 83,
   "metadata": {},
   "outputs": [
    {
     "name": "stdout",
     "output_type": "stream",
     "text": [
      "<iframe src=../figs/bokeh_food_age_income_pop.html width=650 height=450></iframe>\n"
     ]
    },
    {
     "data": {
      "text/html": [
       "<iframe src=../figs/bokeh_food_age_income_pop.html width=650 height=450></iframe>"
      ],
      "text/plain": [
       "<IPython.core.display.HTML object>"
      ]
     },
     "execution_count": 83,
     "metadata": {},
     "output_type": "execute_result"
    }
   ],
   "source": [
    "# Define location of output file\n",
    "bp.output_file(fig_dir+'bokeh_food_age_income_pop.html')\n",
    "\n",
    "# Define plot tools\n",
    "hover = bm.HoverTool(tooltips=[\n",
    "    (\"Age\", \"@age\"),\n",
    "    (\"Avg Spend\", \"@pop_lab\")\n",
    "])\n",
    "plot_tools = \"pan, reset\"\n",
    "\n",
    "\n",
    "# Create a figure upon which to draw our chart\n",
    "fig = bp.figure(plot_width=600, plot_height=400, y_range=(0, 13000), tools=[hover, plot_tools])\n",
    "\n",
    "# Plot data as vertical bars\n",
    "# (Note that bokeh needs numeric values for the x axis, we can map age labels in after the fact)\n",
    "fig.vbar(x='index', width=0.8, bottom=0, top='pop', color='#890d13', source=source)\n",
    "\n",
    "# Annotate plot\n",
    "fig.title.text = \"Population by Age\"\n",
    "fig.xaxis.axis_label = \"Age\"\n",
    "labels = bm.LabelSet(x='index', y='pop', text='pop_lab', level='glyph', text_align='center',\n",
    "                     y_offset=-30, render_mode='css', source=source, text_color='#ffffff', text_font_style='bold')\n",
    "fig.add_layout(labels)\n",
    "\n",
    "# Map x tick positions to labels (remember we dropped <25)\n",
    "fig.xaxis.formatter = bm.FuncTickFormatter(code=js_format)\n",
    "\n",
    "# Remove unnecessary lines\n",
    "fig.yaxis.visible = False\n",
    "fig.xgrid.grid_line_color = None\n",
    "fig.ygrid.grid_line_color = None\n",
    "fig.outline_line_color = None\n",
    "\n",
    "# Show the figure\n",
    "bp.save(fig)\n",
    "\n",
    "show_iframe(fig_dir+'bokeh_food_age_income_pop.html', iwidth=650, iheight=450)"
   ]
  },
  {
   "cell_type": "code",
   "execution_count": 84,
   "metadata": {},
   "outputs": [
    {
     "name": "stdout",
     "output_type": "stream",
     "text": [
      "<iframe src=../figs/bokeh_food_age_income_market.html width=650 height=450></iframe>\n"
     ]
    },
    {
     "data": {
      "text/html": [
       "<iframe src=../figs/bokeh_food_age_income_market.html width=650 height=450></iframe>"
      ],
      "text/plain": [
       "<IPython.core.display.HTML object>"
      ]
     },
     "execution_count": 84,
     "metadata": {},
     "output_type": "execute_result"
    }
   ],
   "source": [
    "# Define location of output file\n",
    "bp.output_file(fig_dir+'bokeh_food_age_income_market.html')\n",
    "\n",
    "# Define plot tools\n",
    "hover = bm.HoverTool(tooltips=[\n",
    "    (\"Age\", \"@age\"),\n",
    "    (\"Avg Spend\", \"@market_lab\")\n",
    "])\n",
    "plot_tools = \"pan, reset\"\n",
    "\n",
    "\n",
    "# Create a figure upon which to draw our chart\n",
    "fig = bp.figure(plot_width=600, plot_height=400, y_range=(0, 160), tools=[hover, plot_tools])\n",
    "\n",
    "# Plot data as vertical bars\n",
    "# (Note that bokeh needs numeric values for the x axis, we can map age labels in after the fact)\n",
    "fig.vbar(x='index', width=0.8, bottom=0, top='market', color='#539e68', source=source)\n",
    "\n",
    "# Annotate plot\n",
    "fig.title.text = \"Total Expenditure by Age\"\n",
    "fig.xaxis.axis_label = \"Age\"\n",
    "labels = bm.LabelSet(x='index', y='market', text='market_lab', level='glyph', text_align='center',\n",
    "                     y_offset=-30, render_mode='css', source=source, text_color='#ffffff', text_font_style='bold')\n",
    "fig.add_layout(labels)\n",
    "\n",
    "# Map x tick positions to labels (remember we dropped <25)\n",
    "fig.xaxis.formatter = bm.FuncTickFormatter(code=js_format)\n",
    "\n",
    "# Remove unnecessary lines\n",
    "fig.yaxis.visible = False\n",
    "fig.xgrid.grid_line_color = None\n",
    "fig.ygrid.grid_line_color = None\n",
    "fig.outline_line_color = None\n",
    "\n",
    "# Show the figure\n",
    "bp.save(fig)\n",
    "\n",
    "show_iframe(fig_dir+'bokeh_food_age_income_market.html', iwidth=650, iheight=450)"
   ]
  }
 ],
 "metadata": {
  "kernelspec": {
   "display_name": "Python 3",
   "language": "python",
   "name": "python3"
  },
  "language_info": {
   "codemirror_mode": {
    "name": "ipython",
    "version": 3
   },
   "file_extension": ".py",
   "mimetype": "text/x-python",
   "name": "python",
   "nbconvert_exporter": "python",
   "pygments_lexer": "ipython3",
   "version": "3.6.3"
  }
 },
 "nbformat": 4,
 "nbformat_minor": 2
}
